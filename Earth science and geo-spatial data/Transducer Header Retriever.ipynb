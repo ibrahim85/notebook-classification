{
 "cells": [
  {
   "cell_type": "code",
   "execution_count": 1,
   "metadata": {
    "collapsed": true
   },
   "outputs": [],
   "source": [
    "%matplotlib inline\n",
    "import pandas as pd\n",
    "import numpy as np\n",
    "import os\n",
    "import glob\n",
    "import re\n",
    "import xmltodict\n",
    "import matplotlib.pyplot as plt\n",
    "import matplotlib.dates as dates\n",
    "import matplotlib.ticker as tick\n",
    "from matplotlib.backends.backend_pdf import PdfPages\n",
    "import statsmodels.tsa.tsatools as tools\n",
    "from pandas.stats.api import ols\n",
    "from datetime import datetime\n",
    "from pylab import rcParams\n",
    "rcParams['figure.figsize'] = 15, 10"
   ]
  },
  {
   "cell_type": "code",
   "execution_count": null,
   "metadata": {
    "collapsed": true
   },
   "outputs": [],
   "source": [
    "def getfilename(path):\n",
    "    '''\n",
    "    this function extracts the file name without file path or extension\n",
    "    '''\n",
    "    return path.split('\\\\').pop().split('/').pop().rsplit('.', 1)[0]"
   ]
  },
  {
   "cell_type": "code",
   "execution_count": 34,
   "metadata": {
    "collapsed": true
   },
   "outputs": [],
   "source": [
    "def xleHeadTable(folder):\n",
    "    '''\n",
    "    RETURNS\n",
    "    A pandas dataframe containing the transducer data\n",
    "    '''\n",
    "    # open text file\n",
    "    \n",
    "    filenames = [os.path.join(folder,fn) for fn in next(os.walk(folder))[2]]\n",
    "    \n",
    "    instType, modelNum, serialNum, firmWare, project, well, stopTime, batteryPct = [],[],[],[],[],[],[],[] \n",
    "    \n",
    "    for infile in filenames:\n",
    "       \n",
    "        # get the extension of the input file\n",
    "        filename, filetype = os.path.splitext(infile)\n",
    "        if filetype=='.xle':\n",
    "            # open text file\n",
    "            with open(infile) as fd:\n",
    "                # parse xml\n",
    "                obj = xmltodict.parse(fd.read(),encoding=\"ISO-8859-1\")\n",
    "            # navigate through xml to the data\n",
    "            instType.append(obj['Body_xle']['Instrument_info']['Instrument_type'])          \n",
    "            modelNum.append(obj['Body_xle']['Instrument_info']['Model_number'])  \n",
    "            serialNum.append(obj['Body_xle']['Instrument_info']['Serial_number'])\n",
    "            batteryPct.append(obj['Body_xle']['Instrument_info']['Battery_level'])\n",
    "            firmWare.append(obj['Body_xle']['Instrument_info']['Firmware'])\n",
    "            project.append(obj['Body_xle']['Instrument_info_data_header']['Project_ID'])\n",
    "            well.append(obj['Body_xle']['Instrument_info_data_header']['Location'])\n",
    "            stopTime.append(obj['Body_xle']['Instrument_info_data_header']['Stop_time'])\n",
    "    properties = pd.DataFrame({'instType':instType, 'modelNum':modelNum, 'serialNum':serialNum, 'firmWare':firmWare, \n",
    "                               'project':project, 'well':well, 'stopTime':stopTime, 'batteryPct':batteryPct})\n",
    "\n",
    "    return properties\n"
   ]
  },
  {
   "cell_type": "code",
   "execution_count": 35,
   "metadata": {
    "collapsed": false
   },
   "outputs": [],
   "source": [
    "transSnakeSum = xleHeadTable('E:\\\\Snake Valley Water\\\\Transducer Data\\\\Raw_data_archive\\\\2015\\\\2015 q2\\\\')\n",
    "transSnakeSum.to_clipboard()"
   ]
  },
  {
   "cell_type": "code",
   "execution_count": 38,
   "metadata": {
    "collapsed": true
   },
   "outputs": [],
   "source": [
    "transRichSum = xleHeadTable('U:\\\\GWP\\\\Wetland\\\\PiezometerData\\\\2015_1\\\\Raw\\\\')\n",
    "transRichSum.to_clipboard()"
   ]
  },
  {
   "cell_type": "code",
   "execution_count": 41,
   "metadata": {
    "collapsed": true
   },
   "outputs": [],
   "source": [
    "transWashSum = xleHeadTable('U:\\\\GWP\\\\Groundwater\\\\Courthouse_Wash_Transducer_Data\\\\')\n",
    "transWashSum.to_clipboard()"
   ]
  },
  {
   "cell_type": "code",
   "execution_count": 40,
   "metadata": {
    "collapsed": true
   },
   "outputs": [],
   "source": [
    "transOfficeSum = xleHeadTable('E:\\\\Transducers\\\\')\n",
    "transOfficeSum.to_clipboard()"
   ]
  }
 ],
 "metadata": {
  "kernelspec": {
   "display_name": "Python 2",
   "language": "python",
   "name": "python2"
  },
  "language_info": {
   "codemirror_mode": {
    "name": "ipython",
    "version": 2
   },
   "file_extension": ".py",
   "mimetype": "text/x-python",
   "name": "python",
   "nbconvert_exporter": "python",
   "pygments_lexer": "ipython2",
   "version": "2.7.8"
  }
 },
 "nbformat": 4,
 "nbformat_minor": 0
}
