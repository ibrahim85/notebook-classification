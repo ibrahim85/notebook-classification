{
 "cells": [
  {
   "cell_type": "code",
   "execution_count": 1,
   "metadata": {
    "collapsed": true
   },
   "outputs": [],
   "source": [
    "import smtplib\n",
    "import numpy as np\n",
    "import pandas as pd"
   ]
  },
  {
   "cell_type": "code",
   "execution_count": 105,
   "metadata": {
    "collapsed": false
   },
   "outputs": [],
   "source": [
    "def send_email(user, pwd, recipient, subject, body):\n",
    "    import smtplib\n",
    "\n",
    "    gmail_user = user\n",
    "    gmail_pwd = pwd\n",
    "    FROM = user\n",
    "    TO = recipient if type(recipient) is list else [recipient]\n",
    "    SUBJECT = subject\n",
    "    TEXT = body\n",
    "\n",
    "    # Prepare actual message\n",
    "    message = \"\"\"\\From: %s\\nTo: %s\\nSubject: %s\\n\\n%s\n",
    "    \"\"\" % (FROM, \", \".join(TO), SUBJECT, TEXT)\n",
    "    try:\n",
    "        server = smtplib.SMTP(\"smtp.gmail.com\", 587)\n",
    "        server.ehlo()\n",
    "        server.starttls()\n",
    "        server.login(gmail_user, gmail_pwd)\n",
    "        server.sendmail(FROM, TO, message)\n",
    "        server.close()\n",
    "        print 'successfully sent the mail'\n",
    "    except:\n",
    "        print \"failed to send mail\"\n",
    "        \n",
    "def gradeStatus(grade):\n",
    "    grade = float(grade)*100.0\n",
    "    if grade >= 90.0:\n",
    "        return ', which means you are doing great! Keep up the good work!'\n",
    "    elif grade < 90.0 and grade >= 80.0:\n",
    "        return ', which means your are doing well.'\n",
    "    elif grade < 80.0 and grade >= 70.0:\n",
    "        return ', which means you are doing ok, but could improve a bit.'\n",
    "    elif grade < 70.0:\n",
    "        return ', which means you are having some trouble, and we should talk if you want.'\n",
    "    else:\n",
    "        return '.'\n",
    "\n",
    "def informalgreet():\n",
    "    i = np.random.random_integers(0, high=4)\n",
    "    greet = ['I hope life is treating you well.', 'How are you doing?', \n",
    "             'I am glad that you are in my class.', 'How\\'s it going?', \n",
    "             'I hope things are going well for you.']\n",
    "    return greet[i]\n",
    "\n",
    "def signOff():\n",
    "    i = np.random.random_integers(0, high=5)\n",
    "    signOffs = ['Best,','Thanks,', 'Take care,', 'Regards,', 'Thank You,', 'Sincerely,']\n",
    "    return signOffs[i]\n",
    "\n",
    "def findMissing(x, head):\n",
    "    missing = []\n",
    "    for i in range(len(x)):\n",
    "        if x[i]== 0 or x[i]== None or x[i]=='' or x[i]=='Null' or np.isnan(x[i]):\n",
    "            missing.append(head[i])\n",
    "    if len(missing) == 0:\n",
    "        return ' You are not missing any assignments! Keep up the good work.'\n",
    "    elif len(missing) == 1:\n",
    "        return ' You are only missing the %s assignment.'%(missing[0])\n",
    "    elif len(missing) == 2:\n",
    "        message = ' You are missing your ' + missing[0] + ' and ' + missing[1] + '.'\n",
    "        return message\n",
    "    elif len(missing) > 2:\n",
    "        messageBeg = ' You are missing your '\n",
    "        messageMid = ', '.join(map(str, missing[0:-1]))\n",
    "        message = messageBeg + messageMid + ', and ' + missing[-1] + '.'\n",
    "        return message\n",
    "    else:\n",
    "        return ''"
   ]
  },
  {
   "cell_type": "code",
   "execution_count": null,
   "metadata": {
    "collapsed": true
   },
   "outputs": [],
   "source": [
    "rootsource = '/media/p/Transcend/PROJECTS/UMAR/data/21_Nov_20-50_Grades-GEO-1010-009-F15.csv'"
   ]
  },
  {
   "cell_type": "code",
   "execution_count": 60,
   "metadata": {
    "collapsed": false
   },
   "outputs": [],
   "source": [
    "ledger = pd.read_csv(rootsource, na_values=['(read only)','NaN'])\n",
    "ledgerlist = list(ledger.iloc[0,:])"
   ]
  },
  {
   "cell_type": "code",
   "execution_count": 73,
   "metadata": {
    "collapsed": false
   },
   "outputs": [],
   "source": [
    "ledgerindices = []\n",
    "for i in range(len(ledgerlist)):\n",
    "    if ledgerlist[i]>0:\n",
    "        ledgerindices.append(i)\n",
    "ledgerindices = ledgerindices[1:]\n",
    "\n",
    "totalPoints = 0\n",
    "for i in ledgerindices:\n",
    "    totalPoints += ledger.iloc[0,i]\n",
    "ledger['studPoints'] = ledger[ledgerindices].sum(axis=1)\n",
    "ledger['grade'] = ledger['studPoints']/ledger['studPoints'][0]\n",
    "ledger['firstName'] = ledger['Student'].apply(lambda x: x.split(' ')[0],1)\n",
    "ledger['lastName'] = ledger['Student'].apply(lambda x: x.split(' ')[1],1)\n",
    "headers = ledger.columns[ledgerindices]\n",
    "headCols = [i.split(' (')[0] for i in list(headers)]\n",
    "ledger['email'] = ledger['SIS Login ID'][i]"
   ]
  },
  {
   "cell_type": "code",
   "execution_count": 1,
   "metadata": {
    "collapsed": false
   },
   "outputs": [
    {
     "ename": "NameError",
     "evalue": "name 'ledger' is not defined",
     "output_type": "error",
     "traceback": [
      "\u001b[1;31m---------------------------------------------------------------------------\u001b[0m",
      "\u001b[1;31mNameError\u001b[0m                                 Traceback (most recent call last)",
      "\u001b[1;32m<ipython-input-1-6c1533b606a7>\u001b[0m in \u001b[0;36m<module>\u001b[1;34m()\u001b[0m\n\u001b[1;32m----> 1\u001b[1;33m \u001b[1;32mfor\u001b[0m \u001b[0mi\u001b[0m \u001b[1;32min\u001b[0m \u001b[0mrange\u001b[0m\u001b[1;33m(\u001b[0m\u001b[0mlen\u001b[0m\u001b[1;33m(\u001b[0m\u001b[0mledger\u001b[0m\u001b[1;33m)\u001b[0m\u001b[1;33m)\u001b[0m\u001b[1;33m:\u001b[0m\u001b[1;33m\u001b[0m\u001b[0m\n\u001b[0m\u001b[0;32m      2\u001b[0m     \u001b[0mname\u001b[0m \u001b[1;33m=\u001b[0m \u001b[0mledger\u001b[0m\u001b[1;33m[\u001b[0m\u001b[1;34m'firstName'\u001b[0m\u001b[1;33m]\u001b[0m\u001b[1;33m[\u001b[0m\u001b[0mi\u001b[0m\u001b[1;33m]\u001b[0m\u001b[1;33m\u001b[0m\u001b[0m\n\u001b[0;32m      3\u001b[0m     \u001b[0mstudList\u001b[0m \u001b[1;33m=\u001b[0m \u001b[0mledger\u001b[0m\u001b[1;33m.\u001b[0m\u001b[0miloc\u001b[0m\u001b[1;33m[\u001b[0m\u001b[0mi\u001b[0m\u001b[1;33m,\u001b[0m\u001b[0mledgerindices\u001b[0m\u001b[1;33m]\u001b[0m\u001b[1;33m\u001b[0m\u001b[0m\n\u001b[0;32m      4\u001b[0m     \u001b[0mstudPoints\u001b[0m \u001b[1;33m=\u001b[0m \u001b[0mledger\u001b[0m\u001b[1;33m[\u001b[0m\u001b[1;34m'studPoints'\u001b[0m\u001b[1;33m]\u001b[0m\u001b[1;33m[\u001b[0m\u001b[0mi\u001b[0m\u001b[1;33m]\u001b[0m\u001b[1;33m\u001b[0m\u001b[0m\n\u001b[0;32m      5\u001b[0m     \u001b[0mmissing\u001b[0m \u001b[1;33m=\u001b[0m \u001b[0mfindMissing\u001b[0m\u001b[1;33m(\u001b[0m\u001b[0mlist\u001b[0m\u001b[1;33m(\u001b[0m\u001b[0mstudList\u001b[0m\u001b[1;33m)\u001b[0m\u001b[1;33m,\u001b[0m \u001b[0mheadCols\u001b[0m\u001b[1;33m)\u001b[0m\u001b[1;33m\u001b[0m\u001b[0m\n",
      "\u001b[1;31mNameError\u001b[0m: name 'ledger' is not defined"
     ]
    }
   ],
   "source": [
    "for i in range(len(ledger)):\n",
    "    name = ledger['firstName'][i]\n",
    "    studList = ledger.iloc[i,ledgerindices]\n",
    "    studPoints = ledger['studPoints'][i]\n",
    "    missing = findMissing(list(studList), headCols)\n",
    "    grade = str(round(ledger['grade'][i]*100,1))+'%'\n",
    "    gradestatus = gradeStatus(ledger['grade'][i])\n",
    "    email = str(ledger['SIS Login ID'][i])+'@slcc.edu'\n",
    "    print email\n",
    "    personalMess = ''\n",
    "    body = ('''%s,\\n     %s You have %s out of %s points in my class (%s)%s%s%s\\n\\n%s\\nPaul'''% (name, informalgreet(), studPoints, totalPoints, grade, gradestatus, missing, personalMess, signOff()))\n"
   ]
  },
  {
   "cell_type": "code",
   "execution_count": null,
   "metadata": {
    "collapsed": false
   },
   "outputs": [],
   "source": []
  },
  {
   "cell_type": "code",
   "execution_count": null,
   "metadata": {
    "collapsed": false
   },
   "outputs": [],
   "source": []
  },
  {
   "cell_type": "code",
   "execution_count": null,
   "metadata": {
    "collapsed": true
   },
   "outputs": [],
   "source": []
  },
  {
   "cell_type": "code",
   "execution_count": null,
   "metadata": {
    "collapsed": true
   },
   "outputs": [],
   "source": []
  }
 ],
 "metadata": {
  "kernelspec": {
   "display_name": "Python 2",
   "language": "python",
   "name": "python2"
  },
  "language_info": {
   "codemirror_mode": {
    "name": "ipython",
    "version": 2
   },
   "file_extension": ".py",
   "mimetype": "text/x-python",
   "name": "python",
   "nbconvert_exporter": "python",
   "pygments_lexer": "ipython2",
   "version": "2.7.11"
  }
 },
 "nbformat": 4,
 "nbformat_minor": 0
}
