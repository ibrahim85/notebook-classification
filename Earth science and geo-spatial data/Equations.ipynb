{
 "metadata": {
  "name": "",
  "signature": "sha256:9b0cc2fd27f3bfcf9c967b0c10453646c40459aecdb08a3bd489ac4e4123aaf6"
 },
 "nbformat": 3,
 "nbformat_minor": 0,
 "worksheets": [
  {
   "cells": [
    {
     "cell_type": "markdown",
     "metadata": {},
     "source": [
      "\n",
      "$$\\large c_{_j}=\\frac{1}{M_{_{out}}}$$\n"
     ]
    },
    {
     "cell_type": "markdown",
     "metadata": {},
     "source": [
      "$$\n",
      "c_i=\\text{standardized concentrations of dye at time i in} \\frac{\\big(\\frac {mg}{L}\\big)}{kg}\\\\\n",
      "M_{out}=\\text{mass of dye recovered in }kg=24 kg \n",
      "$$"
     ]
    },
    {
     "cell_type": "markdown",
     "metadata": {},
     "source": [
      "$$\n",
      "\\large L_{_i}=28.32c_{_i}Q_{_i}\n",
      "$$"
     ]
    },
    {
     "cell_type": "markdown",
     "metadata": {},
     "source": [
      "\t\tL_i= normalized dye load at time i in (mg/s)/kg\n",
      "\t\tQ_i=discharge of spring at time i in cubic feet per second (cfs)\n"
     ]
    },
    {
     "cell_type": "markdown",
     "metadata": {},
     "source": [
      "$$\n",
      "\\large t_{_{avg}} ={\\frac{\\sum_{i=1}^n (t_{_i} c_{_i} \\Delta t_{_i} Q_{_i})}{\\sum_{i=1}^n (c_{_i} \\Delta t_{_i} Q_{_i})}}\n",
      "$$"
     ]
    },
    {
     "cell_type": "markdown",
     "metadata": {},
     "source": [
      "$$\\large \\sigma =\\sqrt{\\frac{\\sum_{i=1}^n ((t_{_i}-t_{_{avg}})^2 c_{_i} \\Delta t_{_i} Q_{_i})}{\\sum_{i=1}^n (c_{_i} \\Delta t_{_i} Q_{_i})}} $$"
     ]
    },
    {
     "cell_type": "code",
     "collapsed": false,
     "input": [
      "\\sigma = \\text{standard deviation of travel time}"
     ],
     "language": "python",
     "metadata": {},
     "outputs": []
    },
    {
     "cell_type": "markdown",
     "metadata": {},
     "source": [
      "$$\\large v_{_{avg}}=\\frac {d}{3600\\,t_{_{avg}}}$$"
     ]
    },
    {
     "cell_type": "markdown",
     "metadata": {},
     "source": [
      "$$\n",
      "v_{avg}=\\text{mean velocity of groundwater flow in feet per second } \\Big(\\frac {ft}{s}\\Big)\\\\\n",
      "d=\\text{map distance of trace in } ft\n",
      "$$"
     ]
    },
    {
     "cell_type": "markdown",
     "metadata": {},
     "source": []
    },
    {
     "cell_type": "code",
     "collapsed": false,
     "input": [],
     "language": "python",
     "metadata": {},
     "outputs": []
    }
   ],
   "metadata": {}
  }
 ]
}