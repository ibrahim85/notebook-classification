{
 "cells": [
  {
   "cell_type": "code",
   "execution_count": 1,
   "metadata": {
    "collapsed": true
   },
   "outputs": [],
   "source": [
    "from pylab import *\n",
    "import subprocess\n",
    "%matplotlib inline"
   ]
  },
  {
   "cell_type": "code",
   "execution_count": 2,
   "metadata": {
    "collapsed": true
   },
   "outputs": [],
   "source": [
    "standard = 0.91 # umol/l 3.58 for Fe, 0.91 for Mn, 0.13 for As\n",
    "no_cycles = 10 # max number of cycles\n",
    "no_shifts = 10 # max number of shifts to reinject\n",
    "model_results = NaN*zeros((no_cycles*no_shifts,6))\n",
    "# phreeqc input files\n"
   ]
  },
  {
   "cell_type": "code",
   "execution_count": 3,
   "metadata": {
    "collapsed": false
   },
   "outputs": [],
   "source": [
    "fn_injection = 'E:\\\\PROJECTS\\\\UMAR\\\\Publications\\\\NitrificationPHREEQc\\\\Phrqc1.pqi'\n",
    "fn_recovery = 'E:\\\\PROJECTS\\\\UMAR\\\\Publications\\\\NitrificationPHREEQc\\\\Phrqc2.pqi'\n",
    "fn_reinjection = 'E:\\\\PROJECTS\\\\UMAR\\\\Publications\\\\NitrificationPHREEQc\\\\Phrqc3.pqi'\n",
    "path = 'C:\\\\Program Files (x86)\\\\USGS\\\\Phreeqc Interactive 3.3.0-10251'\n",
    "phreeqc_exe_name = 'C:\\\\Program Files (x86)\\\\USGS\\\\Phreeqc Interactive 3.3.0-10251\\\\bin\\\\phreeqci.exe'\n",
    "phreeqc_output_name = 'E:\\\\PROJECTS\\\\UMAR\\\\Publications\\\\NitrificationPHREEQc\\\\Phrqc1.pqo'\n",
    "phreeqc_output_name2 = 'E:\\\\PROJECTS\\\\UMAR\\\\Publications\\\\NitrificationPHREEQc\\\\Phrqc2.pqo'\n",
    "phreeqc_output_name3 = 'E:\\\\PROJECTS\\\\UMAR\\\\Publications\\\\NitrificationPHREEQc\\\\Phrqc3.pqo'\n",
    "phreeqc_db_name = 'C:\\\\Program Files (x86)\\\\USGS\\\\Phreeqc Interactive 3.3.0-10251\\\\database\\\\wateq4f.dat'\n",
    "inputfilename = fn_injection\n"
   ]
  },
  {
   "cell_type": "code",
   "execution_count": null,
   "metadata": {
    "collapsed": false
   },
   "outputs": [],
   "source": [
    "subprocess.call(('%s %s %s %s' % (phreeqc_exe_name, inputfilename, phreeqc_output_name, phreeqc_db_name)))\n",
    "for cycle in range(0,no_cycles):\n",
    "    if cycle > 0:\n",
    "        inputfilename = fn_reinjection\n",
    "        subprocess.call(('%s %s %s %s' % (phreeqc_exe_name, inputfilename,\n",
    "        phreeqc_output_name, phreeqc_db_name)))\n",
    "    for shift in range(0,no_shifts):\n",
    "        inputfilename = fn_recovery\n",
    "        subprocess.call(('%s %s %s %s' % (phreeqc_exe_name, inputfilename,\n",
    "        phreeqc_output_name2, phreeqc_db_name)))\n",
    "        recovery = loadtxt('E:\\\\PROJECTS\\\\UMAR\\\\Publications\\\\NitrificationPHREEQc\\\\recovery.prn', skiprows=2)\n",
    "        Fe_conc = recovery[2]\n",
    "        Mn_conc = recovery[3]\n",
    "        As_conc = recovery[16]\n",
    "        model_results[cycle*no_shifts+shift, 0] = cycle+1\n",
    "        model_results[cycle*no_shifts+shift, 1] = shift+1\n",
    "        model_results[cycle*no_shifts+shift, 2] = (shift+0.99)/no_shifts\n",
    "        model_results[cycle*no_shifts+shift, 3] = Fe_conc\n",
    "        model_results[cycle*no_shifts+shift, 4] = Mn_conc\n",
    "        model_results[cycle*no_shifts+shift, 5] = As_conc\n",
    "        if Mn_conc > standard: #change according to which element we use as threshold\n",
    "            break"
   ]
  },
  {
   "cell_type": "code",
   "execution_count": null,
   "metadata": {
    "collapsed": true
   },
   "outputs": [],
   "source": [
    "x1 = model_results[model_results[:,0]==1]\n",
    "x2 = model_results[model_results[:,0]==2]\n",
    "x3 = model_results[model_results[:,0]==3]\n",
    "x4 = model_results[model_results[:,0]==4]\n",
    "x5 = model_results[model_results[:,0]==5]\n",
    "x6 = model_results[model_results[:,0]==6]\n",
    "x7 = model_results[model_results[:,0]==7]\n",
    "x8 = model_results[model_results[:,0]==8]\n",
    "x9 = model_results[model_results[:,0]==9]\n",
    "x10 = model_results[model_results[:,0]==10]\n",
    "figure()\n",
    "rc('savefig', dpi = 300)\n",
    "rc('xtick', labelsize = 13)\n",
    "rc('ytick', labelsize = 13)\n",
    "rc('font', size = 14)\n",
    "rc('legend', fontsize = 14)\n",
    "rc('figure', figsize = (14,14))\n",
    "markersize = 13\n",
    "linewidth = 2\n",
    "subplot(1,3,1)\n",
    "hold(True)\n",
    "a1 = plot(x1[:,2],x1[:,3], 'r.', ms = markersize)\n",
    "a2 = plot(x2[:,2],x2[:,3], 'b.', ms = markersize)\n",
    "a3 = plot(x3[:,2],x3[:,3], 'g.', ms = markersize)\n",
    "a4 = plot(x4[:,2],x4[:,3], 'k.', ms = markersize)\n",
    "a5 = plot(x5[:,2],x5[:,3], 'y.', ms = markersize)\n",
    "a6 = plot(x6[:,2],x6[:,3], 'r.', ms = markersize)\n",
    "a7 = plot(x7[:,2],x7[:,3], 'b.', ms = markersize)\n",
    "a8 = plot(x8[:,2],x8[:,3], 'g.', ms = markersize)\n",
    "a9 = plot(x9[:,2],x9[:,3], 'k.', ms = markersize)\n",
    "a10 = plot(x10[:,2],x10[:,3], 'y.', ms = markersize)\n",
    "ylabel('Fe (umol/l)')\n",
    "xlabel('V/Vi')\n",
    "xlim(0,1)\n",
    "l = plt.axhline(y=3.58, xmin=0, xmax=1)\n",
    "\n",
    "subplot(1,3,2)\n",
    "hold(True)\n",
    "a1 = plot(x1[:,2],x1[:,4], 'r.', ms = markersize)\n",
    "a2 = plot(x2[:,2],x2[:,4], 'b.', ms = markersize)\n",
    "a3 = plot(x3[:,2],x3[:,4], 'g.', ms = markersize)\n",
    "a4 = plot(x4[:,2],x4[:,4], 'k.', ms = markersize)\n",
    "a5 = plot(x5[:,2],x5[:,4], 'y.', ms = markersize)\n",
    "a6 = plot(x6[:,2],x6[:,4], 'r.', ms = markersize)\n",
    "a7 = plot(x7[:,2],x7[:,4], 'b.', ms = markersize)\n",
    "a8 = plot(x8[:,2],x8[:,4], 'g.', ms = markersize)\n",
    "a9 = plot(x9[:,2],x9[:,4], 'k.', ms = markersize)\n",
    "a10 = plot(x10[:,2],x10[:,4], 'y.', ms = markersize)\n",
    "ylabel('Mn (umol/l)')\n",
    "xlabel('V/Vi')\n",
    "xlim(0,1)\n",
    "l = plt.axhline(y=0.91, xmin=0, xmax=1)\n",
    "subplot(1,3,3)\n",
    "hold(True)\n",
    "a1 = plot(x1[:,2],x1[:,5], 'r.', ms = markersize)\n",
    "a2 = plot(x2[:,2],x2[:,5], 'b.', ms = markersize)\n",
    "a3 = plot(x3[:,2],x3[:,5], 'g.', ms = markersize)\n",
    "a4 = plot(x4[:,2],x4[:,5], 'k.', ms = markersize)\n",
    "a5 = plot(x5[:,2],x5[:,5], 'y.', ms = markersize)\n",
    "a6 = plot(x6[:,2],x6[:,5], 'r.', ms = markersize)\n",
    "a7 = plot(x7[:,2],x7[:,5], 'b.', ms = markersize)\n",
    "a8 = plot(x8[:,2],x8[:,5], 'g.', ms = markersize)\n",
    "a9 = plot(x9[:,2],x9[:,5], 'k.', ms = markersize)\n",
    "a10 = plot(x10[:,2],x10[:,5], 'y.', ms = markersize)\n",
    "ylabel('As (umol/l)')\n",
    "xlabel('V/Vi')\n",
    "xlim(0,1)\n",
    "l = plt.axhline(y=0.13, xmin=0, xmax=1)"
   ]
  },
  {
   "cell_type": "code",
   "execution_count": null,
   "metadata": {
    "collapsed": true
   },
   "outputs": [],
   "source": []
  }
 ],
 "metadata": {
  "kernelspec": {
   "display_name": "Python 2",
   "language": "python",
   "name": "python2"
  },
  "language_info": {
   "codemirror_mode": {
    "name": "ipython",
    "version": 2
   },
   "file_extension": ".py",
   "mimetype": "text/x-python",
   "name": "python",
   "nbconvert_exporter": "python",
   "pygments_lexer": "ipython2",
   "version": "2.7.8"
  }
 },
 "nbformat": 4,
 "nbformat_minor": 0
}
