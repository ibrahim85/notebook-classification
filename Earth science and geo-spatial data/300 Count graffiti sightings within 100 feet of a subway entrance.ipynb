{
 "metadata": {
  "name": "300 Count graffiti sightings within 100 feet of a subway entrance"
 },
 "nbformat": 3,
 "nbformat_minor": 0,
 "worksheets": [
  {
   "cells": [
    {
     "cell_type": "code",
     "collapsed": false,
     "input": [
      "from IPython.core.display import Image\n",
      "Image(filename='images/Xela-PazAmor.jpg')  # Xela"
     ],
     "language": "python",
     "metadata": {},
     "outputs": [],
     "prompt_number": 1
    },
    {
     "cell_type": "code",
     "collapsed": false,
     "input": [
      "Image(filename='images/StickerLady-TimeTravel.jpg')  # Singapore (Secret!)"
     ],
     "language": "python",
     "metadata": {},
     "outputs": [],
     "prompt_number": 2
    },
    {
     "cell_type": "code",
     "collapsed": false,
     "input": [
      "Image(filename='images/NeckFace-CreepingSleeping.jpg')  # Los Angeles"
     ],
     "language": "python",
     "metadata": {},
     "outputs": [],
     "prompt_number": 3
    },
    {
     "cell_type": "code",
     "collapsed": false,
     "input": [
      "Image(filename='images/NewYork-OldTimers.jpg')  # New York"
     ],
     "language": "python",
     "metadata": {},
     "outputs": [],
     "prompt_number": 4
    },
    {
     "cell_type": "markdown",
     "metadata": {},
     "source": [
      "Rebecca is an anthropologist who wants to understand New York through its graffiti.  Help her find the subway entrances with the most number of graffiti within a hundred foot radius.\n",
      "\n",
      "- [NYC Graffiti Locations](https://nycopendata.socrata.com/Other/Graffiti-Locations/2j99-6h29)\n",
      "- [NYC Subway Entrances](https://nycopendata.socrata.com/Transportation/Subway-Entrances/drex-xx56)"
     ]
    },
    {
     "cell_type": "code",
     "collapsed": false,
     "input": [
      "from pandas import read_csv\n",
      "graffiti = read_csv('datasets/NYC-GraffitiSightings.csv')\n",
      "subway = read_csv('datasets/NYC-SubwayEntrances.csv')"
     ],
     "language": "python",
     "metadata": {},
     "outputs": [],
     "prompt_number": 5
    },
    {
     "cell_type": "code",
     "collapsed": false,
     "input": [
      "graffiti.ix[0]"
     ],
     "language": "python",
     "metadata": {},
     "outputs": [],
     "prompt_number": 6
    },
    {
     "cell_type": "code",
     "collapsed": false,
     "input": [
      "graffiti = graffiti[graffiti.Status == 'Open']"
     ],
     "language": "python",
     "metadata": {},
     "outputs": [],
     "prompt_number": 7
    },
    {
     "cell_type": "code",
     "collapsed": false,
     "input": [
      "graffitiXY = graffiti[['X Coordinate', 'Y Coordinate']]"
     ],
     "language": "python",
     "metadata": {},
     "outputs": [],
     "prompt_number": 8
    },
    {
     "cell_type": "code",
     "collapsed": false,
     "input": [
      "graffitiXY = graffitiXY.rename(columns={'X Coordinate': 'X', 'Y Coordinate': 'Y'})"
     ],
     "language": "python",
     "metadata": {},
     "outputs": [],
     "prompt_number": 9
    },
    {
     "cell_type": "code",
     "collapsed": false,
     "input": [
      "graffitiXY = graffitiXY.dropna()"
     ],
     "language": "python",
     "metadata": {},
     "outputs": [],
     "prompt_number": 10
    },
    {
     "cell_type": "code",
     "collapsed": false,
     "input": [
      "subway.ix[0]"
     ],
     "language": "python",
     "metadata": {},
     "outputs": [],
     "prompt_number": 11
    },
    {
     "cell_type": "code",
     "collapsed": false,
     "input": [
      "from pandas import Series\n",
      "from geometryIO import get_transformPoint, proj4LL\n",
      "\n",
      "proj4NY = '+proj=lcc +lat_1=41.03333333333333 +lat_2=40.66666666666666 +lat_0=40.16666666666666 +lon_0=-74 +x_0=300000.0000000001 +y_0=0 +ellps=GRS80 +datum=NAD83 +to_meter=0.3048006096012192 +no_defs'\n",
      "transformPoint = get_transformPoint(proj4LL, proj4NY)\n",
      "\n",
      "def parse_point(row):\n",
      "    string = row['Shape']\n",
      "    latitude, longitude = string.replace('(', '').replace(')', '').split(',')\n",
      "    x, y = transformPoint(float(longitude), float(latitude))\n",
      "    return Series(dict(ID=row['OBJECTID'], X=x, Y=y))\n",
      "subwayIDXY = subway.apply(parse_point, axis=1)\n",
      "subwayXY = subwayIDXY[['X', 'Y']]"
     ],
     "language": "python",
     "metadata": {},
     "outputs": [],
     "prompt_number": 12
    },
    {
     "cell_type": "markdown",
     "metadata": {},
     "source": [
      "# Count graffiti sightings within 100 feet of a subway entrance"
     ]
    },
    {
     "cell_type": "code",
     "collapsed": false,
     "input": [
      "from scipy.spatial import KDTree\n",
      "subwayXYValues = subwayXY.values\n",
      "subwayTree = KDTree(subwayXYValues)\n",
      "graffitiXYValues = graffitiXY.values\n",
      "graffitiTree = KDTree(graffitiXYValues)"
     ],
     "language": "python",
     "metadata": {},
     "outputs": [],
     "prompt_number": 13
    },
    {
     "cell_type": "code",
     "collapsed": false,
     "input": [
      "from itertools import izip\n",
      "from pandas import DataFrame\n",
      "\n",
      "graffitiXYIndexPacks = subwayTree.query_ball_tree(graffitiTree, r=100)\n",
      "results = []\n",
      "for subwayID, graffitiXYIndices in izip(subwayIDXY['ID'], graffitiXYIndexPacks):\n",
      "    results.append([subwayID, len(graffitiXYIndices)])\n",
      "subwayGraffiti = DataFrame(results, columns=['OBJECTID', 'COUNT'])"
     ],
     "language": "python",
     "metadata": {},
     "outputs": [],
     "prompt_number": 14
    },
    {
     "cell_type": "code",
     "collapsed": false,
     "input": [
      "subwayGraffiti = subwayGraffiti.merge(subway)\n",
      "subwayGraffiti.sort('COUNT', ascending=False)[['LINE', 'NAME', 'COUNT']].head()"
     ],
     "language": "python",
     "metadata": {},
     "outputs": [],
     "prompt_number": 15
    }
   ],
   "metadata": {}
  }
 ]
}