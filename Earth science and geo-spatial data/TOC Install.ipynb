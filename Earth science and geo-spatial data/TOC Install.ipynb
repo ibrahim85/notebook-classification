{
 "cells": [
  {
   "cell_type": "code",
   "execution_count": 1,
   "metadata": {
    "collapsed": false
   },
   "outputs": [
    {
     "name": "stdout",
     "output_type": "stream",
     "text": [
      "Installed tikzmagic.py. To use it, type:\n",
      "  %load_ext tikzmagic\n"
     ]
    },
    {
     "name": "stderr",
     "output_type": "stream",
     "text": [
      "c:\\python27\\arcgis10.3\\lib\\site-packages\\IPython\\core\\magics\\extension.py:47: UserWarning: %install_ext` is deprecated, please distribute your extension(s)as a python packages.\n",
      "  \"as a python packages.\", UserWarning)\n"
     ]
    }
   ],
   "source": [
    "%install_ext https://github.com/mkrphys/ipython-tikzmagic/blob/master/tikzmagic.py"
   ]
  },
  {
   "cell_type": "code",
   "execution_count": 12,
   "metadata": {
    "collapsed": false
   },
   "outputs": [
    {
     "name": "stdout",
     "output_type": "stream",
     "text": [
      "downloading https://raw.githubusercontent.com/ipython-contrib/IPython-notebook-extensions/master/nbextensions/config/main.js to c:\\users\\paulin~1\\appdata\\local\\temp\\tmpem9xuc\\main.js\n",
      "copying c:\\users\\paulin~1\\appdata\\local\\temp\\tmpem9xuc\\main.js -> C:\\Users\\PAULINKENBRANDT\\AppData\\Roaming\\jupyter\\nbextensions\\main.js\n"
     ]
    }
   ],
   "source": [
    "import notebook.nbextensions\n",
    "notebook.nbextensions.install_nbextension('https://raw.githubusercontent.com/ipython-contrib/IPython-notebook-extensions/master/nbextensions/config/main.js', user=True)"
   ]
  },
  {
   "cell_type": "code",
   "execution_count": 15,
   "metadata": {
    "collapsed": false
   },
   "outputs": [
    {
     "data": {
      "application/javascript": [
       "Jupyter.utils.load_extensions('main')"
      ],
      "text/plain": [
       "<IPython.core.display.Javascript object>"
      ]
     },
     "metadata": {},
     "output_type": "display_data"
    }
   ],
   "source": [
    "%%javascript\n",
    "Jupyter.utils.load_extensions('main')"
   ]
  },
  {
   "cell_type": "code",
   "execution_count": 16,
   "metadata": {
    "collapsed": false
   },
   "outputs": [
    {
     "data": {
      "text/plain": [
       "{u'load_extensions': {'config': True, u'gist': True, u'toc': True}}"
      ]
     },
     "execution_count": 16,
     "metadata": {},
     "output_type": "execute_result"
    }
   ],
   "source": [
    "from notebook.services.config import ConfigManager\n",
    "cm = ConfigManager()\n",
    "cm.update('notebook', {\"load_extensions\": {\"config\": True}})"
   ]
  },
  {
   "cell_type": "code",
   "execution_count": null,
   "metadata": {
    "collapsed": true
   },
   "outputs": [],
   "source": []
  },
  {
   "cell_type": "code",
   "execution_count": 2,
   "metadata": {
    "collapsed": false
   },
   "outputs": [
    {
     "name": "stderr",
     "output_type": "stream",
     "text": [
      "ERROR: Line magic function `%tikz` not found.\n"
     ]
    }
   ],
   "source": [
    "%tikz"
   ]
  },
  {
   "cell_type": "code",
   "execution_count": 3,
   "metadata": {
    "collapsed": false
   },
   "outputs": [
    {
     "name": "stdout",
     "output_type": "stream",
     "text": [
      "C:\\Users\\PAULINKENBRANDT\n"
     ]
    }
   ],
   "source": [
    "import os\n",
    " \n",
    "mypath = !ipython locate\n",
    "print os.path.dirname(mypath[0]) # output >> 'C:\\Users\\annahambi'"
   ]
  },
  {
   "cell_type": "code",
   "execution_count": 4,
   "metadata": {
    "collapsed": false
   },
   "outputs": [
    {
     "name": "stdout",
     "output_type": "stream",
     "text": [
      "Overwriting C:/Users/PAULINKENBRANDT/.ipython/nbextensions/toc.css\n"
     ]
    }
   ],
   "source": [
    "%%file C:/Users/PAULINKENBRANDT/.ipython/nbextensions/toc.css\n",
    " \n",
    "/*extracted from https://gist.github.com/magican/5574556*/\n",
    "#toc {\n",
    "  overflow-y: scroll;\n",
    "  max-height: 300px;\n",
    " \n",
    "  ol.nested {\n",
    "    counter-reset: item;\n",
    "    list-style: none;\n",
    "  }\n",
    "  li.nested {\n",
    "    display: block;\n",
    "  }\n",
    "  li.nested:before {\n",
    "    counter-increment: item;\n",
    "    content: counters(item, \".\")\" \";\n",
    "  }\n",
    "}\n",
    " \n",
    "#toc-wrapper {\n",
    "  position: fixed;\n",
    "  top: 120px;\n",
    "  max-width:430px;\n",
    "  right: 20px;\n",
    "  border: thin solid rgba(0, 0, 0, 0.38);\n",
    "  border-radius: 5px;\n",
    "  padding:10px;\n",
    "  background-color: #fff;\n",
    "  opacity: .8;\n",
    "  z-index: 100;\n",
    "}\n",
    " \n",
    "#toc-wrapper.closed {\n",
    "  min-width: 100px;\n",
    "  width: auto;\n",
    "  transition: width;\n",
    "}\n",
    "#toc-wrapper:hover{\n",
    "  opacity: 1;\n",
    "}\n",
    "#toc-wrapper .header {\n",
    "  font-size: 18px;\n",
    "  font-weight: bold;\n",
    "}\n",
    "#toc-wrapper .hide-btn {\n",
    "  font-size: 14px;\n",
    "  font-family: monospace;\n",
    "}"
   ]
  },
  {
   "cell_type": "code",
   "execution_count": 6,
   "metadata": {
    "collapsed": false
   },
   "outputs": [
    {
     "name": "stdout",
     "output_type": "stream",
     "text": [
      "Writing C:/Users/PAULINKENBRANDT/.ipython/nbextensions/toc.js\n"
     ]
    }
   ],
   "source": [
    "%%file C:/Users/PAULINKENBRANDT/.ipython/nbextensions/toc.js\n",
    "define([\"require\"], function (require) {\n",
    "  \"use strict\";\n",
    " \n",
    "  var clone_anchor = function (element) {\n",
    "    // clone link\n",
    "    var h = element.find(\"div.text_cell_render\").find(':header').first();\n",
    "    var a = h.find('a').clone();\n",
    "    var new_a = $(\"<a>\");\n",
    "    new_a.attr(\"href\", a.attr(\"href\"));\n",
    "    // get the text *excluding* the link text, whatever it may be\n",
    "    var hclone = h.clone();\n",
    "    hclone.children().remove();\n",
    "    new_a.text(hclone.text());\n",
    "    return new_a;\n",
    "  };\n",
    " \n",
    "  var ol_depth = function (element) {\n",
    "    // get depth of nested ol\n",
    "    var d = 0;\n",
    "    while (element.prop(\"tagName\").toLowerCase() == 'ol') {\n",
    "      d += 1;\n",
    "      element = element.parent();\n",
    "    }\n",
    "    return d;\n",
    "  };\n",
    "  \n",
    "  var create_toc_div = function () {\n",
    "    var toc_wrapper = $('<div id=\"toc-wrapper\"/>')\n",
    "    .append(\n",
    "      $(\"<div/>\")\n",
    "      .addClass(\"header\")\n",
    "      .text(\"Contents \")\n",
    "      .click( function(){\n",
    "        console.log(this);\n",
    "        $('#toc').slideToggle();\n",
    "        $('#toc-wrapper').toggleClass('closed');\n",
    "        if ($('#toc-wrapper').hasClass('closed')){\n",
    "          $('#toc-wrapper .hide-btn').text('[+]');\n",
    "        } else {\n",
    "          $('#toc-wrapper .hide-btn').text('[-]');\n",
    "        }\n",
    "        return false;\n",
    "      }).append(\n",
    "        $(\"<a/>\")\n",
    "        .attr(\"href\", \"#\")\n",
    "        .addClass(\"hide-btn\")\n",
    "        .text(\"[-]\")\n",
    "      )\n",
    "    ).append(\n",
    "        $(\"<div/>\").attr(\"id\", \"toc\")\n",
    "    );\n",
    "    $(\"body\").append(toc_wrapper);\n",
    "  };\n",
    " \n",
    "  var table_of_contents = function (threshold) {\n",
    "    if (threshold === undefined) {\n",
    "      threshold = 4;\n",
    "    }\n",
    "    var cells = IPython.notebook.get_cells();\n",
    "      \n",
    "    var toc_wrapper = $(\"#toc-wrapper\");\n",
    "    if (toc_wrapper.length === 0) {\n",
    "      create_toc_div();\n",
    "    }\n",
    "  \n",
    "    var ol = $(\"<ol/>\");\n",
    "    $(\"#toc\").empty().append(ol);\n",
    "  \n",
    "    for (var i=0; i < cells.length; i++) {\n",
    "      var cell = cells[i];\n",
    "    \n",
    "      if (cell.cell_type !== 'heading') continue;\n",
    "    \n",
    "      var level = cell.level;\n",
    "      if (level > threshold) continue;\n",
    "    \n",
    "      var depth = ol_depth(ol);\n",
    " \n",
    "      // walk down levels\n",
    "      for (; depth < level; depth++) {\n",
    "        var new_ol = $(\"<ol/>\");\n",
    "        ol.append(new_ol);\n",
    "        ol = new_ol;\n",
    "      }\n",
    "      // walk up levels\n",
    "      for (; depth > level; depth--) {\n",
    "        ol = ol.parent();\n",
    "      }\n",
    "      //\n",
    "      ol.append(\n",
    "        $(\"<li/>\").append(clone_anchor(cell.element))\n",
    "      );\n",
    "    }\n",
    " \n",
    "    $(window).resize(function(){\n",
    "      $('#toc').css({maxHeight: $(window).height() - 200});\n",
    "    });\n",
    " \n",
    "    $(window).trigger('resize');\n",
    "  };\n",
    "    \n",
    "  var toggle_toc = function () {\n",
    "    // toggle draw (first because of first-click behavior)\n",
    "    $(\"#toc-wrapper\").toggle();\n",
    "    // recompute:\n",
    "    table_of_contents();\n",
    "  };\n",
    "  \n",
    "  var toc_button = function () {\n",
    "    if (!IPython.toolbar) {\n",
    "      $([IPython.events]).on(\"app_initialized.NotebookApp\", toc_button);\n",
    "      return;\n",
    "    }\n",
    "    if ($(\"#toc_button\").length === 0) {\n",
    "      IPython.toolbar.add_buttons_group([\n",
    "        {\n",
    "          'label'   : 'Table of Contents',\n",
    "          'icon'    : 'icon-list',\n",
    "          'callback': toggle_toc,\n",
    "          'id'      : 'toc_button'\n",
    "        },\n",
    "      ]);\n",
    "    }\n",
    "  };\n",
    "  \n",
    "  var load_css = function () {\n",
    "    var link = document.createElement(\"link\");\n",
    "    link.type = \"text/css\";\n",
    "    link.rel = \"stylesheet\";\n",
    "    link.href = require.toUrl(\"./toc.css\");\n",
    "    console.log(link);\n",
    "    document.getElementsByTagName(\"head\")[0].appendChild(link);\n",
    "  };\n",
    "  \n",
    "  var load_ipython_extension = function () {\n",
    "    load_css();\n",
    "    toc_button();\n",
    "    $([IPython.events]).on(\"notebook_loaded.Notebook\", table_of_contents);\n",
    "    console.log('Table of Contents extension loaded');\n",
    "  };\n",
    " \n",
    "  return {\n",
    "    load_ipython_extension : load_ipython_extension,\n",
    "    toggle_toc : toggle_toc,\n",
    "    table_of_contents : table_of_contents,\n",
    "    \n",
    "  };\n",
    " \n",
    "});\n"
   ]
  },
  {
   "cell_type": "code",
   "execution_count": 5,
   "metadata": {
    "collapsed": false
   },
   "outputs": [
    {
     "name": "stdout",
     "output_type": "stream",
     "text": [
      "Overwriting C:/Users/PAULINKENBRANDT/.ipython/nbextensions/custom.js\n"
     ]
    }
   ],
   "source": [
    "%%file C:/Users/PAULINKENBRANDT/.ipython/nbextensions/custom.js   \n",
    " \n",
    "require([\"/nbextensions/toc.js\"], function (toc) {\n",
    "console.log('Table of Contents extension loaded');\n",
    "toc.load_ipython_extension();\n",
    "$([IPython.events]).on(\"notebook_loaded.Notebook\", toc.table_of_contents);\n",
    "});\n",
    " \n",
    "IPython.load_extensions('toc');"
   ]
  },
  {
   "cell_type": "code",
   "execution_count": null,
   "metadata": {
    "collapsed": false
   },
   "outputs": [],
   "source": []
  }
 ],
 "metadata": {
  "kernelspec": {
   "display_name": "Python 2",
   "language": "python",
   "name": "python2"
  },
  "language_info": {
   "codemirror_mode": {
    "name": "ipython",
    "version": 2
   },
   "file_extension": ".py",
   "mimetype": "text/x-python",
   "name": "python",
   "nbconvert_exporter": "python",
   "pygments_lexer": "ipython2",
   "version": "2.7.8"
  }
 },
 "nbformat": 4,
 "nbformat_minor": 0
}
