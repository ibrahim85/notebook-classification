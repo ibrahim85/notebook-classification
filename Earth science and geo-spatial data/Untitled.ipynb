{
 "cells": [
  {
   "cell_type": "code",
   "execution_count": 1,
   "metadata": {
    "collapsed": false
   },
   "outputs": [
    {
     "name": "stdout",
     "output_type": "stream",
     "text": [
      "C:\\Users\\PAULINKENBRANDT\\.jupyter\n",
      "['C:\\\\Users\\\\PAULINKENBRANDT\\\\.jupyter', 'c:\\\\python27\\\\arcgis10.3\\\\etc\\\\jupyter', 'C:\\\\ProgramData\\\\jupyter']\n"
     ]
    }
   ],
   "source": [
    "from __future__ import print_function\n",
    "from jupyter_core.paths import jupyter_config_dir, jupyter_config_path\n",
    "print(jupyter_config_dir())\n",
    "print(jupyter_config_path())"
   ]
  },
  {
   "cell_type": "code",
   "execution_count": 2,
   "metadata": {
    "collapsed": false
   },
   "outputs": [
    {
     "name": "stdout",
     "output_type": "stream",
     "text": [
      "C:\\Users\\PAULINKENBRANDT\\AppData\\Roaming\\jupyter\n",
      "['C:\\\\Users\\\\PAULINKENBRANDT\\\\AppData\\\\Roaming\\\\jupyter', 'c:\\\\python27\\\\arcgis10.3\\\\share\\\\jupyter', 'C:\\\\ProgramData\\\\jupyter']\n"
     ]
    }
   ],
   "source": [
    "from __future__ import print_function\n",
    "from jupyter_core.paths import jupyter_data_dir, jupyter_path\n",
    "print(jupyter_data_dir())\n",
    "print(jupyter_path())"
   ]
  },
  {
   "cell_type": "code",
   "execution_count": 3,
   "metadata": {
    "collapsed": true
   },
   "outputs": [],
   "source": [
    "import notebook\n"
   ]
  },
  {
   "cell_type": "code",
   "execution_count": 7,
   "metadata": {
    "collapsed": false
   },
   "outputs": [
    {
     "ename": "SyntaxError",
     "evalue": "invalid syntax (<ipython-input-7-b6f35be52bdc>, line 1)",
     "output_type": "error",
     "traceback": [
      "\u001b[1;36m  File \u001b[1;32m\"<ipython-input-7-b6f35be52bdc>\"\u001b[1;36m, line \u001b[1;32m1\u001b[0m\n\u001b[1;33m    jupyter nbextension install usability/codefolding/main\u001b[0m\n\u001b[1;37m                      ^\u001b[0m\n\u001b[1;31mSyntaxError\u001b[0m\u001b[1;31m:\u001b[0m invalid syntax\n"
     ]
    }
   ],
   "source": [
    "jupyter nbextension install usability/codefolding/main"
   ]
  },
  {
   "cell_type": "code",
   "execution_count": 6,
   "metadata": {
    "collapsed": false
   },
   "outputs": [
    {
     "name": "stdout",
     "output_type": "stream",
     "text": [
      "C:\\Users\\PAULINKENBRANDT\\AppData\\Roaming\\jupyter\n",
      "['C:\\\\Users\\\\PAULINKENBRANDT\\\\AppData\\\\Roaming\\\\jupyter', 'c:\\\\python27\\\\arcgis10.3\\\\share\\\\jupyter', 'C:\\\\ProgramData\\\\jupyter']\n"
     ]
    }
   ],
   "source": [
    "from __future__ import print_function\n",
    "from jupyter_core.paths import jupyter_data_dir, jupyter_path\n",
    "print(jupyter_data_dir())\n",
    "print(jupyter_path())"
   ]
  }
 ],
 "metadata": {
  "kernelspec": {
   "display_name": "Python 2",
   "language": "python",
   "name": "python2"
  },
  "language_info": {
   "codemirror_mode": {
    "name": "ipython",
    "version": 2
   },
   "file_extension": ".py",
   "mimetype": "text/x-python",
   "name": "python",
   "nbconvert_exporter": "python",
   "pygments_lexer": "ipython2",
   "version": "2.7.8"
  }
 },
 "nbformat": 4,
 "nbformat_minor": 0
}
