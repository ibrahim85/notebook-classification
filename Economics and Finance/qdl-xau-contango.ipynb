{
 "cells": [
  {
   "cell_type": "markdown",
   "metadata": {},
   "source": [
    "# Gold contango\n",
    "\n",
    "We examine futures prices for gold, in particular, the contango situation. \n",
    "The futures price may be either higher or lower than the spot price. \n",
    "When the spot price is higher than the futures price, the market is said to \n",
    "be in **backwardation**. If the spot price is lower than the futures price, \n",
    "the market is in **contango**.\n",
    "\n",
    "The futures or forward curve would typically be upward sloping, \n",
    "since contracts for further dates would typically trade at even higher prices. \n",
    "A contango is normal for a non-perishable commodity that has \n",
    "a *cost of carry*. Such costs include warehousing fees and \n",
    "interest forgone on money tied up, \n",
    "less income from leasing out the commodity if possible (e.g. gold). \n",
    "\n",
    "Our study examines a segment of the futures curve, specifically the \n",
    "nearby contract versus another dated six months thereafter, \n",
    "for gold traded on the COMEX exchange. We use the expected \n",
    "LIBOR interest rate for the identical segment to adjust the \n",
    "cost of carry. We then compare this supply/demand indicator against spot prices. \n",
    "\n",
    "The *London Bullion Market Association* ceased publishing daily data \n",
    "on their *Gold Forward Offered Rate* (**GOFO**), as of 30 January 2015 -- \n",
    "so we develop an observable proxy called *tango*.  \n"
   ]
  },
  {
   "cell_type": "markdown",
   "metadata": {},
   "source": [
    "*Dependencies:*\n",
    "\n",
    "    - Linux, bash [not critical, generally cross-platform]\n",
    "    - Python: matplotlib, pandas [recommend Anaconda distribution]\n",
    "    - Modules: fecon\n",
    "     \n",
    "*CHANGE LOG*\n",
    "\n",
    "    2015-10-11  Code review.\n",
    "    2015-09-11  First version."
   ]
  },
  {
   "cell_type": "code",
   "execution_count": 1,
   "metadata": {
    "collapsed": false
   },
   "outputs": [
    {
     "name": "stdout",
     "output_type": "stream",
     "text": [
      "\n",
      " ::  TIMESTAMP of last notebook execution:\n",
      "Sun Oct 11 10:18:42 PDT 2015\n",
      " ::  IPython version:\n",
      "3.2.1\n",
      " ::  pandas version:\n",
      "0.16.2\n",
      " ::  Working directory (set as $workd):\n",
      "/home/yaya/Dropbox/share/git/nous/fecon235/nb\n",
      "\n"
     ]
    }
   ],
   "source": [
    "#  NOTEBOOK v4 settings and system details:      [00-tpl v4.15.0812]\n",
    "\n",
    "#  Assume that the backend is LINUX (e.g. Ubuntu running bash shell):\n",
    "print '\\n ::  TIMESTAMP of last notebook execution:'\n",
    "!date\n",
    "print ' ::  IPython version:'\n",
    "!ipython --version\n",
    "\n",
    "#  Automatically RELOAD modified modules:\n",
    "%load_ext autoreload\n",
    "%autoreload 2\n",
    "#           0 disables autoreload.\n",
    "\n",
    "#  DISPLAY options\n",
    "from IPython.display import Image \n",
    "#  e.g. Image(filename='holt-winters-equations.png', embed=True) # url= also works\n",
    "from IPython.display import YouTubeVideo\n",
    "#  e.g. YouTubeVideo('1j_HxD4iLn8', start='43', width=600, height=400)\n",
    "from IPython.display import HTML # useful for snippets\n",
    "#  e.g. HTML('<iframe src=http://en.mobile.wikipedia.org/?useformat=mobile width=700 height=350></iframe>')\n",
    "from IPython.core import page\n",
    "get_ipython().set_hook('show_in_pager', page.as_hook(page.display_page), 0)\n",
    "#  Or equivalently in config file: \"InteractiveShell.display_page = True\", \n",
    "#  which will display results in secondary notebook pager frame in a cell.\n",
    "\n",
    "#  MATH display, use %%latex, rather than the following:\n",
    "#                from IPython.display import Math\n",
    "#                from IPython.display import Latex\n",
    "#  Generate PLOTS inside notebook:\n",
    "%matplotlib inline\n",
    "\n",
    "import pandas as pd\n",
    "print ' ::  pandas version:'\n",
    "print pd.__version__\n",
    "#      pandas DataFrames are represented as text by default; enable HTML representation:\n",
    "#      [Deprecated: pd.core.format.set_printoptions( notebook_repr_html=True ) ]\n",
    "pd.set_option( 'display.notebook_repr_html', False )\n",
    "\n",
    "print ' ::  Working directory (set as $workd):'\n",
    "workd, = !pwd\n",
    "print workd + '\\n'"
   ]
  },
  {
   "cell_type": "code",
   "execution_count": 2,
   "metadata": {
    "collapsed": false
   },
   "outputs": [],
   "source": [
    "from fecon import *"
   ]
  },
  {
   "cell_type": "code",
   "execution_count": 3,
   "metadata": {
    "collapsed": true
   },
   "outputs": [],
   "source": [
    "#  SET UP the particular (f4) futures contracts of interest:\n",
    "s_libor = 'f4libor15z'\n",
    "s_xau1  = 'f4xau15z'\n",
    "s_xau2  = 'f4xau16m'\n",
    "\n",
    "#  f4libor* refers to the CME Eurodollar futures.\n",
    "\n",
    "#  The second nearby contract for gold (xau)\n",
    "#  should be 6 months after the first using the \n",
    "#  June (m) and December (z) cycle\n",
    "\n",
    "#  RE-RUN this entire study by merely changing the string symbols."
   ]
  },
  {
   "cell_type": "code",
   "execution_count": 4,
   "metadata": {
    "collapsed": true
   },
   "outputs": [],
   "source": [
    "#  Retrieve data:\n",
    "libor = todf( 100 - get(s_libor) )\n",
    "#             ^convert quotes to conventional % format\n",
    "xau1 = get(s_xau1)\n",
    "xau2 = get(s_xau2)"
   ]
  },
  {
   "cell_type": "code",
   "execution_count": 5,
   "metadata": {
    "collapsed": false
   },
   "outputs": [
    {
     "data": {
      "text/plain": [
       "                Y\n",
       "Date             \n",
       "2015-10-01  0.415\n",
       "2015-10-02  0.380\n",
       "2015-10-05  0.390\n",
       "2015-10-06  0.385\n",
       "2015-10-07  0.395\n",
       "2015-10-08  0.390\n",
       "2015-10-09  0.390"
      ]
     },
     "execution_count": 5,
     "metadata": {},
     "output_type": "execute_result"
    }
   ],
   "source": [
    "tail(libor)"
   ]
  },
  {
   "cell_type": "code",
   "execution_count": 6,
   "metadata": {
    "collapsed": false
   },
   "outputs": [
    {
     "data": {
      "text/plain": [
       "                 Y\n",
       "Date              \n",
       "2015-10-01  1113.7\n",
       "2015-10-02  1136.6\n",
       "2015-10-05  1137.6\n",
       "2015-10-06  1146.4\n",
       "2015-10-07  1148.7\n",
       "2015-10-08  1144.3\n",
       "2015-10-09  1155.9"
      ]
     },
     "execution_count": 6,
     "metadata": {},
     "output_type": "execute_result"
    }
   ],
   "source": [
    "tail(xau1)"
   ]
  },
  {
   "cell_type": "code",
   "execution_count": 7,
   "metadata": {
    "collapsed": false
   },
   "outputs": [
    {
     "data": {
      "text/plain": [
       "                 Y\n",
       "Date              \n",
       "2015-10-01  1115.9\n",
       "2015-10-02  1138.6\n",
       "2015-10-05  1139.7\n",
       "2015-10-06  1148.4\n",
       "2015-10-07  1150.7\n",
       "2015-10-08  1146.3\n",
       "2015-10-09  1158.0"
      ]
     },
     "execution_count": 7,
     "metadata": {},
     "output_type": "execute_result"
    }
   ],
   "source": [
    "tail(xau2)"
   ]
  },
  {
   "cell_type": "markdown",
   "metadata": {},
   "source": [
    "Usually contango is described in price unit terms, however, we prefer the scale-free annualized percentage format. This places the measure on par with the way interest rates are usually quoted."
   ]
  },
  {
   "cell_type": "code",
   "execution_count": 8,
   "metadata": {
    "collapsed": true
   },
   "outputs": [],
   "source": [
    "#  Compute the contango in terms of annualized percentage:\n",
    "contango = todf( ((xau2 / xau1) - 1) * 200 )\n",
    "\n",
    "#  Multiply by 200 instead of 100 since \n",
    "#  the gold contracts are stipulated to be six months apart."
   ]
  },
  {
   "cell_type": "code",
   "execution_count": 9,
   "metadata": {
    "collapsed": false
   },
   "outputs": [
    {
     "data": {
      "text/plain": [
       "                   Y\n",
       "Date                \n",
       "2015-10-01  0.395079\n",
       "2015-10-02  0.351927\n",
       "2015-10-05  0.369198\n",
       "2015-10-06  0.348918\n",
       "2015-10-07  0.348220\n",
       "2015-10-08  0.349559\n",
       "2015-10-09  0.363353"
      ]
     },
     "execution_count": 9,
     "metadata": {},
     "output_type": "execute_result"
    }
   ],
   "source": [
    "tail( contango )"
   ]
  },
  {
   "cell_type": "code",
   "execution_count": 10,
   "metadata": {
    "collapsed": false
   },
   "outputs": [
    {
     "data": {
      "image/png": "[encoded data removed]",
      "text/plain": [
       "<matplotlib.figure.Figure at 0xace4d8ac>"
      ]
     },
     "metadata": {},
     "output_type": "display_data"
    }
   ],
   "source": [
    "plot( contango )"
   ]
  },
  {
   "cell_type": "markdown",
   "metadata": {},
   "source": [
    "The largest variable component to the cost-of-carry is **interest**. We filter that out by subtracting the LIBOR rate obtained from the futures on Eurodollars. We shall call the result: **tango**."
   ]
  },
  {
   "cell_type": "code",
   "execution_count": 11,
   "metadata": {
    "collapsed": true
   },
   "outputs": [],
   "source": [
    "tango = todf( contango - libor )"
   ]
  },
  {
   "cell_type": "code",
   "execution_count": 12,
   "metadata": {
    "collapsed": false
   },
   "outputs": [
    {
     "data": {
      "text/plain": [
       "                   Y\n",
       "Date                \n",
       "2015-10-01 -0.019921\n",
       "2015-10-02 -0.028073\n",
       "2015-10-05 -0.020802\n",
       "2015-10-06 -0.036082\n",
       "2015-10-07 -0.046780\n",
       "2015-10-08 -0.040441\n",
       "2015-10-09 -0.026647"
      ]
     },
     "execution_count": 12,
     "metadata": {},
     "output_type": "execute_result"
    }
   ],
   "source": [
    "tail( tango )"
   ]
  },
  {
   "cell_type": "code",
   "execution_count": 13,
   "metadata": {
    "collapsed": false
   },
   "outputs": [
    {
     "data": {
      "image/png": "[encoded data removed]",
      "text/plain": [
       "<matplotlib.figure.Figure at 0xacda2f6c>"
      ]
     },
     "metadata": {},
     "output_type": "display_data"
    }
   ],
   "source": [
    "#  MAIN chart <- pay attention here !!\n",
    "plot( tango )"
   ]
  },
  {
   "cell_type": "code",
   "execution_count": 14,
   "metadata": {
    "collapsed": false
   },
   "outputs": [
    {
     "data": {
      "text/plain": [
       "                Y\n",
       "count  512.000000\n",
       "mean    -0.055539\n",
       "std      0.175758\n",
       "min     -0.387929\n",
       "25%     -0.201538\n",
       "50%     -0.098203\n",
       "75%      0.094842\n",
       "max      0.282874"
      ]
     },
     "execution_count": 14,
     "metadata": {},
     "output_type": "execute_result"
    }
   ],
   "source": [
    "tango.describe()"
   ]
  },
  {
   "cell_type": "markdown",
   "metadata": {},
   "source": [
    "Usually *tango* has approximate mean of zero, with somewhat \n",
    "wide latitude: 2015-10-09 at 18 bp standard deviation (annualized).\n",
    "\n",
    "Since warehousing costs for gold are fairly constant across time, \n",
    "changes in tango mainly reflect supply and demand. \n",
    "A major component of tango is the **leasing rate**. \n",
    "\n",
    "The *London Bullion Market Association* had published daily data \n",
    "on the *Gold Forward Offered Rate*, or **GOFO**.  These are rates \n",
    "at which LBMA members are prepared to lend gold on a swap against \n",
    "U.S. dollars. Historically there has been negative leasing rates, \n",
    "meaning that the lessors were willing to actually pay you to borrow gold from \n",
    "them [but mostly likely it is a  central bank is paying some \n",
    "bullion bank to take their gold]. \n",
    "Unfortunately, the GOFO dataset has been **discontinued** as of 30 January 2015."
   ]
  },
  {
   "cell_type": "code",
   "execution_count": 15,
   "metadata": {
    "collapsed": false
   },
   "outputs": [
    {
     "data": {
      "text/html": [
       "<img src=\"https://www.mcoscillator.com/data/charts/weekly/GOFO_1mo_1995-2014.gif\"/>"
      ],
      "text/plain": [
       "<IPython.core.display.Image object>"
      ]
     },
     "execution_count": 15,
     "metadata": {},
     "output_type": "execute_result"
    }
   ],
   "source": [
    "#  For historians:\n",
    "Image(url='https://www.mcoscillator.com/data/charts/weekly/GOFO_1mo_1995-2014.gif', embed=False)"
   ]
  },
  {
   "cell_type": "markdown",
   "metadata": {},
   "source": [
    "## Relationship to cash prices\n",
    "\n",
    "We now look at the current London PM gold fix series."
   ]
  },
  {
   "cell_type": "code",
   "execution_count": 16,
   "metadata": {
    "collapsed": true
   },
   "outputs": [],
   "source": [
    "xau = get( d4xau )"
   ]
  },
  {
   "cell_type": "code",
   "execution_count": 17,
   "metadata": {
    "collapsed": true
   },
   "outputs": [],
   "source": [
    "#  This matches the futures sample size:\n",
    "xau0 = tail( xau, 512 )"
   ]
  },
  {
   "cell_type": "code",
   "execution_count": 18,
   "metadata": {
    "collapsed": false
   },
   "outputs": [
    {
     "data": {
      "image/png": "[encoded data removed]",
      "text/plain": [
       "<matplotlib.figure.Figure at 0xacb44bec>"
      ]
     },
     "metadata": {},
     "output_type": "display_data"
    }
   ],
   "source": [
    "plot( xau0 )"
   ]
  },
  {
   "cell_type": "code",
   "execution_count": 19,
   "metadata": {
    "collapsed": false
   },
   "outputs": [],
   "source": [
    "#  Is there near-term correlation between price and tango?\n",
    "#  stat2( xau0[Y], tango[Y] )\n",
    "#  2015-09-11  correlation: 0.09, so NO."
   ]
  },
  {
   "cell_type": "code",
   "execution_count": 20,
   "metadata": {
    "collapsed": true
   },
   "outputs": [],
   "source": [
    "#  Running annual percentage change in spot price:\n",
    "xau0pc = tail( pcent(xau, 256), 512 )"
   ]
  },
  {
   "cell_type": "code",
   "execution_count": 21,
   "metadata": {
    "collapsed": false
   },
   "outputs": [
    {
     "data": {
      "image/png": "[encoded data removed]",
      "text/plain": [
       "<matplotlib.figure.Figure at 0xace4d62c>"
      ]
     },
     "metadata": {},
     "output_type": "display_data"
    }
   ],
   "source": [
    "plot ( xau0pc )"
   ]
  },
  {
   "cell_type": "code",
   "execution_count": 22,
   "metadata": {
    "collapsed": false
   },
   "outputs": [
    {
     "name": "stdout",
     "output_type": "stream",
     "text": [
      " ::  FIRST variable:\n",
      "count    512.000000\n",
      "mean     -10.339155\n",
      "std        8.217664\n",
      "min      -29.210332\n",
      "25%      -15.148375\n",
      "50%       -8.715890\n",
      "75%       -5.237605\n",
      "max       10.192953\n",
      "Name: Y, dtype: float64\n",
      "\n",
      " ::  SECOND variable:\n",
      "count    512.000000\n",
      "mean      -0.055539\n",
      "std        0.175758\n",
      "min       -0.387929\n",
      "25%       -0.201538\n",
      "50%       -0.098203\n",
      "75%        0.094842\n",
      "max        0.282874\n",
      "Name: Y, dtype: float64\n",
      "\n",
      " ::  CORRELATION\n",
      "-0.827301833127\n",
      "\n",
      "-------------------------Summary of Regression Analysis-------------------------\n",
      "\n",
      "Formula: Y ~ <x> + <intercept>\n",
      "\n",
      "Number of Observations:         494\n",
      "Number of Degrees of Freedom:   2\n",
      "\n",
      "R-squared:         0.6844\n",
      "Adj R-squared:     0.6838\n",
      "\n",
      "Rmse:              4.5910\n",
      "\n",
      "F-stat (1, 492):  1067.0753, p-value:     0.0000\n",
      "\n",
      "Degrees of Freedom: model 1, resid 492\n",
      "\n",
      "-----------------------Summary of Estimated Coefficients------------------------\n",
      "      Variable       Coef    Std Err     t-stat    p-value    CI 2.5%   CI 97.5%\n",
      "--------------------------------------------------------------------------------\n",
      "             x   -39.8728     1.2206     -32.67     0.0000   -42.2652   -37.4804\n",
      "     intercept   -12.9712     0.2218     -58.47     0.0000   -13.4061   -12.5364\n",
      "---------------------------------End of Summary---------------------------------\n",
      "\n"
     ]
    }
   ],
   "source": [
    "#  Is there near-term correlation between price change and tango?\n",
    "stat2( xau0pc[Y], tango[Y] )\n",
    "#  2015-09-11  correlation: -0.85, so YES.\n",
    "#  2015-10-09  correlation: -0.83"
   ]
  },
  {
   "cell_type": "markdown",
   "metadata": {},
   "source": [
    "So roughly speaking, **increasing tango is correlated to decling prices.** Thus increasing selling pressure in the near-term versus the distant-term (which in effect widens tango) is correlated to future declines in cash prices. \n",
    "\n",
    "Equivalently, **decreasing tango is correlated to increasing prices.**"
   ]
  },
  {
   "cell_type": "markdown",
   "metadata": {
    "collapsed": true
   },
   "source": [
    "## Closing comments\n",
    "\n",
    "2015-10-11  Since tango is currently near its mean value, \n",
    "it seems equally likely to decrease or increase \n",
    "(though its short-term trend is upwards), so the \n",
    "future direction of gold prices seems inconclusive.\n",
    "\n",
    "Tango as an indicator is insightful whenever it is \n",
    "at the extremes of its expected range. Trading urgency \n",
    "is indicated at such extremes, which is subsequently \n",
    "dissipated as the gold market rebalances."
   ]
  }
 ],
 "metadata": {
  "kernelspec": {
   "display_name": "Python 2",
   "language": "python",
   "name": "python2"
  },
  "language_info": {
   "codemirror_mode": {
    "name": "ipython",
    "version": 2
   },
   "file_extension": ".py",
   "mimetype": "text/x-python",
   "name": "python",
   "nbconvert_exporter": "python",
   "pygments_lexer": "ipython2",
   "version": "2.7.10"
  }
 },
 "nbformat": 4,
 "nbformat_minor": 0
}
