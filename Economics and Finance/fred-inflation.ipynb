{
 "metadata": {
  "name": "",
  "signature": "sha256:71716ba9cdd8f4b15f3487ac7ac6e1f0a75049d0f7e8c36410bbe286d008c085"
 },
 "nbformat": 3,
 "nbformat_minor": 0,
 "worksheets": [
  {
   "cells": [
    {
     "cell_type": "heading",
     "level": 1,
     "metadata": {},
     "source": [
      "Inflation data from FRED using pandas"
     ]
    },
    {
     "cell_type": "markdown",
     "metadata": {},
     "source": [
      "**We examine inflation data: CPI and PCE, including the core versions, along with the 10-year BEI rate (break-even inflation). We also examine gold returns and its correlations to inflation. A combined inflation statistic *m4infl* is defined, and we make a brief forecast.**  \n",
      "\n",
      "FRED is a free data service from the Federal Reserve Bank in St. Louis. "
     ]
    },
    {
     "cell_type": "markdown",
     "metadata": {},
     "source": [
      "*Dependencies:* \n",
      "    \n",
      "    Python 2.7 and modules: matplotlib, pandas, yi_1tools, yi_fred, yi_plot.\n",
      "     \n",
      "*CHANGE LOG*\n",
      "\n",
      "    2015-02-02  Code review and revision. Include sample forecast.\n",
      "    2014-09-02  Introduce new inflation series m4infl. Use getfred().\n",
      "    2014-08-06  Major revision directly based on refined modules.\n",
      "    2014-07-25  Expand to include inflation statistics including BEI.\n",
      "                    Major fix of yi_fred.getdataframe()\n",
      "    2014-07-24  First version includes module yi_fred converted from fred-plot notebook."
     ]
    },
    {
     "cell_type": "code",
     "collapsed": false,
     "input": [
      "#  NOTEBOOK settings and system details:   [00-tpl v14.09.28]\n",
      "\n",
      "#  Assume that the backend is LINUX (our particular distro is Ubuntu, running bash shell):\n",
      "print '\\n ::  TIMESTAMP of last notebook execution:'\n",
      "!date\n",
      "print '\\n ::  IPython version:'\n",
      "!ipython --version\n",
      "\n",
      "#  Automatically reload modified modules:\n",
      "%load_ext autoreload\n",
      "%autoreload 2   \n",
      "#           0 will disable autoreload.\n",
      "#  Generate plots inside notebook:\n",
      "%matplotlib inline\n",
      "\n",
      "#  DISPLAY options\n",
      "from IPython.display import Image \n",
      "#  e.g. Image(filename='holt-winters-equations.png', embed=True)\n",
      "from IPython.display import YouTubeVideo\n",
      "#  e.g. YouTubeVideo('1j_HxD4iLn8')\n",
      "from IPython.display import HTML # useful for snippets\n",
      "#  e.g. HTML('<iframe src=http://en.mobile.wikipedia.org/?useformat=mobile width=700 height=350></iframe>')\n",
      "import pandas as pd\n",
      "print '\\n ::  pandas version:'\n",
      "print pd.__version__\n",
      "#      pandas DataFrames are represented as text by default; enable HTML representation:\n",
      "#      [Deprecated: pd.core.format.set_printoptions( notebook_repr_html=True ) ]\n",
      "pd.set_option( 'display.notebook_repr_html', False )\n",
      "\n",
      "#  MATH display, use %%latex, rather than the following:\n",
      "#                from IPython.display import Math\n",
      "#                from IPython.display import Latex\n",
      "\n",
      "print '\\n ::  Working directory (set as $workd):'\n",
      "workd, = !pwd\n",
      "print workd + '\\n'"
     ],
     "language": "python",
     "metadata": {},
     "outputs": [
      {
       "output_type": "stream",
       "stream": "stdout",
       "text": [
        "\n",
        " ::  TIMESTAMP of last notebook execution:\n"
       ]
      },
      {
       "output_type": "stream",
       "stream": "stdout",
       "text": [
        "Tue Feb  3 13:07:07 PST 2015\r\n"
       ]
      },
      {
       "output_type": "stream",
       "stream": "stdout",
       "text": [
        "\n",
        " ::  IPython version:\n"
       ]
      },
      {
       "output_type": "stream",
       "stream": "stdout",
       "text": [
        "2.3.0\r\n"
       ]
      },
      {
       "output_type": "stream",
       "stream": "stdout",
       "text": [
        "\n",
        " ::  pandas version:\n",
        "0.15.0\n",
        "\n",
        " ::  Working directory (set as $workd):\n"
       ]
      },
      {
       "output_type": "stream",
       "stream": "stdout",
       "text": [
        "/home/yaya/Dropbox/ipy/fecon235/nb\n",
        "\n"
       ]
      }
     ],
     "prompt_number": 1
    },
    {
     "cell_type": "markdown",
     "metadata": {},
     "source": [
      "Each economic time series has its own *\"fredcode\"* which is listed at the FRED site, see module yi_fred for details."
     ]
    },
    {
     "cell_type": "code",
     "collapsed": false,
     "input": [
      "from yi_1tools import *\n",
      "from yi_fred import *\n",
      "from yi_plot import *"
     ],
     "language": "python",
     "metadata": {},
     "outputs": [],
     "prompt_number": 2
    },
    {
     "cell_type": "heading",
     "level": 4,
     "metadata": {},
     "source": [
      "Let's create a dictionary ts of time series from the codelists."
     ]
    },
    {
     "cell_type": "code",
     "collapsed": false,
     "input": [
      "#  Get various inflation and bond statistics:\n",
      "ts = {}\n",
      "for i in ml_infl + ml_long:\n",
      "    ts[i] = getfred(i)"
     ],
     "language": "python",
     "metadata": {},
     "outputs": [
      {
       "output_type": "stream",
       "stream": "stdout",
       "text": [
        " ::  S&P 500 prepend successfully goes back to 1957.\n"
       ]
      }
     ],
     "prompt_number": 3
    },
    {
     "cell_type": "code",
     "collapsed": false,
     "input": [
      "#  Collection of inflation levels\n",
      "tsinf = [ ts[i] for i in ml_infl ]"
     ],
     "language": "python",
     "metadata": {},
     "outputs": [],
     "prompt_number": 4
    },
    {
     "cell_type": "code",
     "collapsed": false,
     "input": [
      "#  Make a dataframe consists of those inf levels:\n",
      "inf_levels = paste( tsinf )"
     ],
     "language": "python",
     "metadata": {},
     "outputs": [],
     "prompt_number": 5
    },
    {
     "cell_type": "code",
     "collapsed": false,
     "input": [
      "#  Label the column names:\n",
      "inf_levels.columns = ['CPI', 'CPIc', 'PCE', 'PCEc']"
     ],
     "language": "python",
     "metadata": {},
     "outputs": [],
     "prompt_number": 6
    },
    {
     "cell_type": "code",
     "collapsed": false,
     "input": [
      "#  We are interested in year-over-year inflation rates, expressed in percent:\n",
      "inf = pcent( inf_levels, 12 ).dropna()"
     ],
     "language": "python",
     "metadata": {},
     "outputs": [],
     "prompt_number": 7
    },
    {
     "cell_type": "code",
     "collapsed": false,
     "input": [
      "boxplot( inf, 'Inflation' )"
     ],
     "language": "python",
     "metadata": {},
     "outputs": [
      {
       "metadata": {},
       "output_type": "display_data",
       "png": "[encoded data removed]",
       "text": [
        "<matplotlib.figure.Figure at 0xad2fdfec>"
       ]
      },
      {
       "output_type": "stream",
       "stream": "stdout",
       "text": [
        " ::  Finished: boxplot-Inflation.png\n"
       ]
      }
     ],
     "prompt_number": 8
    },
    {
     "cell_type": "markdown",
     "metadata": {},
     "source": [
      "The small appended \"c\" denotes core version of headline versions of inflation. The red dot represents the most recent data point."
     ]
    },
    {
     "cell_type": "markdown",
     "metadata": {},
     "source": [
      "## Re: Consumer Price Index and Personal Consumption Expenditures\n",
      "\n",
      "- *\"Two different price indexes are popular for measuring inflation: the consumer price index (CPI) from the Bureau of Labor Statistics and the personal consumption expenditures price index (PCE) from the Bureau of Economic Analysis. [A]n accurate measure of inflation is important for both the U.S. federal government and the Federal Reserve's Federal Open Market Committee (FOMC), but they focus on different measures. For example, the federal government uses the CPI to make inflation adjustments to certain kinds of benefits, such as Social Security. In contrast, the FOMC focuses on PCE inflation in its quarterly economic projections and also states its longer-run inflation goal in terms of headline PCE. The FOMC focused on CPI inflation prior to 2000 but, after extensive analysis, changed to PCE inflation for three main reasons: The expenditure weights in the PCE can change as people substitute away from some goods and services toward others, the PCE includes more comprehensive coverage of goods and services, and historical PCE data can be revised (more than for seasonal factors only).\"* --James Bullard, president of the Federal Reserve Bank of St. Louis. "
     ]
    },
    {
     "cell_type": "heading",
     "level": 3,
     "metadata": {},
     "source": [
      "Our inflation rates go back to 1960-01-01. CPI looks slightly more volatile than PCE versions."
     ]
    },
    {
     "cell_type": "code",
     "collapsed": false,
     "input": [
      "stats(inf)"
     ],
     "language": "python",
     "metadata": {},
     "outputs": [
      {
       "output_type": "stream",
       "stream": "stdout",
       "text": [
        "              CPI        CPIc         PCE        PCEc\n",
        "count  660.000000  660.000000  660.000000  660.000000\n",
        "mean     3.919813    3.857954    3.431895    3.352024\n",
        "std      2.864429    2.625527    2.465611    2.197169\n",
        "min     -1.958761    0.597276   -1.183584    0.947246\n",
        "25%      1.953565    2.019125    1.687979    1.640647\n",
        "50%      3.173076    3.000836    2.640439    2.449200\n",
        "75%      4.728765    4.890308    4.329166    4.495992\n",
        "max     14.592275   13.604488   11.577525   10.233897\n",
        "\n",
        " ::  Index on min:\n",
        "CPI    2009-07-01\n",
        "CPIc   2010-10-01\n",
        "PCE    2009-07-01\n",
        "PCEc   2010-12-01\n",
        "dtype: datetime64[ns]\n",
        "\n",
        " ::  Index on max:\n",
        "CPI    1980-03-01\n",
        "CPIc   1980-06-01\n",
        "PCE    1974-10-01\n",
        "PCEc   1975-02-01\n",
        "dtype: datetime64[ns]\n",
        "\n",
        " ::  Head:\n",
        "                 CPI      CPIc       PCE      PCEc\n",
        "T                                                 \n",
        "1960-01-01  1.240951  2.006689  1.670171  2.028755\n",
        "1960-02-01  1.413793  2.341137  1.686311  2.140951\n",
        "1960-03-01  1.518813  2.000000  1.679398  2.047995\n",
        "1960-04-01  1.932367  2.000000  1.850666  1.986418\n",
        "1960-05-01  1.825069  1.661130  1.907975  2.040701\n",
        "1960-06-01  1.717623  1.655629  1.664733  1.815005\n",
        "1960-07-01  1.372213  1.324503  1.643994  1.760207"
       ]
      },
      {
       "output_type": "stream",
       "stream": "stdout",
       "text": [
        "\n",
        "\n",
        " ::  Tail:\n",
        "                 CPI      CPIc       PCE      PCEc\n",
        "T                                                 \n",
        "2014-06-01  2.075496  1.927383  1.605614  1.495733\n",
        "2014-07-01  1.996553  1.854931  1.573990  1.485662\n",
        "2014-08-01  1.711412  1.729024  1.450057  1.466353\n",
        "2014-09-01  1.664221  1.736551  1.429209  1.478953\n",
        "2014-10-01  1.651111  1.817423  1.401492  1.509104\n",
        "2014-11-01  1.281443  1.711828  1.151644  1.403127\n",
        "2014-12-01  0.662847  1.612027  0.748578  1.330772"
       ]
      },
      {
       "output_type": "stream",
       "stream": "stdout",
       "text": [
        "\n",
        "\n",
        " ::  Correlation matrix:\n",
        "           CPI      CPIc       PCE      PCEc\n",
        "CPI   1.000000  0.929263  0.980531  0.912526\n",
        "CPIc  0.929263  1.000000  0.924300  0.963566\n",
        "PCE   0.980531  0.924300  1.000000  0.954342\n",
        "PCEc  0.912526  0.963566  0.954342  1.000000"
       ]
      },
      {
       "output_type": "stream",
       "stream": "stdout",
       "text": [
        "\n"
       ]
      }
     ],
     "prompt_number": 9
    },
    {
     "cell_type": "heading",
     "level": 2,
     "metadata": {},
     "source": [
      "Clearly the core version is less volatile than headline inflation. But what is the appropriate inflation rate among the contenders? We shall take the average of all four..."
     ]
    },
    {
     "cell_type": "code",
     "collapsed": false,
     "input": [
      "inf_av = todf(( inf['CPI'] + inf['CPIc'] + inf['PCE'] + inf['PCEc'] ) / 4 )"
     ],
     "language": "python",
     "metadata": {},
     "outputs": [],
     "prompt_number": 10
    },
    {
     "cell_type": "code",
     "collapsed": false,
     "input": [
      "stats( inf_av )"
     ],
     "language": "python",
     "metadata": {},
     "outputs": [
      {
       "output_type": "stream",
       "stream": "stdout",
       "text": [
        "                Y\n",
        "count  660.000000\n",
        "mean     3.640421\n",
        "std      2.484236\n",
        "min     -0.160953\n",
        "25%      1.807088\n",
        "50%      2.834695\n",
        "75%      4.589724\n",
        "max     12.016273\n",
        "\n",
        " ::  Index on min:\n",
        "Y   2009-07-01\n",
        "dtype: datetime64[ns]\n",
        "\n",
        " ::  Index on max:\n",
        "Y   1980-03-01\n",
        "dtype: datetime64[ns]\n",
        "\n",
        " ::  Head:\n",
        "                   Y\n",
        "T                   \n",
        "1960-01-01  1.736641\n",
        "1960-02-01  1.895548\n",
        "1960-03-01  1.811551\n",
        "1960-04-01  1.942363\n",
        "1960-05-01  1.858719\n",
        "1960-06-01  1.713247\n",
        "1960-07-01  1.525229"
       ]
      },
      {
       "output_type": "stream",
       "stream": "stdout",
       "text": [
        "\n",
        "\n",
        " ::  Tail:\n",
        "                   Y\n",
        "T                   \n",
        "2014-06-01  1.776056\n",
        "2014-07-01  1.727784\n",
        "2014-08-01  1.589212\n",
        "2014-09-01  1.577233\n",
        "2014-10-01  1.594783\n",
        "2014-11-01  1.387011\n",
        "2014-12-01  1.088556\n",
        "\n",
        " ::  Correlation matrix:\n",
        "   Y\n",
        "Y  1"
       ]
      },
      {
       "output_type": "stream",
       "stream": "stdout",
       "text": [
        "\n"
       ]
      }
     ],
     "prompt_number": 11
    },
    {
     "cell_type": "code",
     "collapsed": false,
     "input": [
      "#  The shortest of our time series under consideration, m4tips10, \n",
      "#  starts at 2003-01-01, so let\n",
      "start = '2003-01-01'"
     ],
     "language": "python",
     "metadata": {},
     "outputs": [],
     "prompt_number": 12
    },
    {
     "cell_type": "code",
     "collapsed": false,
     "input": [
      "plotdf( inf_av[start:], 'Inflation mean' )"
     ],
     "language": "python",
     "metadata": {},
     "outputs": [
      {
       "metadata": {},
       "output_type": "display_data",
       "png": "[encoded data removed]",
       "text": [
        "<matplotlib.figure.Figure at 0xad15c62c>"
       ]
      },
      {
       "output_type": "stream",
       "stream": "stdout",
       "text": [
        " ::  Finished: plotdf-Inflation_mean.png\n"
       ]
      }
     ],
     "prompt_number": 13
    },
    {
     "cell_type": "markdown",
     "metadata": {},
     "source": [
      "During the Great Recession, we can see the dramatic drop in inflation rates."
     ]
    },
    {
     "cell_type": "heading",
     "level": 2,
     "metadata": {},
     "source": [
      "Let's derive BEI, \"Break-even inflation\" from bond data:"
     ]
    },
    {
     "cell_type": "code",
     "collapsed": false,
     "input": [
      "bei = todf( ts[m4bond10] - ts[m4tips10] )"
     ],
     "language": "python",
     "metadata": {},
     "outputs": [],
     "prompt_number": 14
    },
    {
     "cell_type": "code",
     "collapsed": false,
     "input": [
      "plotdf(bei[start:], 'Inflation BEI')"
     ],
     "language": "python",
     "metadata": {},
     "outputs": [
      {
       "metadata": {},
       "output_type": "display_data",
       "png": "[encoded data removed]",
       "text": [
        "<matplotlib.figure.Figure at 0xad28c44c>"
       ]
      },
      {
       "output_type": "stream",
       "stream": "stdout",
       "text": [
        " ::  Finished: plotdf-Inflation_BEI.png\n"
       ]
      }
     ],
     "prompt_number": 15
    },
    {
     "cell_type": "markdown",
     "metadata": {},
     "source": [
      "Studies of forward-looking BEI vs. realized inflation generally show BEI overestimates inflation. "
     ]
    },
    {
     "cell_type": "code",
     "collapsed": false,
     "input": [
      "tail(bei)"
     ],
     "language": "python",
     "metadata": {},
     "outputs": [
      {
       "metadata": {},
       "output_type": "pyout",
       "prompt_number": 16,
       "text": [
        "               Y\n",
        "T               \n",
        "2014-07-01  2.26\n",
        "2014-08-01  2.20\n",
        "2014-09-01  2.07\n",
        "2014-10-01  1.92\n",
        "2014-11-01  1.88\n",
        "2014-12-01  1.70\n",
        "2015-01-01  1.61"
       ]
      }
     ],
     "prompt_number": 16
    },
    {
     "cell_type": "heading",
     "level": 3,
     "metadata": {},
     "source": [
      "What's the correlation between BEI and average inflation? Not much. BEI seems to lead inf_av, cf. around 2009. Also BEI appears more stable relative to averaged inflation measures."
     ]
    },
    {
     "cell_type": "heading",
     "level": 2,
     "metadata": {},
     "source": [
      "It's worth emphaszing that inf_av is a \"rear view\" while BEI is \"forward looking.\" Actual money is locked in on the latter. So let's mix the rear and forward views equally at arrive at a \"present\" view."
     ]
    },
    {
     "cell_type": "code",
     "collapsed": false,
     "input": [
      "bei_inf_av = todf((bei + inf_av) / 2) "
     ],
     "language": "python",
     "metadata": {},
     "outputs": [],
     "prompt_number": 17
    },
    {
     "cell_type": "code",
     "collapsed": false,
     "input": [
      "plotdf(bei_inf_av[start:], 'Inflation BEI av')"
     ],
     "language": "python",
     "metadata": {},
     "outputs": [
      {
       "metadata": {},
       "output_type": "display_data",
       "png": "[encoded data removed]",
       "text": [
        "<matplotlib.figure.Figure at 0xac9d59cc>"
       ]
      },
      {
       "output_type": "stream",
       "stream": "stdout",
       "text": [
        " ::  Finished: plotdf-Inflation_BEI_av.png\n"
       ]
      }
     ],
     "prompt_number": 18
    },
    {
     "cell_type": "code",
     "collapsed": false,
     "input": [
      "tail(bei_inf_av)"
     ],
     "language": "python",
     "metadata": {},
     "outputs": [
      {
       "metadata": {},
       "output_type": "pyout",
       "prompt_number": 19,
       "text": [
        "                   Y\n",
        "T                   \n",
        "2014-06-01  2.003028\n",
        "2014-07-01  1.993892\n",
        "2014-08-01  1.894606\n",
        "2014-09-01  1.823617\n",
        "2014-10-01  1.757391\n",
        "2014-11-01  1.633505\n",
        "2014-12-01  1.394278"
       ]
      }
     ],
     "prompt_number": 19
    },
    {
     "cell_type": "heading",
     "level": 3,
     "metadata": {},
     "source": [
      "Our present inflation measure consisting of 1 part each of CPI, CPI core, PCE, PCE core -- plus 4 parts of BEI -- does have strong correlation with the Fed's favored inflation measure, see appendix below."
     ]
    },
    {
     "cell_type": "heading",
     "level": 1,
     "metadata": {},
     "source": [
      "Comparison to Gold annualized returns"
     ]
    },
    {
     "cell_type": "markdown",
     "metadata": {},
     "source": [
      "The gold data from FRED is daily, not monthly, so we resample accordingly. "
     ]
    },
    {
     "cell_type": "code",
     "collapsed": false,
     "input": [
      "gold_daily = getfred( d4xau )\n",
      "gold = monthly(gold_daily)\n",
      "#  Monthly gold data since 1968-04-01"
     ],
     "language": "python",
     "metadata": {},
     "outputs": [],
     "prompt_number": 20
    },
    {
     "cell_type": "code",
     "collapsed": false,
     "input": [
      "#  Compute annualized returns:\n",
      "gold_ret = pcent(gold, 12)"
     ],
     "language": "python",
     "metadata": {},
     "outputs": [],
     "prompt_number": 21
    },
    {
     "cell_type": "code",
     "collapsed": false,
     "input": [
      "plotdf( gold_ret[start:] )"
     ],
     "language": "python",
     "metadata": {},
     "outputs": [
      {
       "metadata": {},
       "output_type": "display_data",
       "png": "[encoded data removed]",
       "text": [
        "<matplotlib.figure.Figure at 0xab234acc>"
       ]
      }
     ],
     "prompt_number": 22
    },
    {
     "cell_type": "heading",
     "level": 3,
     "metadata": {},
     "source": [
      "Perhaps unexpectedly, we see that gold returns do NOT strongly correlate with our inflation rates (combining rear and forward looking versions), see our Appendix."
     ]
    },
    {
     "cell_type": "markdown",
     "metadata": {},
     "source": [
      "However, it is known that real rates somewhat explain gold price. For example, when real rates are negative, gold looks like a better alternative than fixed income. So in another notebook, we look at 10-y TIPS vs. gold price."
     ]
    },
    {
     "cell_type": "heading",
     "level": 2,
     "metadata": {},
     "source": [
      "APPENDIX 1:  Overall CORRELATIONS\n"
     ]
    },
    {
     "cell_type": "code",
     "collapsed": false,
     "input": [
      "#  Conversions to dataframe with label before paste:\n",
      "dfa = todf( inf_av, 'Iav')\n",
      "dfb = todf( bei, 'BEI' )\n",
      "dfc = todf( bei_inf_av, 'BEI_Iav')\n",
      "dfd = todf( gold_ret, 'Gold' )"
     ],
     "language": "python",
     "metadata": {},
     "outputs": [],
     "prompt_number": 23
    },
    {
     "cell_type": "code",
     "collapsed": false,
     "input": [
      "#  Mother of all annualized inflation rates:\n",
      "infall = paste( [inf, dfa, dfb, dfc, dfd] )"
     ],
     "language": "python",
     "metadata": {},
     "outputs": [],
     "prompt_number": 24
    },
    {
     "cell_type": "code",
     "collapsed": false,
     "input": [
      "#  Correlation matrix going back to 2003-01-01 (start of BEI)\n",
      "cormatrix(infall)"
     ],
     "language": "python",
     "metadata": {},
     "outputs": [
      {
       "metadata": {},
       "output_type": "pyout",
       "prompt_number": 25,
       "text": [
        "              CPI      CPIc       PCE      PCEc       Iav       BEI   BEI_Iav  \\\n",
        "CPI      1.000000  0.474120  0.990622  0.739846  0.971721  0.530389  0.923311   \n",
        "CPIc     0.474120  1.000000  0.460276  0.832302  0.649081  0.254937  0.578081   \n",
        "PCE      0.990622  0.460276  1.000000  0.778708  0.973807  0.539102  0.928241   \n",
        "PCEc     0.739846  0.832302  0.778708  1.000000  0.874817  0.458853  0.823979   \n",
        "Iav      0.971721  0.649081  0.973807  0.874817  1.000000  0.529831  0.943957   \n",
        "BEI      0.530389  0.254937  0.539102  0.458853  0.529831  1.000000  0.780069   \n",
        "BEI_Iav  0.923311  0.578081  0.928241  0.823979  0.943957  0.780069  1.000000   \n",
        "Gold     0.475334  0.119828  0.500489  0.368790  0.457367  0.220171  0.423112   \n",
        "\n",
        "             Gold  \n",
        "CPI      0.475334  \n",
        "CPIc     0.119828  \n",
        "PCE      0.500489  \n",
        "PCEc     0.368790  \n",
        "Iav      0.457367  \n",
        "BEI      0.220171  \n",
        "BEI_Iav  0.423112  \n",
        "Gold     1.000000  "
       ]
      }
     ],
     "prompt_number": 25
    },
    {
     "cell_type": "markdown",
     "metadata": {},
     "source": [
      "CPI and PCE are tightly correlated, as are CPIc and PCEc. Surprisingly, CPI and CPIc are only moderately correlated, only 47%. The market traded BEI is modestly correlated with economic statistics of inflation. Gold returns seemingly have little to do with inflation (more correlated with headline inflation, as it includes food and energy, than core inflation, which excludes such components)."
     ]
    },
    {
     "cell_type": "code",
     "collapsed": false,
     "input": [
      "#  Most recent values:\n",
      "tail(infall)"
     ],
     "language": "python",
     "metadata": {},
     "outputs": [
      {
       "metadata": {},
       "output_type": "pyout",
       "prompt_number": 26,
       "text": [
        "                 CPI      CPIc       PCE      PCEc       Iav   BEI   BEI_Iav  \\\n",
        "T                                                                              \n",
        "2014-06-01  2.075496  1.927383  1.605614  1.495733  1.776056  2.23  2.003028   \n",
        "2014-07-01  1.996553  1.854931  1.573990  1.485662  1.727784  2.26  1.993892   \n",
        "2014-08-01  1.711412  1.729024  1.450057  1.466353  1.589212  2.20  1.894606   \n",
        "2014-09-01  1.664221  1.736551  1.429209  1.478953  1.577233  2.07  1.823617   \n",
        "2014-10-01  1.651111  1.817423  1.401492  1.509104  1.594783  1.92  1.757391   \n",
        "2014-11-01  1.281443  1.711828  1.151644  1.403127  1.387011  1.88  1.633505   \n",
        "2014-12-01  0.662847  1.612027  0.748578  1.330772  1.088556  1.70  1.394278   \n",
        "\n",
        "                Gold  \n",
        "T                     \n",
        "2014-06-01 -7.889010  \n",
        "2014-07-01  1.945525  \n",
        "2014-08-01 -4.215976  \n",
        "2014-09-01 -8.035048  \n",
        "2014-10-01 -6.736243  \n",
        "2014-11-01 -8.234146  \n",
        "2014-12-01 -2.298029  "
       ]
      }
     ],
     "prompt_number": 26
    },
    {
     "cell_type": "heading",
     "level": 1,
     "metadata": {},
     "source": [
      "Appendix 2:  New series codified"
     ]
    },
    {
     "cell_type": "markdown",
     "metadata": {},
     "source": [
      "To readily access our findings above, we developed the **m4infl** series. Each measure of inflation *levels* is first rescaled such that the most recent point is equal to 1. This eliminates the base year problem and the arbitrarily set level of 100 somewhere in time. Now we can take the simple average among inflation levels which is by construction will be equally weighted. \n",
      "\n",
      "As a very convenient by-product, the recipricol of m4infl yields *multiplicative factors useful for deflating prices*, see **m4defl**.\n",
      "\n",
      "The average between backward and forward-looking inflation *rates* is codified as **m4inflbei**."
     ]
    },
    {
     "cell_type": "code",
     "collapsed": false,
     "input": [
      "#  Let's see if our two different methods agree:\n",
      "infl = getfred(m4infl)"
     ],
     "language": "python",
     "metadata": {},
     "outputs": [],
     "prompt_number": 27
    },
    {
     "cell_type": "code",
     "collapsed": false,
     "input": [
      "inflrate = pcent(infl, 12)"
     ],
     "language": "python",
     "metadata": {},
     "outputs": [],
     "prompt_number": 28
    },
    {
     "cell_type": "code",
     "collapsed": false,
     "input": [
      "stat2( dfa['Iav'], inflrate['Y'] )"
     ],
     "language": "python",
     "metadata": {},
     "outputs": [
      {
       "output_type": "stream",
       "stream": "stdout",
       "text": [
        " ::  FIRST variable:\n",
        "count    660.000000\n",
        "mean       3.640421\n",
        "std        2.484236\n",
        "min       -0.160953\n",
        "25%        1.807088\n",
        "50%        2.834695\n",
        "75%        4.589724\n",
        "max       12.016273\n",
        "Name: Iav, dtype: float64\n",
        "\n",
        " ::  SECOND variable:\n",
        "count    660.000000\n",
        "mean       3.622258\n",
        "std        2.461081\n",
        "min       -0.176972\n",
        "25%        1.806515\n",
        "50%        2.823135\n",
        "75%        4.592996\n",
        "max       11.868998\n",
        "Name: Y, dtype: float64"
       ]
      },
      {
       "output_type": "stream",
       "stream": "stdout",
       "text": [
        "\n",
        "\n",
        " ::  CORRELATION\n",
        "0.999958175524\n",
        "\n",
        "-------------------------Summary of Regression Analysis-------------------------\n",
        "\n",
        "Formula: Y ~ <x> + <intercept>\n",
        "\n",
        "Number of Observations:         660\n",
        "Number of Degrees of Freedom:   2\n",
        "\n",
        "R-squared:         0.9999\n",
        "Adj R-squared:     0.9999\n",
        "\n",
        "Rmse:              0.0227\n",
        "\n",
        "F-stat (1, 658): 7865713.8149, p-value:     0.0000\n",
        "\n",
        "Degrees of Freedom: model 1, resid 658\n",
        "\n",
        "-----------------------Summary of Estimated Coefficients------------------------\n",
        "      Variable       Coef    Std Err     t-stat    p-value    CI 2.5%   CI 97.5%\n",
        "--------------------------------------------------------------------------------\n",
        "             x     1.0094     0.0004    2804.59     0.0000     1.0087     1.0101\n",
        "     intercept    -0.0158     0.0016     -10.00     0.0000    -0.0189    -0.0127\n",
        "---------------------------------End of Summary---------------------------------\n"
       ]
      },
      {
       "output_type": "stream",
       "stream": "stdout",
       "text": [
        "\n"
       ]
      }
     ],
     "prompt_number": 29
    },
    {
     "cell_type": "markdown",
     "metadata": {},
     "source": [
      "Our results are almost perfectly correlated, which we expected by construction."
     ]
    },
    {
     "cell_type": "heading",
     "level": 2,
     "metadata": {},
     "source": [
      "Inflation forecast"
     ]
    },
    {
     "cell_type": "markdown",
     "metadata": {},
     "source": [
      "For predicting inflation, it is better to use levels, rather than rates, as primary form of time-series. Forecasting will be covered in detail in another notebook. But here we quickly demonstrate the Holt-Winters method."
     ]
    },
    {
     "cell_type": "code",
     "collapsed": false,
     "input": [
      "#  Let's forecast 12 periods ahead:\n",
      "holtfred( infl, 12 )"
     ],
     "language": "python",
     "metadata": {},
     "outputs": [
      {
       "metadata": {},
       "output_type": "pyout",
       "prompt_number": 30,
       "text": [
        "    Forecast\n",
        "0   1.000000\n",
        "1   1.004692\n",
        "2   1.005643\n",
        "3   1.006594\n",
        "4   1.007545\n",
        "5   1.008496\n",
        "6   1.009447\n",
        "7   1.010398\n",
        "8   1.011349\n",
        "9   1.012300\n",
        "10  1.013251\n",
        "11  1.014202\n",
        "12  1.015153"
       ]
      }
     ],
     "prompt_number": 30
    },
    {
     "cell_type": "markdown",
     "metadata": {},
     "source": [
      "2015-02-03:  The 12-months ahead forecast calls for an annual inflation rate of 1.52% (average of CPI, CPIc, PCE, and PCEc)."
     ]
    },
    {
     "cell_type": "code",
     "collapsed": false,
     "input": [],
     "language": "python",
     "metadata": {},
     "outputs": [],
     "prompt_number": 30
    }
   ],
   "metadata": {}
  }
 ]
}