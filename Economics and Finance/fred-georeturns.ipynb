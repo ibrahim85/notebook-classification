{
 "cells": [
  {
   "cell_type": "markdown",
   "metadata": {},
   "source": [
    "# Comparative geometric mean returns\n",
    "\n",
    "We examine economic and financial time series where Holt-Winters \n",
    "is used to forecast one-year ahead. Daily data for bonds, equity, \n",
    "and gold is then analyzed.\n",
    "\n",
    "Our focus is on geometric mean returns since they \n",
    "optimally express mean-variance under logarithmic utility. \n",
    "We shall cover portfolio optimization in another notebook.\n",
    "\n",
    "[ ] TODO: *use sympy to symbolically derive geometric mean \n",
    "return from the moments of an asset's return distribution.* \n",
    "Our function georet() gives a *numerical* approximation. "
   ]
  },
  {
   "cell_type": "markdown",
   "metadata": {},
   "source": [
    "*Dependencies:*\n",
    "\n",
    "- Repository: https://github.com/rsvp/fecon235\n",
    "- Python: matplotlib, pandas\n",
    "     \n",
    "*CHANGE LOG*\n",
    "\n",
    "    2016-01-05  MAJOR REWRITE: use pattern from monthly and daily series\n",
    "                   for new functions groupget, grouppc, groupgeoret.\n",
    "                   Forecast print out replaced by preservable groupholtf.\n",
    "                   Dictionary comprehension clarifies code.\n",
    "    2016-01-03  Fix issue #2 with v4 and p6 upgrades.\n",
    "    2015-05-26  Code revision using template v14.12.21.\n",
    "    2014-10-11  Code review. Template 2014-09-28.\n",
    "    2014-09-01  First version."
   ]
  },
  {
   "cell_type": "code",
   "execution_count": 1,
   "metadata": {
    "collapsed": true
   },
   "outputs": [],
   "source": [
    "from fecon235.fecon235 import *"
   ]
  },
  {
   "cell_type": "code",
   "execution_count": 2,
   "metadata": {
    "collapsed": false
   },
   "outputs": [
    {
     "name": "stdout",
     "output_type": "stream",
     "text": [
      " ::  Python 2.7.10\n",
      " ::  IPython 4.0.0\n",
      " ::  jupyter 1.0.0\n",
      " ::  notebook 4.0.6\n",
      " ::  matplotlib 1.4.3\n",
      " ::  numpy 1.10.1\n",
      " ::  pandas 0.17.1\n",
      " ::  pandas_datareader 0.2.0\n",
      " ::  Repository: fecon235 v4.15.1230 develop\n",
      " ::  Timestamp: 2016-01-06, 17:06:06 UTC\n",
      " ::  $pwd: /media/yaya/virt15h/virt/dbx/Dropbox/ipy/fecon235/nb\n"
     ]
    }
   ],
   "source": [
    "#  PREAMBLE-p6.15.1223 :: Settings and system details\n",
    "from __future__ import absolute_import, print_function\n",
    "system.specs()\n",
    "pwd = system.getpwd()   # present working directory as variable.\n",
    "print(\" ::  $pwd:\", pwd)\n",
    "#  If a module is modified, automatically reload it:\n",
    "%load_ext autoreload\n",
    "%autoreload 2\n",
    "#       Use 0 to disable this feature.\n",
    "\n",
    "#  Notebook DISPLAY options:\n",
    "#      Represent pandas DataFrames as text; not HTML representation:\n",
    "import pandas as pd\n",
    "pd.set_option( 'display.notebook_repr_html', False )\n",
    "#  Beware, for MATH display, use %%latex, NOT the following:\n",
    "#                   from IPython.display import Math\n",
    "#                   from IPython.display import Latex\n",
    "from IPython.display import HTML # useful for snippets\n",
    "#  e.g. HTML('<iframe src=http://en.mobile.wikipedia.org/?useformat=mobile width=700 height=350></iframe>')\n",
    "from IPython.display import Image \n",
    "#  e.g. Image(filename='holt-winters-equations.png', embed=True) # url= also works\n",
    "from IPython.display import YouTubeVideo\n",
    "#  e.g. YouTubeVideo('1j_HxD4iLn8', start='43', width=600, height=400)\n",
    "from IPython.core import page\n",
    "get_ipython().set_hook('show_in_pager', page.as_hook(page.display_page), 0)\n",
    "#  Or equivalently in config file: \"InteractiveShell.display_page = True\", \n",
    "#  which will display results in secondary notebook pager frame in a cell.\n",
    "\n",
    "#  Generate PLOTS inside notebook, \"inline\" generates static png:\n",
    "%matplotlib inline   \n",
    "#          \"notebook\" argument allows interactive zoom and resize."
   ]
  },
  {
   "cell_type": "markdown",
   "metadata": {},
   "source": [
    "## Download data and construct a dataframe\n",
    "\n",
    "We retrieve the following data of monthly frequency: **(aggregated) inflation, \n",
    "bonds (zero coupon equivalent of 10-y Treasury), equities (S&P 500), and \n",
    "gold (London PM fix)** -- all denominated in US dollars -- **then lastly, the \n",
    "real trade-weighted USD index (Federal Reserve) and US home prices (per Case-Shiller).** \n",
    "The details for each series is given in their respective notebooks. \n",
    "If the available data has daily frequency, we use the pandas method called \n",
    "\"resampling\" to induce monthly data (enter \"monthly??\" in an \n",
    "input cell for more details).\n",
    "\n",
    "ATTENTION: *The inclusion of home prices, unfortunately, will create a 3-month lag, \n",
    "due to their release cycle. Since this is a comparative study, \n",
    "the rest of the data will appear somewhat stale, but this \n",
    "section is intended for long-term trends.* \n",
    "Second half of this notebook will examine more responsive daily data."
   ]
  },
  {
   "cell_type": "code",
   "execution_count": 3,
   "metadata": {
    "collapsed": false
   },
   "outputs": [
    {
     "name": "stdout",
     "output_type": "stream",
     "text": [
      " ::  Case-Shiller prepend successfully goes back to 1987.\n",
      " ::  S&P 500 prepend successfully goes back to 1957.\n"
     ]
    }
   ],
   "source": [
    "#  Specify monthly series of interest as a dictionary:\n",
    "msdic = {'Infl' : m4infl, 'Zero10' : m4zero10, 'SPX' : m4spx, \n",
    "         'XAU' : m4xau, 'USD' : m4usdrtb, 'Homes' : m4homepx }\n",
    "\n",
    "#  Download data into a dataframe:\n",
    "msdf = groupget( msdic )\n",
    "#     \"groupget??\" at input cell gives function details."
   ]
  },
  {
   "cell_type": "markdown",
   "metadata": {},
   "source": [
    "After downloading the level series, we compute the YoY percentage change \n",
    "for each series. *This will be the a trailing 12-month statistic, \n",
    "thus it is overlapping.*"
   ]
  },
  {
   "cell_type": "code",
   "execution_count": 4,
   "metadata": {
    "collapsed": false
   },
   "outputs": [],
   "source": [
    "#  Construct the mega YoY dataframe:\n",
    "mega = grouppc( msdf, freq=12 )"
   ]
  },
  {
   "cell_type": "markdown",
   "metadata": {},
   "source": [
    "### Define start time and get stats"
   ]
  },
  {
   "cell_type": "code",
   "execution_count": 5,
   "metadata": {
    "collapsed": false
   },
   "outputs": [],
   "source": [
    "#  Define start time as t0\n",
    "t0 = '1988'\n",
    "\n",
    "#  We can easily rerun the rest of this notebook \n",
    "#  by specifying another start time, then: Cell > Run All Below"
   ]
  },
  {
   "cell_type": "code",
   "execution_count": 6,
   "metadata": {
    "collapsed": false
   },
   "outputs": [
    {
     "name": "stdout",
     "output_type": "stream",
     "text": [
      "            Homes        Infl         SPX         USD         XAU      Zero10\n",
      "count  334.000000  334.000000  334.000000  334.000000  334.000000  334.000000\n",
      "mean     3.905883    2.397870    8.708560   -0.034278    4.657274    2.247932\n",
      "std      8.002381    1.015202   16.260123    5.224677   15.495695    7.390370\n",
      "min    -18.906156   -0.183948  -42.349361  -10.574015  -27.752361  -18.521264\n",
      "25%     -1.069951    1.678485    2.316010   -3.627323   -6.904147   -3.085161\n",
      "50%      4.490362    2.349958   10.596906   -0.157484    1.745723    2.892972\n",
      "75%     10.605588    2.847579   19.535143    2.929578   13.956456    7.705685\n",
      "max     17.077118    5.243597   52.051354   14.502797   60.357143   20.492399\n",
      "\n",
      " ::  Index on min:\n",
      "Homes    2009-01-01\n",
      "Infl     2009-07-01\n",
      "SPX      2009-03-01\n",
      "USD      2008-03-01\n",
      "XAU      2013-12-01\n",
      "Zero10   1994-10-01\n",
      "dtype: datetime64[ns]\n",
      "\n",
      " ::  Index on max:\n",
      "Homes    2004-07-01\n",
      "Infl     1990-10-01\n",
      "SPX      2010-03-01\n",
      "USD      2009-03-01\n",
      "XAU      2006-05-01\n",
      "Zero10   1996-01-01\n",
      "dtype: datetime64[ns]\n",
      "\n",
      " ::  Head:\n",
      "                Homes      Infl        SPX       USD        XAU     Zero10\n",
      "T                                                                         \n",
      "1988-01-01  12.139461  3.984319  -6.207571 -9.836868  17.042392 -12.661625\n",
      "1988-02-01  11.661442  3.875810  -8.186030 -8.633477   9.982617  -8.068941\n",
      "1988-03-01  11.345646  3.923987  -8.156954 -9.393214   8.841782  -9.248410\n",
      "1988-04-01  10.974485  3.992633  -8.960111 -8.283502   2.878355  -5.477528\n",
      "1988-05-01  10.543908  4.017451 -11.871026 -7.507266  -1.578661  -4.487925\n",
      "1988-06-01  10.559567  4.128604 -10.689462 -7.401580   0.022137  -4.738070\n",
      "1988-07-01  10.756853  4.275829 -12.487441 -6.469468  -3.115990  -5.671538\n",
      "\n",
      " ::  Tail:\n",
      "               Homes      Infl        SPX        USD        XAU    Zero10\n",
      "T                                                                        \n",
      "2015-04-01  4.833607  0.790537  12.280293  10.154619  -7.736721  7.202302\n",
      "2015-05-01  4.844291  0.815938  12.167416   9.815597  -7.530004  3.148595\n",
      "2015-06-01  4.841549  0.893118   7.790849  10.680445  -7.225832  2.011656\n",
      "2015-07-01  4.969711  0.891452   6.329319  12.875617 -12.641221  1.966971\n",
      "2015-08-01  5.097901  0.907884   6.557453  14.025825 -13.606178  2.058782\n",
      "2015-09-01  5.391610  0.842386  -2.590674  13.156224  -9.018853  3.285862\n",
      "2015-10-01  5.565592  0.879616   3.866075  10.834236  -5.184130  2.195704\n",
      "\n",
      " ::  Correlation matrix:\n",
      "           Homes      Infl       SPX       USD       XAU    Zero10\n",
      "Homes   1.000000  0.005092  0.247100  0.043519 -0.245234 -0.294438\n",
      "Infl    0.005092  1.000000 -0.008046 -0.357532 -0.047562 -0.066079\n",
      "SPX     0.247100 -0.008046  1.000000 -0.054522 -0.207546 -0.136715\n",
      "USD     0.043519 -0.357532 -0.054522  1.000000 -0.523893  0.207311\n",
      "XAU    -0.245234 -0.047562 -0.207546 -0.523893  1.000000 -0.002806\n",
      "Zero10 -0.294438 -0.066079 -0.136715  0.207311 -0.002806  1.000000\n"
     ]
    }
   ],
   "source": [
    "#  Slice the data:\n",
    "stats( mega[t0:] )"
   ]
  },
  {
   "cell_type": "markdown",
   "metadata": {},
   "source": [
    "There is not much correlation among our assets, \n",
    "except a mild negative between gold XAU and USD. \n",
    "(2015-05-26 at -0.51)\n",
    "\n",
    "\n",
    "## Boxplot of overlapping annual changes\n",
    "\n",
    "The boxplot gives us an idea of the range of annual returns, \n",
    "and their persistence due to overlap. Thus trends \n",
    "can be easily discerned.\n",
    "\n",
    "It is also a visual aid for the geometric mean returns \n",
    "which is most significant as investment metric. \n",
    "\n",
    "As usual, the *red line* plots the median, but \n",
    "the **red dot** represents the latest point."
   ]
  },
  {
   "cell_type": "code",
   "execution_count": 7,
   "metadata": {
    "collapsed": false
   },
   "outputs": [
    {
     "data": {
      "image/png": "[encoded data removed]",
      "text/plain": [
       "<matplotlib.figure.Figure at 0xacf0ac6c>"
      ]
     },
     "metadata": {},
     "output_type": "display_data"
    },
    {
     "name": "stdout",
     "output_type": "stream",
     "text": [
      " ::  Finished: boxplot-Assets_YoYm.png\n"
     ]
    }
   ],
   "source": [
    "#  Overlapping YoY percentage change, recently:\n",
    "boxplot(mega[t0:], 'Assets YoYm')\n",
    "#  where the red dot represents the latest point."
   ]
  },
  {
   "cell_type": "markdown",
   "metadata": {},
   "source": [
    "Red dot outside the mid-range box alerts us to unusual conditions. \n",
    "Attention should also be paid to the extreme value \"slash\" marks \n",
    "(where outliers are also revealed).\n"
   ]
  },
  {
   "cell_type": "markdown",
   "metadata": {},
   "source": [
    "## Geometric mean returns on non-overlapping periods\n",
    "\n",
    "David E. Shaw, famous for his proprietary hedge fund, remarked that \n",
    "one of the most important equations in finance is the penalization \n",
    "of arithmetic mean by one-half of variance:\n",
    "\n",
    "$ g = \\mu - (\\sigma^2 / 2) $\n",
    "\n",
    "which turns out to be our geometric mean return. It is an approximation, \n",
    "by the way, but good enough to maximize, instead of considering \n",
    "intricate mean-variance trade-off. We find it useful also as a metric \n",
    "for economic variables.\n",
    "\n",
    "The source code shows us that georet() first gives us \n",
    "the *geometric* mean return, followed by \n",
    "the **arithmetic mean return and volatility**, \n",
    "then finally, the yearly frequency used -- in list format."
   ]
  },
  {
   "cell_type": "code",
   "execution_count": 8,
   "metadata": {
    "collapsed": false
   },
   "outputs": [
    {
     "data": {
      "text/plain": [
       "\u001b[1;31mSignature: \u001b[0m\u001b[0mgeoret\u001b[0m\u001b[1;33m(\u001b[0m\u001b[0mdfx\u001b[0m\u001b[1;33m,\u001b[0m \u001b[0myearly\u001b[0m\u001b[1;33m=\u001b[0m\u001b[1;36m256\u001b[0m\u001b[1;33m)\u001b[0m\u001b[1;33m\u001b[0m\u001b[0m\n",
       "\u001b[1;31mSource:\u001b[0m\n",
       "def georet( dfx, yearly=256 ):\n",
       "     '''Compute geometric mean return in a summary list.'''\n",
       "     #  yearly refers to frequency, e.g. 256 for daily trading days,\n",
       "     #                                    12 for monthly, \n",
       "     #                                     4 for quarterly.\n",
       "     #-alt  dflg = np.log( dfx )\n",
       "     #-alt  dfpc = dflg.diff( periods=1 )\n",
       "     dfpc = dfx.pct_change( periods=1 )\n",
       "     #          ^instead of first difference of logged data,\n",
       "     #           gives slightly higher arithmetic means.\n",
       "     mean = dfpc.mean().values.tolist()[0] * yearly\n",
       "     vari = dfpc.var().values.tolist()[0]  * yearly\n",
       "     #          ^summary statistics methods, see\n",
       "     #           McKinney, p.139, Table 5-10.\n",
       "     geor = mean - (0.5*vari)\n",
       "     #      ^arithmetic mean return penalized by risk, \n",
       "     #      optimal choice under log utility.\n",
       "     lst = [ geor, mean, vari ** 0.5 ]\n",
       "     #                        ^^^^^^i.e. std sigma, or volatility.\n",
       "     lst = [ round(i*100, 2) for i in lst ]\n",
       "     #       ^[ geor, mean, volatility ] in readable % form.\n",
       "     return lst + [ yearly ]\n",
       "\u001b[1;31mFile:      \u001b[0m~/Dropbox/ipy/fecon235/lib/yi_1tools.py\n",
       "\u001b[1;31mType:      \u001b[0mfunction"
      ]
     },
     "metadata": {},
     "output_type": "display_data"
    }
   ],
   "source": [
    "#  How are we computing geometric mean returns?\n",
    "#  Just add \"?\" or \"??\" to variables, procedures, etc.\n",
    "#  to find out the details, e.g.\n",
    "\n",
    "georet??"
   ]
  },
  {
   "cell_type": "code",
   "execution_count": 9,
   "metadata": {
    "collapsed": false
   },
   "outputs": [
    {
     "data": {
      "text/plain": [
       "{'Homes': [3.39, 3.42, 2.53, 12],\n",
       " 'Infl': [2.32, 2.32, 0.5, 12],\n",
       " 'SPX': [7.58, 8.33, 12.25, 12],\n",
       " 'USD': [0.19, 0.28, 4.13, 12],\n",
       " 'XAU': [3.2, 4.05, 13.05, 12],\n",
       " 'Zero10': [2.07, 2.33, 7.15, 12]}"
      ]
     },
     "execution_count": 9,
     "metadata": {},
     "output_type": "execute_result"
    }
   ],
   "source": [
    "#  Geometric mean returns, non-overlapping, annualized:\n",
    "groupgeoret( msdf[t0:], yearly=12 )\n",
    "    \n",
    "#  Note that we applied groupgeoret to msdf, not mega.\n",
    "#  Generally georet requires price levels.\n",
    "#  groupgeoret is just georet for group dataframes."
   ]
  },
  {
   "cell_type": "markdown",
   "metadata": {},
   "source": [
    "#### Note: the geometric returns do not include interest and dividend payouts for bonds and equities. Some observations in chronological order:\n",
    "\n",
    "- 2014-09-01, georet since 2010\n",
    "    - Inflation at 1.7% which is below Fed target of 2%.\n",
    "    - Total return on bonds, approx 2.52 + 2.33 = 4.85%\n",
    "    - Total return on equity, approx. 11.9 + 2 = 13.9% -- very heated.\n",
    "    - Gold indecisive about breaking 1260 LTS.\n",
    "    - USD though at -0.69%, will strengthen given Draghi wanting weak EUR.\n",
    " \n",
    " \n",
    " - 2014-10-11, georet since 2004\n",
    "    - Inflation over ten years is running 2% annually.\n",
    "    - Gold dominates over ten years.\n",
    "    - Gold recently holds at 1180 triple local bottom.\n",
    "\n",
    "\n",
    " - 2014-10-12, georet since 1988\n",
    "    - Inflation in the long-run about 3% annually.\n",
    "    - Bond price alone increases 2% annually (excludes interest income).\n",
    "    - Gold at 1.73% does not keep up with inflation.\n",
    "    - USD at break-even over the long-run.\n",
    "    - Home prices have georet of 3.6%.\n",
    "\n",
    "\n",
    "- 2015-05-27, georet since 1988\n",
    "    - Inflation in the long-run drops 70 bp to about 2.3% annually.\n",
    "    - Bond price continues its increase at 2% annually.\n",
    "    - Gold at 3.4% reacting more to stronger USD (cf. correlation).\n",
    "    - Home prices also have georet of 3.4% (but low 2.6% volatility).\n",
    "\n",
    "\n",
    "- 2016-01-03, georet since 1988\n",
    "    - Long-run inflation is 2.3% annually (Current Fed target: 2.0%).\n",
    "    - Bond price increases at 2% annually (but Fed has just hiked rates!).\n",
    "    - Equities at robust 7.6% annually (but ZIRP is finished).\n",
    "    - Gold moving along at 2.9% (reflecting horrible 2015 year).\n",
    "    - Nominal home prices at steady 3.4% per annum. "
   ]
  },
  {
   "cell_type": "markdown",
   "metadata": {},
   "source": [
    "# Forecasts using Holt-Winters method\n",
    "\n",
    "We forecast one-year ahead using the monthly data. \n",
    "Note that the most current infl level is rebased to 1, \n",
    "thus 1.02 would signify 2% increase."
   ]
  },
  {
   "cell_type": "code",
   "execution_count": 10,
   "metadata": {
    "collapsed": false
   },
   "outputs": [
    {
     "data": {
      "text/plain": [
       "            Homes      Infl          SPX         USD          XAU     Zero10\n",
       "0   216295.322178  0.999125  2021.400000   97.185000  1165.050000  83.183904\n",
       "1   216719.918400  0.999473  2067.207192   99.116894  1126.538411  83.140498\n",
       "2   217393.597328  1.000433  2063.544333   99.945673  1117.644357  83.208857\n",
       "3   218067.276256  1.001392  2059.881474  100.774452  1108.750303  83.277216\n",
       "4   218740.955184  1.002352  2056.218615  101.603231  1099.856249  83.345574\n",
       "5   219414.634112  1.003312  2052.555756  102.432010  1090.962195  83.413933\n",
       "6   220088.313040  1.004272  2048.892897  103.260789  1082.068141  83.482292\n",
       "7   220761.991968  1.005232  2045.230038  104.089568  1073.174088  83.550651\n",
       "8   221435.670896  1.006192  2041.567179  104.918347  1064.280034  83.619010\n",
       "9   222109.349824  1.007152  2037.904320  105.747125  1055.385980  83.687369\n",
       "10  222783.028752  1.008112  2034.241461  106.575904  1046.491926  83.755727\n",
       "11  223456.707680  1.009072  2030.578602  107.404683  1037.597872  83.824086\n",
       "12  224130.386608  1.010032  2026.915743  108.233462  1028.703819  83.892445"
      ]
     },
     "execution_count": 10,
     "metadata": {},
     "output_type": "execute_result"
    }
   ],
   "source": [
    "#  These 12-periods ahead forecasts use default alpha and beta values\n",
    "#  found to be optimal for a fixed Kalman filter.\n",
    "\n",
    "groupholtf( msdf, h=12 )"
   ]
  },
  {
   "cell_type": "markdown",
   "metadata": {},
   "source": [
    "### Forecast log for monthly data\n",
    "\n",
    "Changing Holt-Winters *alpha* from 0.20 to 0.10 varies the forecast only slightly. The important parameter is *beta* to capture trend effects. Currently we shall rely on default Holt-Winters settings for robustness.\n",
    "\n",
    "\n",
    "- 2014-09-01, Twelve-month Forecasts given data through 2014-07-01:\n",
    "    - Inflation at 1.44%.\n",
    "    - 10-y Bonds price -6.7%, thus rate +75 bp given zero10dur. \n",
    "    - SPX +16.6% to 2280.\n",
    "    - Gold tanks from 1286 to 1067. \n",
    "    - USD +1.4% broadly.\n",
    "\n",
    "\n",
    "- 2014-10-11, Twelve-month Forecasts given ten-year data, robust HW:\n",
    "    - Inflation at 1.9%\n",
    "    - Zero10 indicates slight downward pressure on interest rates.\n",
    "    - SPX to 2239, but market seems skeptical.\n",
    "    - Gold tanks to 1184 (region which we have seen just recently).\n",
    "    - USD definitely has an upward bias against all FX, even NZD and AUD.\n",
    "    - Home prices looking to increase from \\$203K to \\$220K \n",
    "\n",
    "\n",
    "- 2015-05-28, Twelve-month Forecasts given data through 2015-03-01, robust HW:\n",
    "    - Inflation at 0.5% (which seems dramatic).\n",
    "    - Zero10 price increases by 8.92%, thus 10-year rate decreases by 100 bp.\n",
    "    - SPX to 2322, but no metric says it's fair valued.\n",
    "    - Gold to 1130, which would break support.\n",
    "    - USD very strong, up 12% globally (QE-EU started, and possible Grexit).\n",
    "    - Home prices looking to increase from \\$214K to \\$223K\n",
    "\n",
    "\n",
    "- 2016-01-03, Twelve-month Forecasts given data through 2015-10-01, robust HW:\n",
    "    - Inflation at 1.1% (still below Fed target, see https://git.io/fed)\n",
    "    - Bonds and equities, forecasting Zero10 and SPX, will be flat.\n",
    "    - Gold to continue down trend, expected to fall to \\$941 in a year.\n",
    "    - USD 10% higher in light of divergence between Fed hike(s) and ECB QE.\n",
    "    - Home prices expected to be flat (but watch mortgage spreads)."
   ]
  },
  {
   "cell_type": "markdown",
   "metadata": {},
   "source": [
    "# DAILY DATA, including major FX\n",
    "\n",
    "We examine bonds (zero coupon equivalent of 10-y Treasury), \n",
    "equities (SPX), gold (XAU), EURUSD, and USDJPY \n",
    "at higher frequency (daily) for the most recent developments. \n",
    "\n",
    "*Inflation, real trade-weighted USD index, and US home price data \n",
    "have a slow monthly release schedule. \n",
    "And for home price data, there is a three month lag.* "
   ]
  },
  {
   "cell_type": "code",
   "execution_count": 11,
   "metadata": {
    "collapsed": false
   },
   "outputs": [],
   "source": [
    "#  Specify daily series of interest as a dictionary\n",
    "#  where key is name, and value is its data code:\n",
    "dsdic = { 'Zero10' : d4zero10, 'SPX' : d4spx, 'XAU' : d4xau, \n",
    "          'EURUSD' : d4eurusd, 'USDJPY' : d4usdjpy }"
   ]
  },
  {
   "cell_type": "code",
   "execution_count": 12,
   "metadata": {
    "collapsed": false
   },
   "outputs": [
    {
     "name": "stdout",
     "output_type": "stream",
     "text": [
      " ::  S&P 500 prepend successfully goes back to 1957.\n"
     ]
    }
   ],
   "source": [
    "#  Download data into a dataframe:\n",
    "dsdf = groupget( dsdic )"
   ]
  },
  {
   "cell_type": "code",
   "execution_count": 13,
   "metadata": {
    "collapsed": false
   },
   "outputs": [],
   "source": [
    "#  Construct the dega YoY percent dataframe:\n",
    "dega = grouppc( dsdf, freq=256 )\n",
    "#                         ^for daily data"
   ]
  },
  {
   "cell_type": "code",
   "execution_count": 14,
   "metadata": {
    "collapsed": true
   },
   "outputs": [],
   "source": [
    "#  Set the start date for daily series:\n",
    "u0 = '2010-01-01'"
   ]
  },
  {
   "cell_type": "code",
   "execution_count": 15,
   "metadata": {
    "collapsed": false
   },
   "outputs": [
    {
     "data": {
      "image/png": "[encoded data removed]",
      "text/plain": [
       "<matplotlib.figure.Figure at 0xab563ccc>"
      ]
     },
     "metadata": {},
     "output_type": "display_data"
    },
    {
     "name": "stdout",
     "output_type": "stream",
     "text": [
      " ::  Finished: boxplot-Assets_YoYd.png\n"
     ]
    }
   ],
   "source": [
    "#  Plot overlapping percentage changes:\n",
    "boxplot( dega[u0:], 'Assets YoYd' )\n",
    "\n",
    "#  Note that the \"last\" timestamp will be more\n",
    "#  recent than for the monthly series."
   ]
  },
  {
   "cell_type": "markdown",
   "metadata": {},
   "source": [
    "Although monthly data is more suitable for making long-term forecasts, \n",
    "daily data is much more sensitive to immediate market perturbations. \n",
    "\n",
    "2016-01-03  Good example of the foregoing remark is the \n",
    "reaction in the overall market due to the first Fed rate hike \n",
    "in almost a decade on 2015-12-16. ZIRP, zero interest rate program, \n",
    "has been terminated, along with US quantitative easing, \n",
    "thus asset prices must adjust to financing constraints. \n",
    "Note how equities and gold are now below their mid-range boxes."
   ]
  },
  {
   "cell_type": "code",
   "execution_count": 16,
   "metadata": {
    "collapsed": false
   },
   "outputs": [
    {
     "name": "stdout",
     "output_type": "stream",
     "text": [
      "            EURUSD          SPX       USDJPY          XAU       Zero10\n",
      "count  1565.000000  1565.000000  1565.000000  1565.000000  1565.000000\n",
      "mean     -3.239333    14.108931     4.967449     4.568358     1.861880\n",
      "std       9.126193    10.118387    11.876045    18.700101     6.470399\n",
      "min     -23.984762    -6.776581   -14.310589   -29.210332   -13.248728\n",
      "25%     -10.613876     7.172626    -6.285016    -9.629768    -1.231181\n",
      "50%      -2.304728    13.200272     2.984473    -0.627657     2.419923\n",
      "75%       3.984704    19.505195    15.422171    23.593619     5.626088\n",
      "max      21.056554    65.300874    30.357599    52.361809    18.075299\n",
      "\n",
      " ::  Index on min:\n",
      "EURUSD   2015-03-11\n",
      "SPX      2015-08-25\n",
      "USDJPY   2011-03-17\n",
      "XAU      2013-12-26\n",
      "Zero10   2010-01-07\n",
      "dtype: datetime64[ns]\n",
      "\n",
      " ::  Index on max:\n",
      "EURUSD   2011-06-06\n",
      "SPX      2010-03-02\n",
      "USDJPY   2013-05-28\n",
      "XAU      2011-09-06\n",
      "Zero10   2012-02-01\n",
      "dtype: datetime64[ns]\n",
      "\n",
      " ::  Head:\n",
      "              EURUSD        SPX    USDJPY        XAU     Zero10\n",
      "T                                                              \n",
      "2010-01-01  4.506344  22.574830  2.117389  27.081507 -11.463243\n",
      "2010-01-04  6.846980  27.252204  2.548476  32.369431 -11.776234\n",
      "2010-01-05  7.904398  30.595454  2.878992  35.822249 -11.858700\n",
      "2010-01-06  9.137748  30.437376  3.212493  36.721113 -12.554147\n",
      "2010-01-07  8.653408  35.492867  4.513889  37.583688 -13.248728\n",
      "2010-01-08  9.645639  35.702942  3.471370  39.104938 -13.173018\n",
      "2010-01-11  9.755361  34.919776  1.783143  38.290855 -12.321456\n",
      "\n",
      " ::  Tail:\n",
      "               EURUSD       SPX    USDJPY        XAU    Zero10\n",
      "T                                                             \n",
      "2015-12-23 -10.670281 -0.771985  1.340707 -11.422056 -0.618486\n",
      "2015-12-24  -9.470292  0.101511  0.392157 -11.422056 -0.706616\n",
      "2015-12-25  -9.470292  0.101511  0.392157 -11.422056 -0.706616\n",
      "2015-12-28  -8.589263 -0.082596  0.083195  -8.852389 -1.058205\n",
      "2015-12-29  -8.407451  2.859575  0.668673 -10.825000 -2.451747\n",
      "2015-12-30  -8.579088  3.033541  1.978691 -12.414790 -2.969830\n",
      "2015-12-31  -8.130288  0.890468  0.627510 -12.432879 -2.711703\n",
      "\n",
      " ::  Correlation matrix:\n",
      "          EURUSD       SPX    USDJPY       XAU    Zero10\n",
      "EURUSD  1.000000  0.471964 -0.163779  0.158736 -0.524794\n",
      "SPX     0.471964  1.000000  0.090843 -0.052154 -0.687276\n",
      "USDJPY -0.163779  0.090843  1.000000 -0.859083 -0.400329\n",
      "XAU     0.158736 -0.052154 -0.859083  1.000000  0.409829\n",
      "Zero10 -0.524794 -0.687276 -0.400329  0.409829  1.000000\n"
     ]
    }
   ],
   "source": [
    "stats(dega[u0:])"
   ]
  },
  {
   "cell_type": "markdown",
   "metadata": {},
   "source": [
    "- 2015-05-29, Suprisingly, very little correlation between EURUSD and USDJPY: -6%. Gold appears more correlated with USDJPY at -87% than EURUSD at +6%\n",
    "\n",
    "- 2016-01-05, Given the latest Fed hike, the correlation to watch is between equities and bonds (-0.69 SPX and Zero10)."
   ]
  },
  {
   "cell_type": "code",
   "execution_count": 17,
   "metadata": {
    "collapsed": false
   },
   "outputs": [
    {
     "data": {
      "text/plain": [
       "            EURUSD      SPX  USDJPY      XAU     Zero10\n",
       "T                                                      \n",
       "2015-12-23  1.0875  2064.29  120.94  1068.25  81.685673\n",
       "2015-12-24  1.0955  2060.99  120.32  1068.25  81.830579\n",
       "2015-12-25  1.0955  2060.99  120.32  1068.25  81.830579\n",
       "2015-12-28  1.0983  2056.50  120.30  1068.25  81.903134\n",
       "2015-12-29  1.0916  2078.36  120.44  1070.10  81.324593\n",
       "2015-12-30  1.0912  2063.36  120.60  1060.00  81.396674\n",
       "2015-12-31  1.0859  2043.94  120.27  1060.00  81.685673"
      ]
     },
     "execution_count": 17,
     "metadata": {},
     "output_type": "execute_result"
    }
   ],
   "source": [
    "#  What are the latest daily prices?\n",
    "tail( dsdf )"
   ]
  },
  {
   "cell_type": "code",
   "execution_count": 18,
   "metadata": {
    "collapsed": false
   },
   "outputs": [
    {
     "data": {
      "text/plain": [
       "{'EURUSD': [-4.54, -4.08, 9.64, 256],\n",
       " 'SPX': [9.92, 11.16, 15.76, 256],\n",
       " 'USDJPY': [4.19, 4.63, 9.3, 256],\n",
       " 'XAU': [-0.41, 1.08, 17.27, 256],\n",
       " 'Zero10': [2.28, 2.56, 7.48, 256]}"
      ]
     },
     "execution_count": 18,
     "metadata": {},
     "output_type": "execute_result"
    }
   ],
   "source": [
    "#  Geometric mean returns, non-overlapping, annualized:\n",
    "groupgeoret( dsdf[u0:], yearly=256 )"
   ]
  },
  {
   "cell_type": "markdown",
   "metadata": {},
   "source": [
    "### Closing remarks on daily data\n",
    "\n",
    "- 2014-10-11, Really near-term picture is too bright for SPX while XAU looks dark. Sell stocks, and start to accumulate gold.\n",
    "\n",
    "\n",
    "- 2015-05-28, XAU georet changed from 2.6% to 1.6%. Zero10 monthly forecast is basically unchanged. Real rate is what matters for gold. USD stronger by 4.8% against both the EUR and JPY.\n",
    "\n",
    "\n",
    "- 2016-01-03, XAU georet changed from 1.6% to -0.41%, commodities including oil going through a bear market. Bonds have not sold off despite 2015-12-16 Fed rate hike, probably due to world appetite for USD which is stronger by about 4.3% against EUR and JPY. SPX looks vulnerable given the past maxims about rate hikes, but the Fed is actually still very accomodative.\n",
    "\n",
    "[ ] TODO: notebook on r\\* the so-called natural interest rate."
   ]
  }
 ],
 "metadata": {
  "kernelspec": {
   "display_name": "Python 2",
   "language": "python",
   "name": "python2"
  },
  "language_info": {
   "codemirror_mode": {
    "name": "ipython",
    "version": 2
   },
   "file_extension": ".py",
   "mimetype": "text/x-python",
   "name": "python",
   "nbconvert_exporter": "python",
   "pygments_lexer": "ipython2",
   "version": "2.7.10"
  }
 },
 "nbformat": 4,
 "nbformat_minor": 0
}
