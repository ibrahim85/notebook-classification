{
 "metadata": {
  "name": "",
  "signature": "sha256:b42ceaae4652fe0ac40cd9ce351c135a0301fde4affc84066e413d970dd71fd6"
 },
 "nbformat": 3,
 "nbformat_minor": 0,
 "worksheets": [
  {
   "cells": [
    {
     "cell_type": "heading",
     "level": 1,
     "metadata": {},
     "source": [
      "U.S. GDP vs. Wage Income"
     ]
    },
    {
     "cell_type": "heading",
     "level": 2,
     "metadata": {},
     "source": [
      "For every wage dollar paid, what is GDP output?"
     ]
    },
    {
     "cell_type": "markdown",
     "metadata": {},
     "source": [
      "In answering this question, we derive a model for GDP growth based on observations from wage growth."
     ]
    },
    {
     "cell_type": "markdown",
     "metadata": {},
     "source": [
      "*Dependencies:*\n",
      "     - Linux, bash\n",
      "     - Python: matplotlib, pandas\n",
      "     - Modules: yi_1tools.py, yi_fred.py, yi_plot.py, yi_timeseries.py\n",
      "     \n",
      "*CHANGE LOG*\n",
      "\n",
      "    2014-12-07  Update code and commentary.\n",
      "    2014-08-15  First version."
     ]
    },
    {
     "cell_type": "code",
     "collapsed": false,
     "input": [
      "#  NOTEBOOK settings and system details:\n",
      "\n",
      "#  Assume that the backend is LINUX (our particular distro is Ubuntu, running bash shell):\n",
      "print '\\n ::  TIMESTAMP of last notebook execution:'\n",
      "!date\n",
      "print '\\n ::  IPython version:'\n",
      "!ipython --version\n",
      "\n",
      "#  Automatically reload modified modules:\n",
      "%load_ext autoreload\n",
      "%autoreload 2   #  0 will disable autoreload.\n",
      "#  Generate plots inside notebook:\n",
      "%matplotlib inline\n",
      "\n",
      "#  DISPLAY options\n",
      "from IPython.display import Image \n",
      "#  e.g. Image(filename='holt-winters-equations.png', embed=True)\n",
      "from IPython.display import YouTubeVideo\n",
      "#  e.g. YouTubeVideo('1j_HxD4iLn8')\n",
      "from IPython.display import HTML # useful for snippets\n",
      "#  e.g. HTML('<iframe src=http://en.mobile.wikipedia.org/?useformat=mobile width=700 height=350></iframe>')\n",
      "import pandas as pd\n",
      "print '\\n ::  pandas version:'\n",
      "print pd.__version__\n",
      "#      pandas DataFrames are represented as text by default; enable HTML representation:\n",
      "#      [Deprecated: pd.core.format.set_printoptions( notebook_repr_html=True ) ]\n",
      "pd.set_option( 'display.notebook_repr_html', False )\n",
      "\n",
      "#  MATH display, use %%latex, rather than the following:\n",
      "#                from IPython.display import Math\n",
      "#                from IPython.display import Latex\n",
      "\n",
      "print '\\n ::  Working directory (set as $workd):'\n",
      "workd, = !pwd\n",
      "print workd + '\\n'"
     ],
     "language": "python",
     "metadata": {},
     "outputs": [
      {
       "output_type": "stream",
       "stream": "stdout",
       "text": [
        "\n",
        " ::  TIMESTAMP of last notebook execution:\n"
       ]
      },
      {
       "output_type": "stream",
       "stream": "stdout",
       "text": [
        "Tue Dec  9 19:52:44 PST 2014\r\n"
       ]
      },
      {
       "output_type": "stream",
       "stream": "stdout",
       "text": [
        "\n",
        " ::  IPython version:\n"
       ]
      },
      {
       "output_type": "stream",
       "stream": "stdout",
       "text": [
        "2.3.0\r\n"
       ]
      },
      {
       "output_type": "stream",
       "stream": "stdout",
       "text": [
        "\n",
        " ::  pandas version:\n",
        "0.15.0\n",
        "\n",
        " ::  Working directory (set as $workd):\n"
       ]
      },
      {
       "output_type": "stream",
       "stream": "stdout",
       "text": [
        "/home/yaya/Dropbox/ipy/fecon235/nb\n",
        "\n"
       ]
      }
     ],
     "prompt_number": 1
    },
    {
     "cell_type": "code",
     "collapsed": false,
     "input": [
      "#  Some useful modules: \n",
      "from yi_1tools import *\n",
      "from yi_fred import *\n",
      "from yi_plot import *\n",
      "from yi_timeseries import *"
     ],
     "language": "python",
     "metadata": {},
     "outputs": [],
     "prompt_number": 2
    },
    {
     "cell_type": "heading",
     "level": 2,
     "metadata": {},
     "source": [
      "Examine U.S. population statistics"
     ]
    },
    {
     "cell_type": "code",
     "collapsed": false,
     "input": [
      "#  Total US population in millions, released monthly:\n",
      "pop = getfred( m4pop )/1000.0"
     ],
     "language": "python",
     "metadata": {},
     "outputs": [],
     "prompt_number": 3
    },
    {
     "cell_type": "code",
     "collapsed": false,
     "input": [
      "plotfred( pop )"
     ],
     "language": "python",
     "metadata": {},
     "outputs": [
      {
       "metadata": {},
       "output_type": "display_data",
       "png": "[encoded data removed]",
       "text": [
        "<matplotlib.figure.Figure at 0xad338ccc>"
       ]
      }
     ],
     "prompt_number": 4
    },
    {
     "cell_type": "code",
     "collapsed": false,
     "input": [
      "georet( pop, 12 )"
     ],
     "language": "python",
     "metadata": {},
     "outputs": [
      {
       "metadata": {},
       "output_type": "pyout",
       "prompt_number": 5,
       "text": [
        "[1.14, 1.14, 0.09, 12]"
       ]
      }
     ],
     "prompt_number": 5
    },
    {
     "cell_type": "markdown",
     "metadata": {},
     "source": [
      "This gives the annualized geometric growth rate, but one might also look at fertility rates which supports the population, e.g. 2.1 children per female will ensure growth. (cf. fertility rates in Japan which has been declining over the decades.)"
     ]
    },
    {
     "cell_type": "code",
     "collapsed": false,
     "input": [
      "#  Fraction of population which works:\n",
      "emppop = getfred( m4emppop )/100.0"
     ],
     "language": "python",
     "metadata": {},
     "outputs": [],
     "prompt_number": 6
    },
    {
     "cell_type": "markdown",
     "metadata": {},
     "source": [
      "Workers would be employed adults, which presumably exclude children (20% of pop) and most elderly persons (14% of pop). There is a dramatic drop in working% from about 64% in 2001 to about 59% recently."
     ]
    },
    {
     "cell_type": "code",
     "collapsed": false,
     "input": [
      "plotfred( emppop )"
     ],
     "language": "python",
     "metadata": {},
     "outputs": [
      {
       "metadata": {},
       "output_type": "display_data",
       "png": "[encoded data removed]",
       "text": [
        "<matplotlib.figure.Figure at 0xad16bdac>"
       ]
      }
     ],
     "prompt_number": 7
    },
    {
     "cell_type": "code",
     "collapsed": false,
     "input": [
      "#  Total US workers in millions:\n",
      "workers = todf( pop * emppop )"
     ],
     "language": "python",
     "metadata": {},
     "outputs": [],
     "prompt_number": 8
    },
    {
     "cell_type": "code",
     "collapsed": false,
     "input": [
      "plotfred( workers )"
     ],
     "language": "python",
     "metadata": {},
     "outputs": [
      {
       "metadata": {},
       "output_type": "display_data",
       "png": "[encoded data removed]",
       "text": [
        "<matplotlib.figure.Figure at 0xad165cec>"
       ]
      }
     ],
     "prompt_number": 9
    },
    {
     "cell_type": "code",
     "collapsed": false,
     "input": [
      "georet( workers, 12  )"
     ],
     "language": "python",
     "metadata": {},
     "outputs": [
      {
       "metadata": {},
       "output_type": "pyout",
       "prompt_number": 10,
       "text": [
        "[1.18, 1.19, 1.17, 12]"
       ]
      }
     ],
     "prompt_number": 10
    },
    {
     "cell_type": "heading",
     "level": 3,
     "metadata": {},
     "source": [
      "Total population, and number of workers, grow annually around 1.16% -- but the number of workers seems to be stabilizing around 185 million people."
     ]
    },
    {
     "cell_type": "heading",
     "level": 2,
     "metadata": {},
     "source": [
      "Examine U.S. Gross Domestic Product"
     ]
    },
    {
     "cell_type": "code",
     "collapsed": false,
     "input": [
      "#  Deflator:\n",
      "defl = getfred( m4defl )"
     ],
     "language": "python",
     "metadata": {},
     "outputs": [],
     "prompt_number": 11
    },
    {
     "cell_type": "code",
     "collapsed": false,
     "input": [
      "#  REAL GDP in billions:\n",
      "gdp = getfred( m4gdpus )\n",
      "#  The release cycle is quarterly, but we resample to monthly,\n",
      "#  in order to sync with the deflator.\n",
      "\n",
      "gdpr = todf( defl * gdp )\n",
      "#  We do NOT use m4gdpusr directly because that is in 2009 dollars!\n",
      "#  Our deflator always uses current dollars."
     ],
     "language": "python",
     "metadata": {},
     "outputs": [],
     "prompt_number": 12
    },
    {
     "cell_type": "code",
     "collapsed": false,
     "input": [
      "plotfred( gdpr )"
     ],
     "language": "python",
     "metadata": {},
     "outputs": [
      {
       "metadata": {},
       "output_type": "display_data",
       "png": "[encoded data removed]",
       "text": [
        "<matplotlib.figure.Figure at 0xad17d1ec>"
       ]
      }
     ],
     "prompt_number": 13
    },
    {
     "cell_type": "code",
     "collapsed": false,
     "input": [
      "georet( gdpr, 12 )"
     ],
     "language": "python",
     "metadata": {},
     "outputs": [
      {
       "metadata": {},
       "output_type": "pyout",
       "prompt_number": 14,
       "text": [
        "[2.86, 2.86, 1.08, 12]"
       ]
      }
     ],
     "prompt_number": 14
    },
    {
     "cell_type": "markdown",
     "metadata": {},
     "source": [
      "Real GDP geometric rate of growth is 2.9% per annum (collectively due to the working population, presumably)."
     ]
    },
    {
     "cell_type": "heading",
     "level": 3,
     "metadata": {},
     "source": [
      "Real GDP per worker (NOT per capita)"
     ]
    },
    {
     "cell_type": "code",
     "collapsed": false,
     "input": [
      "#  Real GDP per worker -- NOT per capita:\n",
      "gdprworker = todf( gdpr / workers )"
     ],
     "language": "python",
     "metadata": {},
     "outputs": [],
     "prompt_number": 15
    },
    {
     "cell_type": "code",
     "collapsed": false,
     "input": [
      "plotfred( gdprworker )\n",
      "#  plotted in thousands of dollars"
     ],
     "language": "python",
     "metadata": {},
     "outputs": [
      {
       "metadata": {},
       "output_type": "display_data",
       "png": "[encoded data removed]",
       "text": [
        "<matplotlib.figure.Figure at 0xad211e0c>"
       ]
      }
     ],
     "prompt_number": 16
    },
    {
     "cell_type": "heading",
     "level": 4,
     "metadata": {},
     "source": [
      "Chart shows each worker contributes over \\$90,000 worth to GDP"
     ]
    },
    {
     "cell_type": "code",
     "collapsed": false,
     "input": [
      "georet( gdprworker, 12 )"
     ],
     "language": "python",
     "metadata": {},
     "outputs": [
      {
       "metadata": {},
       "output_type": "pyout",
       "prompt_number": 17,
       "text": [
        "[1.69, 1.7, 1.37, 12]"
       ]
      }
     ],
     "prompt_number": 17
    },
    {
     "cell_type": "markdown",
     "metadata": {},
     "source": [
      "Each worker has been more productive over the years, contributing more to GDP, at an annual pace of 1.7%."
     ]
    },
    {
     "cell_type": "heading",
     "level": 2,
     "metadata": {},
     "source": [
      "Examine wage income"
     ]
    },
    {
     "cell_type": "code",
     "collapsed": false,
     "input": [
      "#  Annual income, not real, assuming 40 hours per week, 50 weeks per year:\n",
      "inc = getfred( m4wage )*2000\n",
      "#  But maybe working hours have decreased recently?"
     ],
     "language": "python",
     "metadata": {},
     "outputs": [],
     "prompt_number": 18
    },
    {
     "cell_type": "code",
     "collapsed": false,
     "input": [
      "#  REAL income in thousands per worker:\n",
      "rinc = todf((defl * inc)/1000.0)"
     ],
     "language": "python",
     "metadata": {},
     "outputs": [],
     "prompt_number": 19
    },
    {
     "cell_type": "code",
     "collapsed": false,
     "input": [
      "plotfred( rinc )"
     ],
     "language": "python",
     "metadata": {},
     "outputs": [
      {
       "metadata": {},
       "output_type": "display_data",
       "png": "[encoded data removed]",
       "text": [
        "<matplotlib.figure.Figure at 0xad07e96c>"
       ]
      }
     ],
     "prompt_number": 20
    },
    {
     "cell_type": "heading",
     "level": 2,
     "metadata": {},
     "source": [
      "Do wages multiply out to GDP?"
     ]
    },
    {
     "cell_type": "code",
     "collapsed": false,
     "input": [
      "#  Ratio of real GDP to real income per worker:\n",
      "gdpinc = todf( gdprworker / rinc )"
     ],
     "language": "python",
     "metadata": {},
     "outputs": [],
     "prompt_number": 21
    },
    {
     "cell_type": "markdown",
     "metadata": {},
     "source": [
      "Implicitly we are assuming all workers earn wages at the nonfarm non-supervisory private-sector rate. Not a bad assumption for our purposes here, if changes in labor rates are uniformly applied across various categories since we are interested in the multiplier effect."
     ]
    },
    {
     "cell_type": "code",
     "collapsed": false,
     "input": [
      "plotfred( gdpinc )"
     ],
     "language": "python",
     "metadata": {},
     "outputs": [
      {
       "metadata": {},
       "output_type": "display_data",
       "png": "[encoded data removed]",
       "text": [
        "<matplotlib.figure.Figure at 0xad11d3ec>"
       ]
      }
     ],
     "prompt_number": 22
    },
    {
     "cell_type": "heading",
     "level": 3,
     "metadata": {},
     "source": [
      "The ratio of real GDP to real income per worker has increased from 1.4 in the 1970's to 2.2 recently. (There is a noticeable temporary dip after the 2007 crisis.)"
     ]
    },
    {
     "cell_type": "markdown",
     "metadata": {},
     "source": [
      "This means currently each wage dollar paid yields $2.27 worth of product or services.  \n",
      "\n",
      "As a cross-check, we know each worker has become more productive in producing national wealth.\n",
      "\n",
      "Hypothesis: over the years, *technology* has exerted upward pressure on productivity, and downward pressure on wages. In other words, the slope of gdpinc is a function of technological advances. (Look for counterexamples in other countries.)"
     ]
    },
    {
     "cell_type": "code",
     "collapsed": false,
     "input": [
      "#  Fit and plot the simplified time trend:\n",
      "plotfred( trend( gdpinc ))"
     ],
     "language": "python",
     "metadata": {},
     "outputs": [
      {
       "output_type": "stream",
       "stream": "stdout",
       "text": [
        " ::  regresstime slope = 0.00175176905443\n"
       ]
      },
      {
       "metadata": {},
       "output_type": "display_data",
       "png": "[encoded data removed]",
       "text": [
        "<matplotlib.figure.Figure at 0xad1e91ec>"
       ]
      }
     ],
     "prompt_number": 23
    },
    {
     "cell_type": "markdown",
     "metadata": {},
     "source": [
      "Long-term: each year, on average, adds 0.021 to gdpinc multiplier."
     ]
    },
    {
     "cell_type": "heading",
     "level": 3,
     "metadata": {},
     "source": [
      "Short-term: let's forecast that multiplier effect using Holt-Winters method, two years into the future, month-by-month..."
     ]
    },
    {
     "cell_type": "code",
     "collapsed": false,
     "input": [
      "holtfred( gdpinc, 24 )"
     ],
     "language": "python",
     "metadata": {},
     "outputs": [
      {
       "metadata": {},
       "output_type": "pyout",
       "prompt_number": 24,
       "text": [
        "    Forecast\n",
        "0   2.265296\n",
        "1   2.259082\n",
        "2   2.259629\n",
        "3   2.260176\n",
        "4   2.260724\n",
        "5   2.261271\n",
        "6   2.261818\n",
        "7   2.262366\n",
        "8   2.262913\n",
        "9   2.263460\n",
        "10  2.264008\n",
        "11  2.264555\n",
        "12  2.265102\n",
        "13  2.265650\n",
        "14  2.266197\n",
        "15  2.266744\n",
        "16  2.267292\n",
        "17  2.267839\n",
        "18  2.268387\n",
        "19  2.268934\n",
        "20  2.269481\n",
        "21  2.270029\n",
        "22  2.270576\n",
        "23  2.271123\n",
        "24  2.271671"
       ]
      }
     ],
     "prompt_number": 24
    },
    {
     "cell_type": "heading",
     "level": 2,
     "metadata": {},
     "source": [
      "GDP/wage = 2.27 -- but historically not stable!"
     ]
    },
    {
     "cell_type": "heading",
     "level": 4,
     "metadata": {},
     "source": [
      "If that multiplier is truly constant, then mathematically a x% change in wages translates to a x% change in GDP. This is why the Fed, esp. Janet Yellen, pays so much attention to wage growth. But the gdpinc chart clearly shows the multiplier in question is not stable."
     ]
    },
    {
     "cell_type": "markdown",
     "metadata": {},
     "source": [
      "- - - -"
     ]
    },
    {
     "cell_type": "heading",
     "level": 1,
     "metadata": {},
     "source": [
      "Model for GDP growth based on observations from wage growth"
     ]
    },
    {
     "cell_type": "markdown",
     "metadata": {},
     "source": [
      "We found evidence of a **time-variant multiplier** $m_t$ such that $G_t = m_t w_t$. Let's focus on GDP growth, expressed as the usual percentage change."
     ]
    },
    {
     "cell_type": "code",
     "collapsed": false,
     "input": [
      "%%latex\n",
      "\\begin{aligned}\n",
      "\\frac{G_{t+1} - G_t}{G_t} = \\frac{m_{t+1} w_{t+1}}{m_t w_t} - 1\n",
      "\\end{aligned}"
     ],
     "language": "python",
     "metadata": {},
     "outputs": [
      {
       "latex": [
        "\\begin{aligned}\n",
        "\\frac{G_{t+1} - G_t}{G_t} = \\frac{m_{t+1} w_{t+1}}{m_t w_t} - 1\n",
        "\\end{aligned}"
       ],
       "metadata": {},
       "output_type": "display_data",
       "text": [
        "<IPython.core.display.Latex at 0xad0f45ec>"
       ]
      }
     ],
     "prompt_number": 25
    },
    {
     "cell_type": "markdown",
     "metadata": {},
     "source": [
      "Notice that LHS is just the growth rate of $m_t w_t$. So abusing notation, we can write $\\%(G) = \\%(m w)$"
     ]
    },
    {
     "cell_type": "markdown",
     "metadata": {},
     "source": [
      "Empirically the multiplier varies in a very linear fashion as a function of time. So let's evaluate the GDP growth numerically, using the most recent multiplier and its expected historical incrementation, assuming wage has increased by 5% *year-over-year*:"
     ]
    },
    {
     "cell_type": "code",
     "collapsed": false,
     "input": [
      "%%latex\n",
      "\\begin{aligned}\n",
      "(\\frac{2.270 + 0.021}{2.270}) {1.05} - 1 = 0.0597\n",
      "\\end{aligned}"
     ],
     "language": "python",
     "metadata": {},
     "outputs": [
      {
       "latex": [
        "\\begin{aligned}\n",
        "(\\frac{2.270 + 0.021}{2.270}) {1.05} - 1 = 0.0597\n",
        "\\end{aligned}"
       ],
       "metadata": {},
       "output_type": "display_data",
       "text": [
        "<IPython.core.display.Latex at 0xad20274c>"
       ]
      }
     ],
     "prompt_number": 26
    },
    {
     "cell_type": "markdown",
     "metadata": {},
     "source": [
      "GDP has grown almost exactly 6%. So let's note that: 6/5 = 1.2"
     ]
    },
    {
     "cell_type": "heading",
     "level": 3,
     "metadata": {},
     "source": [
      "In other words, GDP_growth = 1.2 * wage_growth, as a rough current approximation, given usual multiplier behavior."
     ]
    },
    {
     "cell_type": "code",
     "collapsed": false,
     "input": [
      "#  Latest wage annual income data, in thousands of real dollars:\n",
      "tail( rinc, 13 )"
     ],
     "language": "python",
     "metadata": {},
     "outputs": [
      {
       "metadata": {},
       "output_type": "pyout",
       "prompt_number": 27,
       "text": [
        "                    Y\n",
        "T                    \n",
        "2013-10-01  41.154417\n",
        "2013-11-01  41.205776\n",
        "2013-12-01  41.246674\n",
        "2014-01-01  41.279944\n",
        "2014-02-01  41.441691\n",
        "2014-03-01  41.349480\n",
        "2014-04-01  41.296676\n",
        "2014-05-01  41.270318\n",
        "2014-06-01  41.271898\n",
        "2014-07-01  41.293348\n",
        "2014-08-01  41.429776\n",
        "2014-09-01  41.385427\n",
        "2014-10-01  41.400000"
       ]
      }
     ],
     "prompt_number": 27
    },
    {
     "cell_type": "markdown",
     "metadata": {},
     "source": [
      "As of the October 2014, real wage growth was +0.60% YoY, thus we can predict that 2014Q4 real GDP growth will be +0.73%. "
     ]
    },
    {
     "cell_type": "heading",
     "level": 4,
     "metadata": {},
     "source": [
      "The model is thus useful in forecasting GDP, which is only released quarterly, by using wage data which is released monthly. The multiplier effect can also be incorporated in a multivariable model as well."
     ]
    },
    {
     "cell_type": "markdown",
     "metadata": {},
     "source": [
      "- - - -"
     ]
    },
    {
     "cell_type": "heading",
     "level": 2,
     "metadata": {},
     "source": [
      "APPENDIX 1: Linear regression shows weak correlation (~0.65) if gdpinc multiplier is time-invariant"
     ]
    },
    {
     "cell_type": "code",
     "collapsed": false,
     "input": [
      "stat2( gdprworker[y], rinc[y] )"
     ],
     "language": "python",
     "metadata": {},
     "outputs": [
      {
       "output_type": "stream",
       "stream": "stdout",
       "text": [
        " ::  FIRST variable:\n",
        "count    667.000000\n",
        "mean      63.761559\n",
        "std       15.429600\n",
        "min       36.432570\n",
        "25%       53.950416\n",
        "50%       62.867692\n",
        "75%       75.177827\n",
        "max       94.040646\n",
        "Name: Y, dtype: float64\n",
        "\n",
        " ::  SECOND variable:\n",
        "count    610.000000\n",
        "mean      36.882474\n",
        "std        2.224209\n",
        "min       32.852482\n",
        "25%       34.894259\n",
        "50%       36.603215\n",
        "75%       38.345661\n",
        "max       41.441691\n",
        "Name: Y, dtype: float64"
       ]
      },
      {
       "output_type": "stream",
       "stream": "stdout",
       "text": [
        "\n",
        "\n",
        " ::  CORRELATION\n",
        "0.652122415059\n",
        "\n",
        "-------------------------Summary of Regression Analysis-------------------------\n",
        "\n",
        "Formula: Y ~ <x> + <intercept>\n",
        "\n",
        "Number of Observations:         607\n",
        "Number of Degrees of Freedom:   2\n",
        "\n",
        "R-squared:         0.4253\n",
        "Adj R-squared:     0.4243\n",
        "\n",
        "Rmse:             10.5027\n",
        "\n",
        "F-stat (1, 605):   447.6566, p-value:     0.0000\n",
        "\n",
        "Degrees of Freedom: model 1, resid 605\n",
        "\n",
        "-----------------------Summary of Estimated Coefficients------------------------\n",
        "      Variable       Coef    Std Err     t-stat    p-value    CI 2.5%   CI 97.5%\n",
        "--------------------------------------------------------------------------------\n",
        "             x     4.0905     0.1933      21.16     0.0000     3.7116     4.4695\n",
        "     intercept   -84.5124     7.1390     -11.84     0.0000   -98.5049   -70.5199\n",
        "---------------------------------End of Summary---------------------------------\n"
       ]
      },
      {
       "output_type": "stream",
       "stream": "stdout",
       "text": [
        "\n"
       ]
      }
     ],
     "prompt_number": 28
    },
    {
     "cell_type": "markdown",
     "metadata": {},
     "source": [
      "- - - -"
     ]
    },
    {
     "cell_type": "heading",
     "level": 2,
     "metadata": {},
     "source": [
      "APPENDIX 2: Linear regression between real GDP growth and real wage growth is useless when the multiplier is treated as if it is time-invariant"
     ]
    },
    {
     "cell_type": "code",
     "collapsed": false,
     "input": [
      "#  Examine year-over-year percentage growth:\n",
      "stat2( pcent(gdpr, 12)[y], pcent(rinc, 12)[y] ) "
     ],
     "language": "python",
     "metadata": {},
     "outputs": [
      {
       "output_type": "stream",
       "stream": "stdout",
       "text": [
        " ::  FIRST variable:\n",
        "count    655.000000\n",
        "mean       2.915700\n",
        "std        2.469703\n",
        "min       -3.828793\n",
        "25%        1.770101\n",
        "50%        3.072340\n",
        "75%        4.321166\n",
        "max        9.208310\n",
        "Name: Y, dtype: float64\n",
        "\n",
        " ::  SECOND variable:\n",
        "count    598.000000\n",
        "mean       0.451297\n",
        "std        1.379578\n",
        "min       -3.708588\n",
        "25%       -0.536752\n",
        "50%        0.526949\n",
        "75%        1.369087\n",
        "max        4.591182\n",
        "Name: Y, dtype: float64"
       ]
      },
      {
       "output_type": "stream",
       "stream": "stdout",
       "text": [
        "\n",
        "\n",
        " ::  CORRELATION\n",
        "0.443828748187\n",
        "\n",
        "-------------------------Summary of Regression Analysis-------------------------\n",
        "\n",
        "Formula: Y ~ <x> + <intercept>\n",
        "\n",
        "Number of Observations:         595\n",
        "Number of Degrees of Freedom:   2\n",
        "\n",
        "R-squared:         0.1970\n",
        "Adj R-squared:     0.1956\n",
        "\n",
        "Rmse:              2.2085\n",
        "\n",
        "F-stat (1, 593):   145.4659, p-value:     0.0000\n",
        "\n",
        "Degrees of Freedom: model 1, resid 593\n",
        "\n",
        "-----------------------Summary of Estimated Coefficients------------------------\n",
        "      Variable       Coef    Std Err     t-stat    p-value    CI 2.5%   CI 97.5%\n",
        "--------------------------------------------------------------------------------\n",
        "             x     0.7903     0.0655      12.06     0.0000     0.6619     0.9187\n",
        "     intercept     2.4286     0.0952      25.50     0.0000     2.2419     2.6152\n",
        "---------------------------------End of Summary---------------------------------\n"
       ]
      },
      {
       "output_type": "stream",
       "stream": "stdout",
       "text": [
        "\n"
       ]
      }
     ],
     "prompt_number": 29
    },
    {
     "cell_type": "markdown",
     "metadata": {},
     "source": [
      "- - - -"
     ]
    },
    {
     "cell_type": "heading",
     "level": 2,
     "metadata": {},
     "source": [
      "Appendix 3: Linear regression of growth model with time-variant multiplier"
     ]
    },
    {
     "cell_type": "markdown",
     "metadata": {},
     "source": [
      "The mw below represents the series $m_t w_t$ in our analytical model described above."
     ]
    },
    {
     "cell_type": "code",
     "collapsed": false,
     "input": [
      "mw     = todf( gdpinc * rinc, 'mw' )\n",
      "mwpc   = todf( pcent( mw, 12), 'mwpc' )\n",
      "gdprpc = todf( pcent( gdpr, 12), 'Gpc' )\n",
      "dataf = paste( [gdprpc, mwpc] )"
     ],
     "language": "python",
     "metadata": {},
     "outputs": [],
     "prompt_number": 30
    },
    {
     "cell_type": "code",
     "collapsed": false,
     "input": [
      "#  The 0 in the formula means no intercept:\n",
      "result = regressformula( dataf['1964':], 'Gpc ~ 0 + mwpc' )\n",
      "print result.summary()"
     ],
     "language": "python",
     "metadata": {},
     "outputs": [
      {
       "output_type": "stream",
       "stream": "stdout",
       "text": [
        "                            OLS Regression Results                            \n",
        "==============================================================================\n",
        "Dep. Variable:                    Gpc   R-squared:                       0.802\n",
        "Model:                            OLS   Adj. R-squared:                  0.802\n",
        "Method:                 Least Squares   F-statistic:                     2413.\n",
        "Date:                Tue, 09 Dec 2014   Prob (F-statistic):          2.42e-211\n",
        "Time:                        19:53:23   Log-Likelihood:                -1142.8\n",
        "No. Observations:                 595   AIC:                             2288.\n",
        "Df Residuals:                     594   BIC:                             2292.\n",
        "Df Model:                           1                                         \n",
        "==============================================================================\n",
        "                 coef    std err          t      P>|t|      [95.0% Conf. Int.]\n",
        "------------------------------------------------------------------------------\n",
        "mwpc           1.3924      0.028     49.120      0.000         1.337     1.448\n",
        "==============================================================================\n",
        "Omnibus:                       96.415   Durbin-Watson:                   0.102\n",
        "Prob(Omnibus):                  0.000   Jarque-Bera (JB):              167.474\n",
        "Skew:                          -0.979   Prob(JB):                     4.30e-37\n",
        "Kurtosis:                       4.709   Cond. No.                         1.00\n",
        "==============================================================================\n"
       ]
      }
     ],
     "prompt_number": 31
    },
    {
     "cell_type": "markdown",
     "metadata": {},
     "source": [
      "R-squared for dataf after 1964 looks respectable at around 0.80, however, the fit does terrible after the Great Recession. "
     ]
    },
    {
     "cell_type": "markdown",
     "metadata": {},
     "source": [
      "The coefficent implies this fitted equation: $\\%(G) = 1.39 * \\%(m w)$."
     ]
    },
    {
     "cell_type": "markdown",
     "metadata": {},
     "source": [
      "In contrast, our *analytic model* (as opposed to the regression model in Appendix 2) suggested for the most recent data: $\\%(G) = 1.20 * \\%(w)$"
     ]
    }
   ],
   "metadata": {}
  }
 ]
}