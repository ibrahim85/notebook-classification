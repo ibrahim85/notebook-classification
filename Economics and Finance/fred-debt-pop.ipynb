{
 "metadata": {
  "name": "",
  "signature": "sha256:284b6855bffb693e46f15eef0c9a8e4f27f8fcebe78ecb7ac2c806711a3d437f"
 },
 "nbformat": 3,
 "nbformat_minor": 0,
 "worksheets": [
  {
   "cells": [
    {
     "cell_type": "heading",
     "level": 1,
     "metadata": {},
     "source": [
      "Growth of Federal debt and its burden on the US population"
     ]
    },
    {
     "cell_type": "markdown",
     "metadata": {},
     "source": [
      "We examine government debt in real terms, and the current debt per capita."
     ]
    },
    {
     "cell_type": "markdown",
     "metadata": {},
     "source": [
      "*Dependencies:*\n",
      "     - Linux, bash\n",
      "     - Python: matplotlib, pandas\n",
      "     - Modules: yi_1tools.py, yi_fred.py\n",
      "     \n",
      "*CHANGE LOG*\n",
      "\n",
      "    2015-01-16  Code review.\n",
      "    2014-08-16  First version."
     ]
    },
    {
     "cell_type": "code",
     "collapsed": false,
     "input": [
      "#  NOTEBOOK settings and system details:   [00-tpl v14.09.28]\n",
      "\n",
      "#  Assume that the backend is LINUX (our particular distro is Ubuntu, running bash shell):\n",
      "print '\\n ::  TIMESTAMP of last notebook execution:'\n",
      "!date\n",
      "print '\\n ::  IPython version:'\n",
      "!ipython --version\n",
      "\n",
      "#  Automatically reload modified modules:\n",
      "%load_ext autoreload\n",
      "%autoreload 2   \n",
      "#           0 will disable autoreload.\n",
      "#  Generate plots inside notebook:\n",
      "%matplotlib inline\n",
      "\n",
      "#  DISPLAY options\n",
      "from IPython.display import Image \n",
      "#  e.g. Image(filename='holt-winters-equations.png', embed=True)\n",
      "from IPython.display import YouTubeVideo\n",
      "#  e.g. YouTubeVideo('1j_HxD4iLn8')\n",
      "from IPython.display import HTML # useful for snippets\n",
      "#  e.g. HTML('<iframe src=http://en.mobile.wikipedia.org/?useformat=mobile width=700 height=350></iframe>')\n",
      "import pandas as pd\n",
      "print '\\n ::  pandas version:'\n",
      "print pd.__version__\n",
      "#      pandas DataFrames are represented as text by default; enable HTML representation:\n",
      "#      [Deprecated: pd.core.format.set_printoptions( notebook_repr_html=True ) ]\n",
      "pd.set_option( 'display.notebook_repr_html', False )\n",
      "\n",
      "#  MATH display, use %%latex, rather than the following:\n",
      "#                from IPython.display import Math\n",
      "#                from IPython.display import Latex\n",
      "\n",
      "print '\\n ::  Working directory (set as $workd):'\n",
      "workd, = !pwd\n",
      "print workd + '\\n'"
     ],
     "language": "python",
     "metadata": {},
     "outputs": [
      {
       "output_type": "stream",
       "stream": "stdout",
       "text": [
        "\n",
        " ::  TIMESTAMP of last notebook execution:\n"
       ]
      },
      {
       "output_type": "stream",
       "stream": "stdout",
       "text": [
        "Sat Jan 17 12:42:01 PST 2015\r\n"
       ]
      },
      {
       "output_type": "stream",
       "stream": "stdout",
       "text": [
        "\n",
        " ::  IPython version:\n"
       ]
      },
      {
       "output_type": "stream",
       "stream": "stdout",
       "text": [
        "2.3.0\r\n"
       ]
      },
      {
       "output_type": "stream",
       "stream": "stdout",
       "text": [
        "The autoreload extension is already loaded. To reload it, use:\n",
        "  %reload_ext autoreload\n",
        "\n",
        " ::  pandas version:"
       ]
      },
      {
       "output_type": "stream",
       "stream": "stdout",
       "text": [
        "\n",
        "0.15.0\n",
        "\n",
        " ::  Working directory (set as $workd):"
       ]
      },
      {
       "output_type": "stream",
       "stream": "stdout",
       "text": [
        "\n"
       ]
      },
      {
       "output_type": "stream",
       "stream": "stdout",
       "text": [
        "/home/yaya/Dropbox/ipy/fecon235/nb\n",
        "\n"
       ]
      }
     ],
     "prompt_number": 34
    },
    {
     "cell_type": "code",
     "collapsed": false,
     "input": [
      "#  Some useful modules:       [ ] - print out EOF for reference.\n",
      "from yi_1tools import *\n",
      "from yi_fred import *\n",
      "from yi_plot import *\n",
      "from yi_timeseries import *"
     ],
     "language": "python",
     "metadata": {},
     "outputs": [],
     "prompt_number": 35
    },
    {
     "cell_type": "code",
     "collapsed": false,
     "input": [
      "#  Federal debt monthly (resampled from original quarterly series):\n",
      "debt = getfred( m4debt )"
     ],
     "language": "python",
     "metadata": {},
     "outputs": [],
     "prompt_number": 36
    },
    {
     "cell_type": "code",
     "collapsed": false,
     "input": [
      "plotfred( debt )\n",
      "#  This series is denominated in millions of dollars,\n",
      "#  so we are looking at federal debt around \n",
      "#  1.8 * 10^7 * 10^6 = $18 trillion circa 2014Q3."
     ],
     "language": "python",
     "metadata": {},
     "outputs": [
      {
       "metadata": {},
       "output_type": "display_data",
       "png": "[encoded data removed]",
       "text": [
        "<matplotlib.figure.Figure at 0xad201b4c>"
       ]
      }
     ],
     "prompt_number": 51
    },
    {
     "cell_type": "code",
     "collapsed": false,
     "input": [
      "#  Deflator, which is monthly:\n",
      "defl = getfred( m4defl )"
     ],
     "language": "python",
     "metadata": {},
     "outputs": [],
     "prompt_number": 38
    },
    {
     "cell_type": "code",
     "collapsed": false,
     "input": [
      "#  Real debt\n",
      "rdebt = todf( defl * debt )"
     ],
     "language": "python",
     "metadata": {},
     "outputs": [],
     "prompt_number": 49
    },
    {
     "cell_type": "code",
     "collapsed": false,
     "input": [
      "plotfred( rdebt )"
     ],
     "language": "python",
     "metadata": {},
     "outputs": [
      {
       "metadata": {},
       "output_type": "display_data",
       "png": "[encoded data removed]",
       "text": [
        "<matplotlib.figure.Figure at 0xad07f42c>"
       ]
      }
     ],
     "prompt_number": 50
    },
    {
     "cell_type": "code",
     "collapsed": false,
     "input": [
      "#  Population:\n",
      "pop = getfred( m4pop )"
     ],
     "language": "python",
     "metadata": {},
     "outputs": [],
     "prompt_number": 41
    },
    {
     "cell_type": "code",
     "collapsed": false,
     "input": [
      "#  Real debt per capita\n",
      "rdebtcap = todf( rdebt / pop )"
     ],
     "language": "python",
     "metadata": {},
     "outputs": [],
     "prompt_number": 42
    },
    {
     "cell_type": "code",
     "collapsed": false,
     "input": [
      "plotfred( rdebtcap )\n",
      "#  shown in thousands of dollars"
     ],
     "language": "python",
     "metadata": {},
     "outputs": [
      {
       "metadata": {},
       "output_type": "display_data",
       "png": "[encoded data removed]",
       "text": [
        "<matplotlib.figure.Figure at 0xad2aadac>"
       ]
      }
     ],
     "prompt_number": 43
    },
    {
     "cell_type": "markdown",
     "metadata": {},
     "source": [
      "In current dollars, each American (including children and elders) incurred Federal debt of \\$10K before the 1980s. Then there is a steady climb to around \\$35K in 2008. Thereafter, it is seen **rocketing** (roughly doubling since 2002). "
     ]
    },
    {
     "cell_type": "code",
     "collapsed": false,
     "input": [
      "georet( rdebtcap[:'2002-01-01'], 12 )"
     ],
     "language": "python",
     "metadata": {},
     "outputs": [
      {
       "metadata": {},
       "output_type": "pyout",
       "prompt_number": 44,
       "text": [
        "[2.61, 2.63, 1.82, 12]"
       ]
      }
     ],
     "prompt_number": 44
    },
    {
     "cell_type": "code",
     "collapsed": false,
     "input": [
      "georet( rdebtcap['2002-01-01':], 12 )"
     ],
     "language": "python",
     "metadata": {},
     "outputs": [
      {
       "metadata": {},
       "output_type": "pyout",
       "prompt_number": 45,
       "text": [
        "[5.89, 5.91, 1.7, 12]"
       ]
      }
     ],
     "prompt_number": 45
    },
    {
     "cell_type": "markdown",
     "metadata": {},
     "source": [
      "Through 2002, the geometric growth rate of real debt per capita was 2.6% Since 2002, that rate has increased to 5.9% per annum."
     ]
    },
    {
     "cell_type": "code",
     "collapsed": false,
     "input": [
      "#  This confirms the doubling over 12 years at the geometric rate of 5.9% per annum:\n",
      "1.059 ** 12"
     ],
     "language": "python",
     "metadata": {},
     "outputs": [
      {
       "metadata": {},
       "output_type": "pyout",
       "prompt_number": 46,
       "text": [
        "1.98953471418589"
       ]
      }
     ],
     "prompt_number": 46
    },
    {
     "cell_type": "heading",
     "level": 3,
     "metadata": {},
     "source": [
      "Total government debt will double in 12 years, given current real rate of increase at 5.9%."
     ]
    },
    {
     "cell_type": "heading",
     "level": 3,
     "metadata": {},
     "source": [
      "Federal debt is currently over $55,000 per capita. "
     ]
    },
    {
     "cell_type": "code",
     "collapsed": false,
     "input": [
      "# Most recent data:\n",
      "tail( rdebtcap )"
     ],
     "language": "python",
     "metadata": {},
     "outputs": [
      {
       "metadata": {},
       "output_type": "pyout",
       "prompt_number": 47,
       "text": [
        "                    Y\n",
        "T                    \n",
        "2014-01-01  56.043304\n",
        "2014-02-01  55.993733\n",
        "2014-03-01  55.901460\n",
        "2014-04-01  55.778506\n",
        "2014-05-01  55.805470\n",
        "2014-06-01  55.867467\n",
        "2014-07-01  55.980663"
       ]
      }
     ],
     "prompt_number": 47
    },
    {
     "cell_type": "code",
     "collapsed": false,
     "input": [
      "#  Prorate to only workers:\n",
      "56 / 0.62"
     ],
     "language": "python",
     "metadata": {},
     "outputs": [
      {
       "metadata": {},
       "output_type": "pyout",
       "prompt_number": 48,
       "text": [
        "90.3225806451613"
       ]
      }
     ],
     "prompt_number": 48
    },
    {
     "cell_type": "markdown",
     "metadata": {},
     "source": [
      "Assuming 62% of the population are workers (see fred-gdp-wage.ipynb), i.e. source of tax revenue (excluding corporations), **each worker carries approximately $90,000 of federal debt**. That figure is roughly equivalent to two years of average wage income! "
     ]
    },
    {
     "cell_type": "code",
     "collapsed": false,
     "input": [],
     "language": "python",
     "metadata": {},
     "outputs": [],
     "prompt_number": 48
    }
   ],
   "metadata": {}
  }
 ]
}