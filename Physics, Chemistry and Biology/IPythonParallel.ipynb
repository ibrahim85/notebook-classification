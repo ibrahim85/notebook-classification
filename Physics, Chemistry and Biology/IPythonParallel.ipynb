{
 "cells": [
  {
   "cell_type": "code",
   "execution_count": 1,
   "metadata": {
    "collapsed": false
   },
   "outputs": [],
   "source": [
    "#ipcluster start -n 4\n",
    "# on correct directory"
   ]
  },
  {
   "cell_type": "code",
   "execution_count": 1,
   "metadata": {
    "collapsed": false
   },
   "outputs": [],
   "source": [
    "from __future__ import print_function\n",
    "import os\n",
    "import pickle\n",
    "import time\n",
    "\n",
    "import numpy as np\n",
    "\n",
    "from IPython.parallel import Client"
   ]
  },
  {
   "cell_type": "code",
   "execution_count": 2,
   "metadata": {
    "collapsed": false
   },
   "outputs": [],
   "source": [
    "f = open('max_chro_pos.pickle')\n",
    "max_chro_pos = pickle.load(f)\n",
    "f.close()\n",
    "\n",
    "window_size = 2000000\n",
    "\n",
    "def get_blocks():\n",
    "    for chro, max_pos in max_chro_pos.items():\n",
    "        num_bin = (max_pos + 1) // window_size\n",
    "        for my_bin in range(num_bin):\n",
    "            start_pos = my_bin * window_size + 1\n",
    "            end_pos = start_pos + window_size\n",
    "            yield chro, start_pos, end_pos"
   ]
  },
  {
   "cell_type": "code",
   "execution_count": 3,
   "metadata": {
    "collapsed": false
   },
   "outputs": [
    {
     "data": {
      "text/plain": [
       "<AsyncResult: execute>"
      ]
     },
     "execution_count": 3,
     "metadata": {},
     "output_type": "execute_result"
    }
   ],
   "source": [
    "cl = Client()\n",
    "all_engines = cl[:]\n",
    "all_engines.execute('import os')\n",
    "#all_engines.execute('import pickle')\n",
    "all_engines.execute('import numpy as np')"
   ]
  },
  {
   "cell_type": "code",
   "execution_count": 4,
   "metadata": {
    "collapsed": false
   },
   "outputs": [],
   "source": [
    "def compute_MAFs():\n",
    "    for chrom, start_pos, end_pos in my_blocks:\n",
    "        os.system('plink --bfile tsi --freq --out tsi-%d-%d --chr %d --from-bp %d --to-bp %d' %\n",
    "                      (chrom, start_pos, chrom, start_pos, end_pos))\n",
    "        os.remove('tsi-%d-%d.log' % (chrom, start_pos))"
   ]
  },
  {
   "cell_type": "code",
   "execution_count": 5,
   "metadata": {
    "collapsed": false
   },
   "outputs": [],
   "source": [
    "def parse_MAFs(pos):\n",
    "    chrom, start_pos, end_pos = pos\n",
    "    mafs = []\n",
    "    try:\n",
    "        f = open('tsi-%d-%d.frq' % (chrom, start_pos))\n",
    "        f.readline()\n",
    "        for cnt, l in enumerate(f):\n",
    "            toks = [tok for tok in l.rstrip().split(' ') if tok != '']\n",
    "            maf = float(toks[-2])\n",
    "            mafs.append(maf)\n",
    "        f.close()\n",
    "    except:\n",
    "        # might be empty if there are no SNPs\n",
    "        pass\n",
    "    return mafs"
   ]
  },
  {
   "cell_type": "code",
   "execution_count": 6,
   "metadata": {
    "collapsed": false
   },
   "outputs": [],
   "source": [
    "@all_engines.parallel(block=True)\n",
    "def compute_means_with_pos(pos):\n",
    "    block_mafs = parse_MAFs(pos)\n",
    "    nobs = len(block_mafs)\n",
    "    if nobs > 0:\n",
    "        return np.mean(block_mafs), nobs\n",
    "    else:\n",
    "        return 0.0, 0\n",
    "\n",
    "@all_engines.parallel(block=True)\n",
    "def compute_means_with_mafs(block_mafs):\n",
    "    nobs = len(block_mafs)\n",
    "    if nobs > 0:\n",
    "        return np.mean(block_mafs), nobs\n",
    "    else:\n",
    "        return 0.0, 0"
   ]
  },
  {
   "cell_type": "code",
   "execution_count": 7,
   "metadata": {
    "collapsed": false
   },
   "outputs": [
    {
     "data": {
      "text/plain": [
       "[None, None, None, None]"
      ]
     },
     "execution_count": 7,
     "metadata": {},
     "output_type": "execute_result"
    }
   ],
   "source": [
    "all_engines.scatter('my_blocks', list(get_blocks()))\n",
    "all_engines.apply_sync(compute_MAFs)"
   ]
  },
  {
   "cell_type": "code",
   "execution_count": 8,
   "metadata": {
    "collapsed": false
   },
   "outputs": [
    {
     "name": "stdout",
     "output_type": "stream",
     "text": [
      "1 loops, best of 3: 1.27 s per loop\n"
     ]
    }
   ],
   "source": [
    "#need compute means with poses!\n",
    "all_engines.push({'parse_MAFs': parse_MAFs})\n",
    "%timeit compute_means_with_pos.map(get_blocks())"
   ]
  },
  {
   "cell_type": "code",
   "execution_count": 9,
   "metadata": {
    "collapsed": false
   },
   "outputs": [
    {
     "name": "stdout",
     "output_type": "stream",
     "text": [
      "1 loops, best of 3: 1.74 s per loop\n"
     ]
    }
   ],
   "source": [
    "def compute_with_blocks():\n",
    "    block_mafs = all_engines.map_sync(parse_MAFs, get_blocks())\n",
    "    block_means = compute_means_with_mafs.map(block_mafs)\n",
    "    return block_means\n",
    "    #bring data to the main application\n",
    "%timeit compute_with_blocks()"
   ]
  },
  {
   "cell_type": "code",
   "execution_count": 10,
   "metadata": {
    "collapsed": false
   },
   "outputs": [
    {
     "name": "stdout",
     "output_type": "stream",
     "text": [
      "1222126 0.23159641651\n"
     ]
    }
   ],
   "source": [
    "block_means = compute_means_with_pos.map(get_blocks())\n",
    "sum_maf = 0.0\n",
    "cnt_maf = 0\n",
    "for block_maf, block_cnt in block_means:\n",
    "    sum_maf += block_maf * block_cnt \n",
    "    cnt_maf += block_cnt\n",
    "print(cnt_maf, sum_maf / cnt_maf)"
   ]
  },
  {
   "cell_type": "code",
   "execution_count": 11,
   "metadata": {
    "collapsed": false
   },
   "outputs": [
    {
     "name": "stdout",
     "output_type": "stream",
     "text": [
      "4 0\n",
      "4 0\n",
      "4 0\n",
      "4 0\n",
      "4 0\n",
      "4 0\n",
      "4 0\n",
      "4 0\n",
      "4 0\n",
      "4 0\n",
      "4 0\n",
      "4 0\n",
      "4 0\n",
      "4 0\n",
      "4 0\n",
      "4 0\n",
      "4 0\n",
      "4 0\n",
      "4 2\n",
      "Done\n"
     ]
    }
   ],
   "source": [
    "#blocks are already scattered\n",
    "async = all_engines.apply_async(compute_MAFs)\n",
    "import time\n",
    "#print(async.metadata)\n",
    "while not async.ready():\n",
    "    print(len(async), async.progress)\n",
    "    time.sleep(5)\n",
    "print('Done')"
   ]
  },
  {
   "cell_type": "markdown",
   "metadata": {},
   "source": [
    "## Load balancer"
   ]
  },
  {
   "cell_type": "code",
   "execution_count": 12,
   "metadata": {
    "collapsed": false
   },
   "outputs": [],
   "source": [
    "load_balancer = cl.load_balanced_view()"
   ]
  },
  {
   "cell_type": "code",
   "execution_count": 13,
   "metadata": {
    "collapsed": false
   },
   "outputs": [
    {
     "name": "stdout",
     "output_type": "stream",
     "text": [
      "41 3\n",
      "Done\n"
     ]
    }
   ],
   "source": [
    "async = load_balancer.map(parse_MAFs,\n",
    "                          [pos for pos in get_blocks() if pos[0] == 1],\n",
    "                          block=False, chunksize=3, ordered=True)\n",
    "while not async.ready():\n",
    "    print(len(async), async.progress)\n",
    "    time.sleep(1)\n",
    "print('Done')"
   ]
  },
  {
   "cell_type": "code",
   "execution_count": 14,
   "metadata": {
    "collapsed": false
   },
   "outputs": [],
   "source": [
    "result = async.get()"
   ]
  },
  {
   "cell_type": "code",
   "execution_count": 15,
   "metadata": {
    "collapsed": false
   },
   "outputs": [
    {
     "name": "stderr",
     "output_type": "stream",
     "text": [
      "/home/tra/anaconda3/envs/book2/lib/python2.7/site-packages/numpy/core/_methods.py:59: RuntimeWarning: Mean of empty slice.\n",
      "  warnings.warn(\"Mean of empty slice.\", RuntimeWarning)\n",
      "/home/tra/anaconda3/envs/book2/lib/python2.7/site-packages/numpy/core/_methods.py:71: RuntimeWarning: invalid value encountered in double_scalars\n",
      "  ret = ret.dtype.type(ret / rcount)\n"
     ]
    },
    {
     "data": {
      "text/plain": [
       "<matplotlib.text.Text at 0x7fbaa1fb9e90>"
      ]
     },
     "execution_count": 15,
     "metadata": {},
     "output_type": "execute_result"
    },
    {
     "data": {
      "image/png": "[encoded data removed]",
      "text/plain": [
       "<matplotlib.figure.Figure at 0x7fbaaa9c0a10>"
      ]
     },
     "metadata": {},
     "output_type": "display_data"
    }
   ],
   "source": [
    "import matplotlib.pyplot as plt\n",
    "%matplotlib inline\n",
    "fig = plt.figure(figsize=(16, 9))\n",
    "ax = fig.add_subplot(111)\n",
    "xs = [x * window_size for x in range(len(result))]\n",
    "ax.plot(xs, [np.mean(vals) for vals in result])\n",
    "ax.plot(xs, [(lambda x : np.percentile(x, 90) if len(x) > 0 else None)(vals) for vals in result], 'k-.')\n",
    "ax.set_xlabel('Chromosome position')\n",
    "ax.set_xlabel('Heterozygosity')\n",
    "ax.set_title('Mean and 90th percentile Hz over %d windows for chromosome 1' % window_size)"
   ]
  },
  {
   "cell_type": "code",
   "execution_count": null,
   "metadata": {
    "collapsed": false
   },
   "outputs": [],
   "source": []
  }
 ],
 "metadata": {
  "kernelspec": {
   "display_name": "Python 2",
   "language": "python",
   "name": "python2"
  },
  "language_info": {
   "codemirror_mode": {
    "name": "ipython",
    "version": 2
   },
   "file_extension": ".py",
   "mimetype": "text/x-python",
   "name": "python",
   "nbconvert_exporter": "python",
   "pygments_lexer": "ipython2",
   "version": "2.7.9"
  }
 },
 "nbformat": 4,
 "nbformat_minor": 0
}
