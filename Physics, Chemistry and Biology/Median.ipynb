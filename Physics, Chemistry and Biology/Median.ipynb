{
 "cells": [
  {
   "cell_type": "code",
   "execution_count": 1,
   "metadata": {
    "collapsed": false
   },
   "outputs": [],
   "source": [
    "from __future__ import division, print_function\n",
    "\n",
    "from collections import defaultdict\n",
    "import os\n",
    "\n",
    "import numpy as np\n",
    "\n",
    "import matplotlib.pyplot as plt\n",
    "%matplotlib inline"
   ]
  },
  {
   "cell_type": "markdown",
   "metadata": {},
   "source": [
    "## Approximation"
   ]
  },
  {
   "cell_type": "code",
   "execution_count": 2,
   "metadata": {
    "collapsed": false
   },
   "outputs": [],
   "source": [
    "approx = defaultdict(int)\n",
    "mafs = []\n",
    "for fname in os.listdir('.'):\n",
    "    if not fname.startswith('tsi-') or not fname.endswith('.frq'):\n",
    "        continue\n",
    "    f = open(fname)\n",
    "    f.readline()\n",
    "    for cnt, l in enumerate(f):\n",
    "        toks = [tok for tok in l.rstrip().split(' ') if tok != '']\n",
    "        maf = float(toks[-2])\n",
    "        mafs.append(maf)\n",
    "        approx[maf] += 1\n",
    "    f.close()"
   ]
  },
  {
   "cell_type": "code",
   "execution_count": 3,
   "metadata": {
    "collapsed": false
   },
   "outputs": [
    {
     "name": "stdout",
     "output_type": "stream",
     "text": [
      "1222126 <type 'list'>\n",
      "417\n"
     ]
    }
   ],
   "source": [
    "print(len(mafs), type(mafs))\n",
    "print(len(approx))"
   ]
  },
  {
   "cell_type": "code",
   "execution_count": 4,
   "metadata": {
    "collapsed": false
   },
   "outputs": [
    {
     "name": "stdout",
     "output_type": "stream",
     "text": [
      "0.2216\n",
      "CPU times: user 60 ms, sys: 4 ms, total: 64 ms\n",
      "Wall time: 65.9 ms\n"
     ]
    }
   ],
   "source": [
    "%time print(np.median(mafs))"
   ]
  },
  {
   "cell_type": "code",
   "execution_count": 5,
   "metadata": {
    "collapsed": false
   },
   "outputs": [
    {
     "data": {
      "image/png": "[encoded data removed]",
      "text/plain": [
       "<matplotlib.figure.Figure at 0x7f4235100c90>"
      ]
     },
     "metadata": {},
     "output_type": "display_data"
    }
   ],
   "source": [
    "fig, axs = plt.subplots(2, 2, sharex=True, figsize=(16, 9))\n",
    "\n",
    "xs, ys = zip(*approx.items())\n",
    "axs[0, 0].plot(xs, ys, '.')\n",
    "\n",
    "xs = list(approx.keys())\n",
    "xs.sort()\n",
    "ys = [approx[x] for x in xs]\n",
    "axs[0, 1].bar(xs, ys, 0.005)\n",
    "\n",
    "def get_bins(my_dict, nbins):\n",
    "    acumulator = [0] * nbins\n",
    "    xmin, xmax = xs[0], xs[-1]\n",
    "    interval = (xmax - xmin) / nbins\n",
    "    bin_xs = [xmin + i * interval + interval / 2 for i in range(nbins)]\n",
    "    #the starting point, midpoint woudl take more interval / 2\n",
    "    curr_bin = 0\n",
    "    for x in xs:\n",
    "        y_cnt = approx[x]\n",
    "        while curr_bin + 1 != nbins and abs(x - bin_xs[curr_bin]) > abs(x - bin_xs[curr_bin + 1]):\n",
    "            curr_bin += 1\n",
    "        acumulator[curr_bin] += y_cnt\n",
    "    return bin_xs, acumulator, interval\n",
    "\n",
    "bin_xs, acumulator, interval = get_bins(approx, 10)\n",
    "axs[1, 0].bar(np.array(bin_xs) - interval / 2, acumulator, 0.5 / 10)\n",
    "\n",
    "bin_xs, acumulator, interval = get_bins(approx, 20)\n",
    "axs[1, 1].bar(np.array(bin_xs) - interval / 2, acumulator, 0.5 / 20)\n",
    "axs[1, 1].set_xlim(0, 0.5)\n",
    "\n",
    "fig.tight_layout()"
   ]
  },
  {
   "cell_type": "code",
   "execution_count": 6,
   "metadata": {
    "collapsed": false
   },
   "outputs": [],
   "source": [
    "def compute_median_from_dictionary(my_dict):\n",
    "    xs = list(my_dict.keys())\n",
    "    xs.sort()\n",
    "    x_cnt = [my_dict[x] for x in xs]\n",
    "    start = 0\n",
    "    end = len(xs) - 1\n",
    "    while start != end:\n",
    "        if start == end - 1 and x_cnt[start] == x_cnt[end]:\n",
    "            return (xs[start] + xs[end]) / 2\n",
    "        if x_cnt[start] > x_cnt[end]:\n",
    "            x_cnt[start] -= x_cnt[end]\n",
    "            end -= 1\n",
    "        elif x_cnt[start] < x_cnt[end]:\n",
    "            x_cnt[end] -= x_cnt[start]\n",
    "            start += 1\n",
    "        else:\n",
    "            start += 1\n",
    "            end -= 1\n",
    "    return xs[start]"
   ]
  },
  {
   "cell_type": "code",
   "execution_count": 7,
   "metadata": {
    "collapsed": false
   },
   "outputs": [
    {
     "name": "stdout",
     "output_type": "stream",
     "text": [
      "0.2216\n"
     ]
    }
   ],
   "source": [
    "print(compute_median_from_dictionary(approx))"
   ]
  },
  {
   "cell_type": "code",
   "execution_count": 8,
   "metadata": {
    "collapsed": false
   },
   "outputs": [
    {
     "name": "stdout",
     "output_type": "stream",
     "text": [
      "6 0.2\n",
      "50 0.22\n",
      "326 0.222\n"
     ]
    }
   ],
   "source": [
    "#do not put this, but discuss\n",
    "for my_round in [1, 2, 3]:\n",
    "    my_approx = defaultdict(int)\n",
    "    for val, cnt in approx.items():\n",
    "        my_approx[round(val, my_round)] += cnt\n",
    "    print(len(my_approx), compute_median_from_dictionary(my_approx))"
   ]
  },
  {
   "cell_type": "markdown",
   "metadata": {},
   "source": [
    "## Subsampling"
   ]
  },
  {
   "cell_type": "code",
   "execution_count": 9,
   "metadata": {
    "collapsed": false
   },
   "outputs": [
    {
     "data": {
      "text/html": [
       "<div style=\"max-height:1000px;max-width:1500px;overflow:auto;\">\n",
       "<table border=\"1\" class=\"dataframe\">\n",
       "  <thead>\n",
       "    <tr style=\"text-align: right;\">\n",
       "      <th></th>\n",
       "      <th>Mean #1</th>\n",
       "      <th>Mean #2</th>\n",
       "      <th>Mean #3</th>\n",
       "      <th>Max #1</th>\n",
       "      <th>Max #2</th>\n",
       "      <th>Max #3</th>\n",
       "    </tr>\n",
       "  </thead>\n",
       "  <tbody>\n",
       "    <tr>\n",
       "      <th>1</th>\n",
       "      <td>0.23300</td>\n",
       "      <td>0.3977</td>\n",
       "      <td>0.48860</td>\n",
       "      <td>0.2330</td>\n",
       "      <td>0.3977</td>\n",
       "      <td>0.4886</td>\n",
       "    </tr>\n",
       "    <tr>\n",
       "      <th>10</th>\n",
       "      <td>0.22160</td>\n",
       "      <td>0.1932</td>\n",
       "      <td>0.22725</td>\n",
       "      <td>0.3807</td>\n",
       "      <td>0.3693</td>\n",
       "      <td>0.3977</td>\n",
       "    </tr>\n",
       "    <tr>\n",
       "      <th>100</th>\n",
       "      <td>0.26420</td>\n",
       "      <td>0.1733</td>\n",
       "      <td>0.21590</td>\n",
       "      <td>0.4943</td>\n",
       "      <td>0.4886</td>\n",
       "      <td>0.4830</td>\n",
       "    </tr>\n",
       "    <tr>\n",
       "      <th>1000</th>\n",
       "      <td>0.22445</td>\n",
       "      <td>0.2159</td>\n",
       "      <td>0.22160</td>\n",
       "      <td>0.5000</td>\n",
       "      <td>0.5000</td>\n",
       "      <td>0.5000</td>\n",
       "    </tr>\n",
       "    <tr>\n",
       "      <th>10000</th>\n",
       "      <td>0.22160</td>\n",
       "      <td>0.2159</td>\n",
       "      <td>0.22160</td>\n",
       "      <td>0.5000</td>\n",
       "      <td>0.5000</td>\n",
       "      <td>0.5000</td>\n",
       "    </tr>\n",
       "  </tbody>\n",
       "</table>\n",
       "</div>"
      ],
      "text/plain": [
       "       Mean #1  Mean #2  Mean #3  Max #1  Max #2  Max #3\n",
       "1      0.23300   0.3977  0.48860  0.2330  0.3977  0.4886\n",
       "10     0.22160   0.1932  0.22725  0.3807  0.3693  0.3977\n",
       "100    0.26420   0.1733  0.21590  0.4943  0.4886  0.4830\n",
       "1000   0.22445   0.2159  0.22160  0.5000  0.5000  0.5000\n",
       "10000  0.22160   0.2159  0.22160  0.5000  0.5000  0.5000"
      ]
     },
     "execution_count": 9,
     "metadata": {},
     "output_type": "execute_result"
    }
   ],
   "source": [
    "import random\n",
    "import pandas as pd\n",
    "arr = np.ndarray(shape=(5, 6), dtype=float)\n",
    "samp_sizes = [1, 10, 100, 1000, 10000]\n",
    "for rep in range(3):\n",
    "    for si, samp_size in enumerate([1, 10, 100, 1000, 10000]):\n",
    "        my_vals = random.sample(mafs, samp_size)\n",
    "        arr[si, rep] = np.median(my_vals)\n",
    "        arr[si, rep + 3] = max(my_vals)\n",
    "df = pd.DataFrame(arr, index=samp_sizes,\n",
    "                  columns=['Mean #1', 'Mean #2', 'Mean #3', 'Max #1', 'Max #2', 'Max #3'])\n",
    "df"
   ]
  },
  {
   "cell_type": "code",
   "execution_count": 10,
   "metadata": {
    "collapsed": false
   },
   "outputs": [],
   "source": [
    "#bill gates effect"
   ]
  }
 ],
 "metadata": {
  "kernelspec": {
   "display_name": "Python 2",
   "language": "python",
   "name": "python2"
  },
  "language_info": {
   "codemirror_mode": {
    "name": "ipython",
    "version": 2
   },
   "file_extension": ".py",
   "mimetype": "text/x-python",
   "name": "python",
   "nbconvert_exporter": "python",
   "pygments_lexer": "ipython2",
   "version": "2.7.9"
  }
 },
 "nbformat": 4,
 "nbformat_minor": 0
}
