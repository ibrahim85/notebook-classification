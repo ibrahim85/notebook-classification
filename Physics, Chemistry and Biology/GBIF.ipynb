{
 "cells": [
  {
   "cell_type": "code",
   "execution_count": 1,
   "metadata": {
    "collapsed": false
   },
   "outputs": [],
   "source": [
    "from __future__ import print_function\n",
    "\n",
    "from collections import defaultdict\n",
    "\n",
    "import requests\n",
    "\n",
    "import numpy as np\n",
    "import matplotlib.pyplot as plt\n",
    "%matplotlib inline"
   ]
  },
  {
   "cell_type": "code",
   "execution_count": 2,
   "metadata": {
    "collapsed": true
   },
   "outputs": [],
   "source": [
    "def do_request(service, a1=None, a2=None, a3=None, **kwargs):\n",
    "    server = 'http://api.gbif.org/v1'\n",
    "    params = ''\n",
    "    for a in [a1, a2, a3]:\n",
    "        if a is not None:\n",
    "            params += '/' + a\n",
    "    req = requests.get('%s/%s%s' % (server, service, params),\n",
    "                       params=kwargs,\n",
    "                       headers={'Content-Type': 'application/json'})\n",
    "    if not req.ok:\n",
    "        req.raise_for_status()\n",
    "    return req.json()"
   ]
  },
  {
   "cell_type": "code",
   "execution_count": 3,
   "metadata": {
    "collapsed": false
   },
   "outputs": [
    {
     "name": "stdout",
     "output_type": "stream",
     "text": [
      "19206\n"
     ]
    },
    {
     "data": {
      "text/plain": [
       "{u'authorship': u'',\n",
       " u'canonicalName': u'Ursus white bear',\n",
       " u'class': u'Mammalia',\n",
       " u'classKey': 106223020,\n",
       " u'datasetKey': u'fab88965-e69d-4491-a04d-e3198b626e52',\n",
       " u'descriptions': [],\n",
       " u'family': u'Ursidae',\n",
       " u'familyKey': 106657396,\n",
       " u'genus': u'Ursus',\n",
       " u'genusKey': 106658119,\n",
       " u'habitats': [],\n",
       " u'higherClassificationMap': {u'106148414': u'Metazoa',\n",
       "  u'106151875': u'Carnivora',\n",
       "  u'106223020': u'Mammalia',\n",
       "  u'106522535': u'Chordata',\n",
       "  u'106657396': u'Ursidae',\n",
       "  u'106658119': u'Ursus'},\n",
       " u'key': 106189791,\n",
       " u'kingdom': u'Metazoa',\n",
       " u'kingdomKey': 106148414,\n",
       " u'nameType': u'SCINAME',\n",
       " u'nomenclaturalStatus': [],\n",
       " u'numDescendants': 0,\n",
       " u'numOccurrences': 0,\n",
       " u'order': u'Carnivora',\n",
       " u'orderKey': 106151875,\n",
       " u'parent': u'Ursus',\n",
       " u'parentKey': 106658119,\n",
       " u'phylum': u'Chordata',\n",
       " u'phylumKey': 106522535,\n",
       " u'rank': u'SPECIES',\n",
       " u'scientificName': u'Ursus sp. Shennongjia white bear',\n",
       " u'species': u'Ursus white bear',\n",
       " u'speciesKey': 106189791,\n",
       " u'synonym': False,\n",
       " u'taxonID': u'373678',\n",
       " u'threatStatuses': [],\n",
       " u'vernacularNames': []}"
      ]
     },
     "execution_count": 3,
     "metadata": {},
     "output_type": "execute_result"
    }
   ],
   "source": [
    "req = do_request('species', 'search', q='bear')\n",
    "print(req['count'])\n",
    "req['results'][0]"
   ]
  },
  {
   "cell_type": "code",
   "execution_count": 4,
   "metadata": {
    "collapsed": false
   },
   "outputs": [
    {
     "name": "stdout",
     "output_type": "stream",
     "text": [
      "645\n"
     ]
    },
    {
     "data": {
      "text/plain": [
       "{u'authorship': u'G. Fischer de Waldheim, 1817',\n",
       " u'canonicalName': u'Ursidae',\n",
       " u'class': u'Mammalia',\n",
       " u'classKey': 143045262,\n",
       " u'datasetKey': u'cbb6498e-8927-405a-916b-576d00a6289b',\n",
       " u'descriptions': [{u'description': u'Below follows a list of the different species of bears. Bears indented are a subspecies or type of the species listed above it that is non-indented.'},\n",
       "  {u'description': u'American Black Bear Cinnamon Bear Kermode Bear Asiatic Black Bear Baluchistan Bear or Pakistan Black Bear Formosan black bear Brown bear Atlas bear Bergman\\'s bear Blue bear Eurasian brown bear European brown bear Gobi bear Grizzly bear Himalayan brown bear Nandi bear Ussuri brown bear Kamchatka brown bear Kodiak bear Marsican brown bear (critically endangered) Mexican grizzly bear East Siberian brown bear Syrian brown bear Giant Panda Qinling Panda Sloth bear Sri Lankan sloth bear Sun bear Polar bear Ursid hybrid Grizzly\\u2013polar bear hybrid Spectacled Bear Extinct bear species Agriotherium Tremarctos floridanus Florida spectacled bear Ailuropoda microta Dwarf Giant Panda Ursus Arctos Californicus \"California Grizzly Bear\"'}],\n",
       " u'extinct': False,\n",
       " u'family': u'Ursidae',\n",
       " u'familyKey': 110503853,\n",
       " u'habitats': [],\n",
       " u'higherClassificationMap': {u'116630539': u'Animalia',\n",
       "  u'143035196': u'Chordata',\n",
       "  u'143045262': u'Mammalia',\n",
       "  u'143045479': u'Carnivora'},\n",
       " u'key': 110503853,\n",
       " u'kingdom': u'Animalia',\n",
       " u'kingdomKey': 116630539,\n",
       " u'nameType': u'WELLFORMED',\n",
       " u'nomenclaturalStatus': [],\n",
       " u'nubKey': 9681,\n",
       " u'numDescendants': 35,\n",
       " u'numOccurrences': 0,\n",
       " u'order': u'Carnivora',\n",
       " u'orderKey': 143045479,\n",
       " u'parent': u'Carnivora',\n",
       " u'parentKey': 143045479,\n",
       " u'phylum': u'Chordata',\n",
       " u'phylumKey': 143035196,\n",
       " u'rank': u'FAMILY',\n",
       " u'scientificName': u'Ursidae G. Fischer de Waldheim, 1817',\n",
       " u'synonym': False,\n",
       " u'taxonID': u'1599257',\n",
       " u'threatStatuses': [],\n",
       " u'vernacularNames': [{u'language': u'eng', u'vernacularName': u'Bear'}]}"
      ]
     },
     "execution_count": 4,
     "metadata": {},
     "output_type": "execute_result"
    }
   ],
   "source": [
    "req_short = do_request('species', 'search', q='bear', rank='family')\n",
    "print(req_short['count'])\n",
    "bear = req_short['results'][0]\n",
    "bear"
   ]
  },
  {
   "cell_type": "code",
   "execution_count": 5,
   "metadata": {
    "collapsed": false,
    "scrolled": false
   },
   "outputs": [],
   "source": [
    "import time\n",
    "def get_all_records(rec_field, service, a1=None, a2=None, a3=None, **kwargs):\n",
    "    records = []\n",
    "    all_done = False\n",
    "    offset = 0\n",
    "    num_iter = 0\n",
    "    while not all_done and num_iter < 100:  # arbitrary\n",
    "        req = do_request(service, a1=a1, a2=a2, a3=a3, offset=offset, **kwargs)\n",
    "        all_done = req['endOfRecords']\n",
    "        if not all_done:\n",
    "            time.sleep(1)\n",
    "        offset += req['limit']\n",
    "        records.extend(req[rec_field])\n",
    "        num_iter += 1\n",
    "    return records"
   ]
  },
  {
   "cell_type": "code",
   "execution_count": 6,
   "metadata": {
    "collapsed": false
   },
   "outputs": [],
   "source": [
    "def get_leaves(nub):\n",
    "    leaves = []\n",
    "    recs = get_all_records('results', 'species', str(nub), 'children')\n",
    "    if len(recs) == 0:\n",
    "        return None\n",
    "    for rec in recs:\n",
    "        rec_leaves = get_leaves(rec['nubKey'])\n",
    "        if rec_leaves is None:\n",
    "            leaves.append(rec)\n",
    "        else:\n",
    "            leaves.extend(rec_leaves)\n",
    "    return leaves"
   ]
  },
  {
   "cell_type": "code",
   "execution_count": 7,
   "metadata": {
    "collapsed": false
   },
   "outputs": [],
   "source": [
    "records = get_all_records('results', 'species', str(bear['nubKey']), 'children')\n",
    "leaves = get_leaves(bear['nubKey'])"
   ]
  },
  {
   "cell_type": "code",
   "execution_count": 8,
   "metadata": {
    "collapsed": false,
    "scrolled": false
   },
   "outputs": [
    {
     "name": "stdout",
     "output_type": "stream",
     "text": [
      "Agriarctos Kretzoi, 1942 GENUS \n",
      "Ailurarctos Qiu Zhanxiang & Qi Guoquin, 1989 GENUS \n",
      "Ailuropoda baconi SPECIES \n",
      "Ailuropoda fovealis SPECIES \n",
      "Ailuropoda melanoleuca (David, 1869) SPECIES Bamboo Bear\n",
      "Ailuropoda microta SPECIES \n",
      "Ailuropoda wulingshanensis SPECIES \n",
      "Cynodon helveticus SPECIES \n",
      "Arctodus pristinus SPECIES \n",
      "Arctodus simus SPECIES \n",
      "Harpaleocyon Hürzeler, 1944 GENUS \n",
      "Helarctos malayanus euryspilus Horsfield, 1825 SUBSPECIES \n",
      "Helarctos malayanus subsp. malayanus SUBSPECIES \n",
      "Hyaenarctos Owen, 1845 GENUS \n",
      "Indarctos anthracitis SPECIES \n",
      "Indarctos arctoides SPECIES \n",
      "Indarctos atticus SPECIES \n",
      "Indarctos nevadensis SPECIES \n",
      "Indarctos oregonensis SPECIES \n",
      "Indarctos salmontanus SPECIES \n",
      "Indarctos vireti SPECIES \n",
      "Indarctos zdanskyi SPECIES \n",
      "Melursus ursinus inornatus Pucheran, 1855 SUBSPECIES Sri Lankan Sloth Bear\n",
      "Melursus ursinus ursinus (Shaw, 1791) SUBSPECIES \n",
      "Metarctos Gaudry, 1860 GENUS \n",
      "Myadus GENUS \n",
      "Pararctotherium Ameghino, 1904 GENUS \n",
      "Phoberocyon aurelianensis SPECIES \n",
      "Phoberocyon huerzeleri SPECIES \n",
      "Phoberocyon johnhenryi SPECIES \n",
      "Plionarctos edensis SPECIES \n",
      "Plionarctos harroldorum SPECIES \n",
      "Thalarctos Gray, 1825 GENUS \n",
      "Thaumastocyon GENUS \n",
      "Tremarctos floridanus SPECIES \n",
      "Tremarctos ornatus (F. G. Cuvier, 1825) SPECIES Spectacled Bear\n",
      "Ursavus brevirhinus SPECIES \n",
      "Ursavus elmensis SPECIES \n",
      "Ursavus pawniensis SPECIES \n",
      "Ursavus primaevus SPECIES \n",
      "Ursus abstrusus SPECIES \n",
      "Ursus americanus altifrontalis Elliot, 1903 SUBSPECIES \n",
      "Ursus americanus amblyceps Baird, 1859 SUBSPECIES \n",
      "Ursus americanus californiensis Miller, 1900 SUBSPECIES \n",
      "Ursus americanus carlottae Osgood, 1901 SUBSPECIES Haida Gwaii Black Bear\n",
      "Ursus americanus cinnamomum Audubon & Bachman, 1854 SUBSPECIES Cinnamon bear\n",
      "Ursus americanus emmonsii Dall, 1895 SUBSPECIES Glacier bear\n",
      "Ursus americanus eremicus Merriam, 1904 SUBSPECIES \n",
      "Ursus americanus floridanus Merriam, 1896 SUBSPECIES Florida black bear\n",
      "Ursus americanus hamiltoni Cameron, 1957 SUBSPECIES Newfoundland Black Bear\n",
      "Ursus americanus kermodei Hornaday, 1905 SUBSPECIES Kermode bear\n",
      "Ursus americanus luteolus Griffith, 1821 SUBSPECIES \n",
      "Ursus americanus machetes Elliot, 1903 SUBSPECIES \n",
      "Ursus americanus perniger J. A. Allen, 1910 SUBSPECIES \n",
      "Ursus americanus pugnax Swarth, 1911 SUBSPECIES \n",
      "Ursus americanus subsp. americanus SUBSPECIES \n",
      "Ursus americanus vancouveri Hall, 1928 SUBSPECIES \n",
      "Ursus arctos alascensis Merriam, 1896 SUBSPECIES \n",
      "Ursus arctos beringianus Middendorff, 1851 SUBSPECIES Kamchatka brown bear\n",
      "Ursus arctos californicus Merriam, 1896 SUBSPECIES California grizzly bear\n",
      "Ursus arctos collaris F. G. Cuvier, 1824 SUBSPECIES East Siberian Brown Bear\n",
      "Ursus arctos crowtheri Schinz, 1844 SUBSPECIES Atlas bear\n",
      "Ursus arctos dalli Merriam, 1896 SUBSPECIES \n",
      "Ursus arctos gyas Merriam, 1902 SUBSPECIES \n",
      "Ursus arctos horribilis Ord, 1815 SUBSPECIES Alaska Peninsula Brown Bear\n",
      "Ursus arctos isabellinus Horsfield, 1826 SUBSPECIES Himalayan Brown Bear\n",
      "Ursus arctos lasiotus Gray, 1867 SUBSPECIES Ussuri Brown Bear\n",
      "Ursus arctos middendorffi Merriam, 1896 SUBSPECIES Kodiak bear\n",
      "Ursus arctos pruinosus Blyth, 1854 SUBSPECIES \n",
      "Ursus arctos sitkensis Merriam, 1896 SUBSPECIES ABC Brown Bears\n",
      "Ursus arctos stikeenensis Merriam, 1914 SUBSPECIES \n",
      "Ursus arctos subsp. arctos SUBSPECIES Eurasian brown bear\n",
      "Ursus arctos syriacus Hemprich & Ehrenberg, 1828 SUBSPECIES Syrian brown bear\n",
      "Ursus inopinatus SPECIES MacFarlane s bear\n",
      "Ursus malayanus SPECIES \n",
      "Ursus maritimus Phipps, 1774 SPECIES Polar Bear\n",
      "Ursus spelaeus Rosenmüller & Heinroth SPECIES Cave bear\n",
      "Ursus thibetanus formosanus Swinhoe, 1864 SUBSPECIES Formosan black bear\n",
      "Ursus thibetanus gedrosianus Blanford, 1877 SUBSPECIES Baluchistan Bear\n",
      "Ursus thibetanus japonicus Schlegel, 1857 SUBSPECIES \n",
      "Ursus thibetanus laniger (Pocock, 1932) SUBSPECIES \n",
      "Ursus thibetanus mupinensis (Heude, 1901) SUBSPECIES \n",
      "Ursus thibetanus subsp. thibetanus SUBSPECIES \n",
      "Ursus thibetanus ussuricus (Heude, 1901) SUBSPECIES \n"
     ]
    }
   ],
   "source": [
    "#[leaf['nameType'] for leaf in leaves]\n",
    "for rec in leaves:\n",
    "    print(rec['scientificName'], rec['rank'], end=' ')\n",
    "    vernaculars = do_request('species', str(rec['nubKey']), 'vernacularNames', language='en')['results']\n",
    "    for vernacular in vernaculars:\n",
    "        if vernacular['language'] == 'eng':\n",
    "            print(vernacular['vernacularName'], end='')\n",
    "            break\n",
    "    print()"
   ]
  },
  {
   "cell_type": "code",
   "execution_count": 9,
   "metadata": {
    "collapsed": false,
    "scrolled": false
   },
   "outputs": [],
   "source": [
    "basis_of_record = defaultdict(int)\n",
    "country = defaultdict(int)\n",
    "zero_occurrences = 0\n",
    "count_extinct = 0\n",
    "for rec in leaves:\n",
    "    #print(rec['scientificName'], rec['rank'], rec['taxonID'])\n",
    "    occurrences = get_all_records('results', 'occurrence', 'search', taxonKey=rec['nubKey'])\n",
    "    for occurrence in occurrences:\n",
    "        basis_of_record[occurrence['basisOfRecord']] += 1\n",
    "        country[occurrence.get('country', 'NA')] += 1\n",
    "        #there is also publisingCountry\n",
    "    if len(occurrences) > 0:\n",
    "        zero_occurrences += 1\n",
    "    profiles = do_request('species', str(rec['nubKey']), 'speciesProfiles')['results']\n",
    "    for profile in profiles:\n",
    "        if profile.get('extinct', False):\n",
    "            count_extinct += 1\n",
    "            break"
   ]
  },
  {
   "cell_type": "code",
   "execution_count": 10,
   "metadata": {
    "collapsed": false
   },
   "outputs": [
    {
     "data": {
      "text/plain": [
       "<matplotlib.text.Text at 0x7f91c3a463d0>"
      ]
     },
     "execution_count": 10,
     "metadata": {},
     "output_type": "execute_result"
    },
    {
     "data": {
      "image/png": "[encoded data removed]",
      "text/plain": [
       "<matplotlib.figure.Figure at 0x7f91c514b6d0>"
      ]
     },
     "metadata": {},
     "output_type": "display_data"
    }
   ],
   "source": [
    "countries, obs_countries = zip(*sorted(country.items(), key=lambda x: x[1]))\n",
    "basis_name, basis_cnt = zip(*sorted(basis_of_record.items(), key=lambda x: x[1]))\n",
    "fig = plt.figure(figsize=(16, 9))\n",
    "ax = fig.add_subplot(1, 2, 1)\n",
    "ax.barh(np.arange(10) - 0.5, obs_countries[-10:])\n",
    "ax.set_title('Top 10 countries per occurences')\n",
    "ax.set_yticks(range(10))\n",
    "ax.set_ylim(0.5, 9.5)\n",
    "ax.set_yticklabels(countries[-10:])\n",
    "#refer metadata problems\n",
    "\n",
    "ax = fig.add_subplot(2, 2, 2)\n",
    "ax.set_title('Basis of record')\n",
    "ax.bar(np.arange(len(basis_name)), basis_cnt, color='g')\n",
    "basis_name = [x.replace('OBSERVATION', 'OBS').replace('_SPECIMEN', '') for x in basis_name]\n",
    "ax.set_xticks(0.5 + np.arange(len(basis_name)))\n",
    "ax.set_xticklabels(basis_name, size='x-small')\n",
    "\n",
    "ax = fig.add_subplot(2, 2, 4)\n",
    "other = len(leaves) - zero_occurrences - count_extinct\n",
    "pie_values = [zero_occurrences, count_extinct, other]\n",
    "labels = ['No occurence (%d)' % zero_occurrences,\n",
    "          'Extinct (%d)' % count_extinct, 'Other (%d)' % other]\n",
    "ax.pie(pie_values, labels=labels,\n",
    "       colors=['cyan', 'magenta', 'yellow'])\n",
    "ax.set_title('Status for each species')"
   ]
  },
  {
   "cell_type": "code",
   "execution_count": 11,
   "metadata": {
    "collapsed": true
   },
   "outputs": [],
   "source": [
    "#distribution of observations of horribilis per year\n",
    "#probably not put..."
   ]
  },
  {
   "cell_type": "code",
   "execution_count": 12,
   "metadata": {
    "collapsed": false
   },
   "outputs": [],
   "source": [
    "horribilis = get_all_records('results', 'occurrence', 'search', taxonKey=6163845)"
   ]
  },
  {
   "cell_type": "code",
   "execution_count": 13,
   "metadata": {
    "collapsed": false
   },
   "outputs": [
    {
     "data": {
      "text/plain": [
       "[<matplotlib.lines.Line2D at 0x7f91c4d58910>]"
      ]
     },
     "execution_count": 13,
     "metadata": {},
     "output_type": "execute_result"
    },
    {
     "data": {
      "image/png": "[encoded data removed]",
      "text/plain": [
       "<matplotlib.figure.Figure at 0x7f91c3b965d0>"
      ]
     },
     "metadata": {},
     "output_type": "display_data"
    }
   ],
   "source": [
    "years = defaultdict(int)\n",
    "for x in horribilis:\n",
    "    years[x.get('year', None)] += 1\n",
    "xs, ys = zip(*[(y, cnt) for y, cnt in years.items() if y is not None])\n",
    "fig = plt.figure()\n",
    "ax = fig.add_subplot(111)\n",
    "ax.plot(xs, ys, '.')"
   ]
  },
  {
   "cell_type": "code",
   "execution_count": null,
   "metadata": {
    "collapsed": true
   },
   "outputs": [],
   "source": []
  }
 ],
 "metadata": {
  "kernelspec": {
   "display_name": "Python 2",
   "language": "python",
   "name": "python2"
  },
  "language_info": {
   "codemirror_mode": {
    "name": "ipython",
    "version": 2
   },
   "file_extension": ".py",
   "mimetype": "text/x-python",
   "name": "python",
   "nbconvert_exporter": "python",
   "pygments_lexer": "ipython2",
   "version": "2.7.9"
  }
 },
 "nbformat": 4,
 "nbformat_minor": 0
}
