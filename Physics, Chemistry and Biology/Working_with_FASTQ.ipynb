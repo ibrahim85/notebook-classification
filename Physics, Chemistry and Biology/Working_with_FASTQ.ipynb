{
 "cells": [
  {
   "cell_type": "markdown",
   "metadata": {},
   "source": [
    "# Getting the necessary data"
   ]
  },
  {
   "cell_type": "markdown",
   "metadata": {},
   "source": [
    "You just need to download this ~28 MB file only once"
   ]
  },
  {
   "cell_type": "code",
   "execution_count": 1,
   "metadata": {
    "collapsed": false
   },
   "outputs": [
    {
     "name": "stdout",
     "output_type": "stream",
     "text": [
      "--2015-08-06 12:55:05--  ftp://ftp.1000genomes.ebi.ac.uk/vol1/ftp/phase3/data/NA18489/sequence_read/SRR003265.filt.fastq.gz\n",
      "           => ‘SRR003265.filt.fastq.gz’\n",
      "Resolving ftp.1000genomes.ebi.ac.uk (ftp.1000genomes.ebi.ac.uk)... 193.62.192.8\n",
      "Connecting to ftp.1000genomes.ebi.ac.uk (ftp.1000genomes.ebi.ac.uk)|193.62.192.8|:21... connected.\n",
      "Logging in as anonymous ... Logged in!\n",
      "==> SYST ... done.    ==> PWD ... done.\n",
      "==> TYPE I ... done.  ==> CWD (1) /vol1/ftp/phase3/data/NA18489/sequence_read ... done.\n",
      "==> SIZE SRR003265.filt.fastq.gz ... 28919712\n",
      "==> PASV ... done.    ==> RETR SRR003265.filt.fastq.gz ... done.\n",
      "Length: 28919712 (28M) (unauthoritative)\n",
      "\n",
      "SRR003265.filt.fast 100%[=====================>]  27.58M  2.36MB/s   in 11s    \n",
      "\n",
      "2015-08-06 12:55:17 (2.42 MB/s) - ‘SRR003265.filt.fastq.gz’ saved [28919712]\n",
      "\n"
     ]
    }
   ],
   "source": [
    "!rm -f SRR003265.filt.fastq.gz 2>/dev/null\n",
    "!wget -nd ftp://ftp.1000genomes.ebi.ac.uk/vol1/ftp/phase3/data/NA18489/sequence_read/SRR003265.filt.fastq.gz"
   ]
  },
  {
   "cell_type": "markdown",
   "metadata": {},
   "source": [
    "# The recipe"
   ]
  },
  {
   "cell_type": "code",
   "execution_count": 2,
   "metadata": {
    "collapsed": false
   },
   "outputs": [],
   "source": [
    "from collections import defaultdict\n",
    "import gzip\n",
    "\n",
    "%matplotlib inline\n",
    "import seaborn as sns\n",
    "import matplotlib.pyplot as plt\n",
    "\n",
    "from Bio import SeqIO"
   ]
  },
  {
   "cell_type": "code",
   "execution_count": 3,
   "metadata": {
    "collapsed": false
   },
   "outputs": [
    {
     "name": "stdout",
     "output_type": "stream",
     "text": [
      "('SRR003265.31', 'SRR003265.31 3042NAAXX:3:1:1252:1819 length=51', Seq('GGGAAAAGAAAAACAAACAAACAAAAACAAAACACAGAAACAAAAAAACCA', SingleLetterAlphabet()))\n",
      "{'phred_quality': [40, 40, 40, 40, 40, 40, 40, 40, 40, 40, 40, 40, 40, 40, 40, 40, 40, 40, 40, 30, 23, 40, 32, 35, 29, 40, 16, 40, 40, 32, 35, 31, 40, 40, 39, 22, 40, 24, 20, 28, 31, 12, 31, 10, 22, 28, 13, 26, 20, 23, 23]}\n"
     ]
    }
   ],
   "source": [
    "recs = SeqIO.parse(gzip.open('SRR003265.filt.fastq.gz'), 'fastq')\n",
    "rec = next(recs)\n",
    "print(rec.id, rec.description, rec.seq)\n",
    "print(rec.letter_annotations)"
   ]
  },
  {
   "cell_type": "code",
   "execution_count": 4,
   "metadata": {
    "collapsed": false
   },
   "outputs": [
    {
     "name": "stdout",
     "output_type": "stream",
     "text": [
      "A: 28.60 7411965\n",
      "C: 21.00 5444053\n",
      "T: 29.58 7666885\n",
      "G: 20.68 5359334\n",
      "N: 0.14 37289\n"
     ]
    }
   ],
   "source": [
    "recs = SeqIO.parse(gzip.open('SRR003265.filt.fastq.gz'), 'fastq')\n",
    "cnt = defaultdict(int)\n",
    "for rec in recs:\n",
    "    for letter in rec.seq:\n",
    "        cnt[letter] += 1\n",
    "tot = sum(cnt.values())\n",
    "for letter, cnt in cnt.items():\n",
    "    print('%s: %.2f %d' % (letter, 100. * cnt / tot, cnt))"
   ]
  },
  {
   "cell_type": "code",
   "execution_count": 5,
   "metadata": {
    "collapsed": false
   },
   "outputs": [
    {
     "data": {
      "text/plain": [
       "(1, 51)"
      ]
     },
     "execution_count": 5,
     "metadata": {},
     "output_type": "execute_result"
    },
    {
     "data": {
      "image/png": "[encoded data removed]",
      "text/plain": [
       "<matplotlib.figure.Figure at 0x7f87274d0fd0>"
      ]
     },
     "metadata": {},
     "output_type": "display_data"
    }
   ],
   "source": [
    "recs = SeqIO.parse(gzip.open('SRR003265.filt.fastq.gz'), 'fastq')\n",
    "n_cnt = defaultdict(int)\n",
    "for rec in recs:\n",
    "    for i, letter in enumerate(rec.seq):\n",
    "        pos = i + 1\n",
    "        if letter == 'N':\n",
    "            n_cnt[pos] += 1\n",
    "seq_len = max(n_cnt.keys())\n",
    "positions = range(1, seq_len + 1)\n",
    "fig, ax = plt.subplots()\n",
    "ax.plot(positions, [n_cnt[x] for x in positions])\n",
    "ax.set_xlim(1, seq_len)"
   ]
  },
  {
   "cell_type": "code",
   "execution_count": 6,
   "metadata": {
    "collapsed": false
   },
   "outputs": [
    {
     "name": "stdout",
     "output_type": "stream",
     "text": [
      "0: 0.40 52229\n",
      "1: 1.52 200558\n",
      "2: 3.77 498679\n",
      "3: 4.04 533458\n",
      "4: 4.77 630923\n",
      "5: 4.88 645266\n",
      "6: 2.50 330834\n",
      "7: 2.51 331743\n",
      "8: 2.53 334410\n",
      "9: 2.51 332259\n",
      "10: 4.95 654154\n",
      "11: 2.41 318303\n",
      "12: 2.35 309918\n",
      "13: 2.28 301033\n",
      "14: 2.20 291341\n",
      "15: 2.12 280719\n",
      "16: 2.05 270431\n",
      "17: 1.97 259779\n",
      "18: 1.88 248982\n",
      "19: 1.81 239621\n",
      "20: 1.73 228923\n",
      "21: 1.66 219602\n",
      "22: 1.59 209905\n",
      "23: 1.52 201164\n",
      "24: 1.46 193259\n",
      "25: 1.40 184846\n",
      "26: 1.33 176263\n",
      "27: 1.28 168902\n",
      "28: 1.23 162226\n",
      "29: 1.17 154892\n",
      "30: 1.13 149449\n",
      "31: 1.08 142464\n",
      "32: 1.03 136763\n",
      "33: 0.99 131291\n",
      "34: 0.95 125624\n",
      "35: 0.91 120704\n",
      "36: 0.88 115701\n",
      "37: 0.84 111179\n",
      "38: 0.80 106290\n",
      "39: 0.78 102568\n",
      "40: 22.76 3007221\n"
     ]
    }
   ],
   "source": [
    "recs = SeqIO.parse(gzip.open('SRR003265.filt.fastq.gz'), 'fastq')\n",
    "cnt_qual = defaultdict(int)\n",
    "for rec in recs:\n",
    "    for i, qual in enumerate(rec.letter_annotations['phred_quality']):\n",
    "        if i < 25:\n",
    "            continue\n",
    "        cnt_qual[qual] += 1\n",
    "tot = sum(cnt_qual.values())\n",
    "for qual, cnt in cnt_qual.items():\n",
    "    print('%d: %.2f %d' % (qual, 100. * cnt / tot, cnt))"
   ]
  },
  {
   "cell_type": "code",
   "execution_count": 7,
   "metadata": {
    "collapsed": false
   },
   "outputs": [
    {
     "data": {
      "image/png": "[encoded data removed]",
      "text/plain": [
       "<matplotlib.figure.Figure at 0x7f87272fc790>"
      ]
     },
     "metadata": {},
     "output_type": "display_data"
    }
   ],
   "source": [
    "recs = SeqIO.parse(gzip.open('SRR003265.filt.fastq.gz'), 'fastq')\n",
    "qual_pos = defaultdict(list)\n",
    "for rec in recs:\n",
    "    for i, qual in enumerate(rec.letter_annotations['phred_quality']):\n",
    "        if i < 25 or qual == 40:\n",
    "            continue\n",
    "        pos = i + 1\n",
    "        qual_pos[pos].append(qual)\n",
    "vps = []\n",
    "poses = qual_pos.keys()\n",
    "poses.sort()\n",
    "for pos in poses:\n",
    "    vps.append(qual_pos[pos])\n",
    "fig, ax = plt.subplots()\n",
    "sns.boxplot(vps, ax=ax)\n",
    "ax.set_xticklabels([str(x) for x in range(26, max(qual_pos.keys()) + 1)])\n",
    "pass"
   ]
  },
  {
   "cell_type": "markdown",
   "metadata": {},
   "source": [
    "# There is more..."
   ]
  },
  {
   "cell_type": "markdown",
   "metadata": {},
   "source": [
    "## Do this to download the paired end data"
   ]
  },
  {
   "cell_type": "markdown",
   "metadata": {},
   "source": [
    "Be careful as this will be 1GB of data (and fully optional)"
   ]
  },
  {
   "cell_type": "code",
   "execution_count": 8,
   "metadata": {
    "collapsed": false
   },
   "outputs": [
    {
     "name": "stdout",
     "output_type": "stream",
     "text": [
      "--2015-02-18 13:41:27--  ftp://ftp.1000genomes.ebi.ac.uk/vol1/ftp/data/NA18489/sequence_read/SRR003265_1.filt.fastq.gz\n",
      "           => ‘SRR003265_1.filt.fastq.gz’\n",
      "Resolving ftp.1000genomes.ebi.ac.uk (ftp.1000genomes.ebi.ac.uk)... 193.62.192.8\n",
      "Connecting to ftp.1000genomes.ebi.ac.uk (ftp.1000genomes.ebi.ac.uk)|193.62.192.8|:21... connected.\n",
      "Logging in as anonymous ... Logged in!\n",
      "==> SYST ... done.    ==> PWD ... done.\n",
      "==> TYPE I ... done.  ==> CWD (1) /vol1/ftp/data/NA18489/sequence_read ... done.\n",
      "==> SIZE SRR003265_1.filt.fastq.gz ... 502660639\n",
      "==> PASV ... done.    ==> RETR SRR003265_1.filt.fastq.gz ... done.\n",
      "Length: 502660639 (479M) (unauthoritative)\n",
      "\n",
      "100%[======================================>] 502,660,639 6.29MB/s   in 68s    \n",
      "\n",
      "2015-02-18 13:42:36 (7.01 MB/s) - ‘SRR003265_1.filt.fastq.gz’ saved [502660639]\n",
      "\n",
      "--2015-02-18 13:42:36--  ftp://ftp.1000genomes.ebi.ac.uk/vol1/ftp/data/NA18489/sequence_read/SRR003265_2.filt.fastq.gz\n",
      "           => ‘SRR003265_2.filt.fastq.gz’\n",
      "Resolving ftp.1000genomes.ebi.ac.uk (ftp.1000genomes.ebi.ac.uk)... 193.62.192.8\n",
      "Connecting to ftp.1000genomes.ebi.ac.uk (ftp.1000genomes.ebi.ac.uk)|193.62.192.8|:21... connected.\n",
      "Logging in as anonymous ... Logged in!\n",
      "==> SYST ... done.    ==> PWD ... done.\n",
      "==> TYPE I ... done.  ==> CWD (1) /vol1/ftp/data/NA18489/sequence_read ... done.\n",
      "==> SIZE SRR003265_2.filt.fastq.gz ... 484084218\n",
      "==> PASV ... done.    ==> RETR SRR003265_2.filt.fastq.gz ... done.\n",
      "Length: 484084218 (462M) (unauthoritative)\n",
      "\n",
      "100%[======================================>] 484,084,218 6.41MB/s   in 68s    \n",
      "\n",
      "2015-02-18 13:43:44 (6.78 MB/s) - ‘SRR003265_2.filt.fastq.gz’ saved [484084218]\n",
      "\n"
     ]
    }
   ],
   "source": [
    "!rm -f SRR003265_1.filt.fastq.gz 2>/dev/null\n",
    "!rm -f SRR003265_2.filt.fastq.gz 2>/dev/null\n",
    "!wget ftp://ftp.1000genomes.ebi.ac.uk/vol1/ftp/data/NA18489/sequence_read/SRR003265_1.filt.fastq.gz\n",
    "!wget ftp://ftp.1000genomes.ebi.ac.uk/vol1/ftp/data/NA18489/sequence_read/SRR003265_2.filt.fastq.gz"
   ]
  },
  {
   "cell_type": "code",
   "execution_count": null,
   "metadata": {
    "collapsed": false
   },
   "outputs": [],
   "source": [
    "f1 = gzip.open('SRR003265_1.filt.fastq.gz')\n",
    "f2 = gzip.open('SRR003265_2.filt.fastq.gz')\n",
    "recs1 = SeqIO.parse(f1, 'fastq')\n",
    "recs2 = SeqIO.parse(f2, 'fastq')\n",
    "cnt = 0\n",
    "for rec1 in recs1:\n",
    "    next(recs2)\n",
    "    cnt +=1\n",
    "print('Number of pairs: %d' % cnt)"
   ]
  },
  {
   "cell_type": "markdown",
   "metadata": {},
   "source": [
    "## Only do the next cell on Python 3"
   ]
  },
  {
   "cell_type": "code",
   "execution_count": null,
   "metadata": {
    "collapsed": false
   },
   "outputs": [],
   "source": [
    "#f1 = gzip.open('SRR003265_1.filt.fastq.gz', 'rt', encoding='utf8')\n",
    "#f2 = gzip.open('SRR003265_2.filt.fastq.gz', 'rt', encoding='utf8')\n",
    "#recs1 = SeqIO.parse(f1, 'fastq')\n",
    "#recs2 = SeqIO.parse(f2, 'fastq')\n",
    "#cnt = 0\n",
    "#for rec1, rec2 in zip(recs1, recs2):\n",
    "#    cnt +=1\n",
    "#\n",
    "#print('Number of pairs: %d' % cnt)"
   ]
  }
 ],
 "metadata": {
  "kernelspec": {
   "display_name": "Python 2",
   "language": "python",
   "name": "python2"
  },
  "language_info": {
   "codemirror_mode": {
    "name": "ipython",
    "version": 2
   },
   "file_extension": ".py",
   "mimetype": "text/x-python",
   "name": "python",
   "nbconvert_exporter": "python",
   "pygments_lexer": "ipython2",
   "version": "2.7.10"
  }
 },
 "nbformat": 4,
 "nbformat_minor": 0
}
