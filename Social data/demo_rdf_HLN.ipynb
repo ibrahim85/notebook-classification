{
 "metadata": {
  "name": "demo RDF HLN"
 },
 "nbformat": 3,
 "nbformat_minor": 0,
 "worksheets": [
  {
   "cells": [
    {
     "cell_type": "heading",
     "level": 1,
     "metadata": {},
     "source": [
      "Extracting and manipulating article metadata (RDF) from Het Laatste Nieuws"
     ]
    },
    {
     "cell_type": "markdown",
     "metadata": {},
     "source": [
      "This is a very rough tutorial demonstrating the use of Python libraries for manipulating article metadata for articles on [Het Laatste Nieuws](http://www.hln.be/). We extract the metadata using a RDFa parser, demonstrate SPARQL queries against the metadata of a single article and multiple articles (using `pandas` to work with SPARQL query results) and finish with a silly example visualising query results."
     ]
    },
    {
     "cell_type": "heading",
     "level": 2,
     "metadata": {},
     "source": [
      "Setup"
     ]
    },
    {
     "cell_type": "markdown",
     "metadata": {},
     "source": [
      "Install requirements form manipulating RDF and RDFa. Optionally `pandas` is a useful library for manipulating SPARQL results in the form of a dataset.\n",
      "\n",
      "    pip install rdflib html5lib sparql-client pandas\n",
      "    pip install git+git://github.com/RDFLib/pyrdfa3.git"
     ]
    },
    {
     "cell_type": "code",
     "collapsed": false,
     "input": [
      "# load the required libraries\n",
      "import pyRdfa, sparql, pandas"
     ],
     "language": "python",
     "metadata": {},
     "outputs": [],
     "prompt_number": 44
    },
    {
     "cell_type": "heading",
     "level": 2,
     "metadata": {},
     "source": [
      "Load and query RDF for a single article"
     ]
    },
    {
     "cell_type": "markdown",
     "metadata": {},
     "source": [
      "Load the metadata embedded in the article HTML by using the RDFa parser. Store it in a Graph object `g`."
     ]
    },
    {
     "cell_type": "code",
     "collapsed": false,
     "input": [
      "p = pyRdfa.pyRdfa()\n",
      "article_url = 'http://www.hln.be/hln/nl/957/Binnenland/article/detail/1565024/2013/01/19/Charles-Michel-Als-N-VA-en-PS-zo-voortdoen-blokkeert-alles.dhtml'\n",
      "g = p.graph_from_source(article_url)"
     ],
     "language": "python",
     "metadata": {},
     "outputs": [],
     "prompt_number": 35
    },
    {
     "cell_type": "markdown",
     "metadata": {},
     "source": [
      "Serialize the graph containing the article metadata using the human readable Turtle-format."
     ]
    },
    {
     "cell_type": "code",
     "collapsed": false,
     "input": [
      "print g.serialize(format='turtle')"
     ],
     "language": "python",
     "metadata": {},
     "outputs": [
      {
       "output_type": "stream",
       "stream": "stdout",
       "text": [
        "@prefix article: <http://ogp.me/ns/article#> .\n",
        "@prefix fb: <http://ogp.me/ns/fb#> .\n",
        "@prefix og: <http://ogp.me/ns#> .\n",
        "\n",
        "<http://www.hln.be/hln/nl/957/Binnenland/article/detail/1565024/2013/01/19/Charles-Michel-Als-N-VA-en-PS-zo-voortdoen-blokkeert-alles.dhtml> og:description \"De PS en de N-VA zijn elkaars beste vijanden. Ze delen klappen uit, maar kunnen elkaar geen pijn doen want ze staan allebei in hun eigen ring te ...\";\n",
        "    og:image \"http://static3.hln.be/static/photo/2013/17/6/4/20130119112748/media_xl_5482999.jpg\";\n",
        "    og:site_name \"HLN\";\n",
        "    og:title \"Charles Michel: \\\"Als N-VA en PS zo voortdoen, blokkeert alles\\\" \";\n",
        "    og:type \"article\";\n",
        "    og:url \"http://www.hln.be/hln/nl/957/Binnenland/article/detail/1565024/2013/01/19/Charles-Michel-Als-N-VA-en-PS-zo-voortdoen-blokkeert-alles.dhtml\";\n",
        "    article:author \"http://www.hln.be/auteur/Stijn-Vossen\";\n",
        "    article:expiration_time \"2100-01-01T00:00:00MET\";\n",
        "    article:published_time \"2013-01-19T10:34:00MET\";\n",
        "    article:section \"Binnenland\";\n",
        "    article:tag \"charles michel\",\n",
        "        \"n va\",\n",
        "        \"politiek\",\n",
        "        \"ps\",\n",
        "        \"verkiezingen 2014\";\n",
        "    fb:app_id \"367957443214829\" .\n",
        "\n",
        "\n"
       ]
      }
     ],
     "prompt_number": 36
    },
    {
     "cell_type": "markdown",
     "metadata": {},
     "source": [
      "Select and print the article title and author (i.e. author url) using a SPARQL query on the graph `g`."
     ]
    },
    {
     "cell_type": "code",
     "collapsed": false,
     "input": [
      "q = \"\"\"\n",
      "SELECT ?title ?author_url\n",
      "WHERE { ?url <http://ogp.me/ns#title> ?title .\n",
      "        ?url <http://ogp.me/ns/article#author> ?author_url . } .\"\"\"\n",
      "for record in g.query(q).bindings:\n",
      "    print record.get('title'), record.get('author_url')"
     ],
     "language": "python",
     "metadata": {},
     "outputs": [
      {
       "output_type": "stream",
       "stream": "stdout",
       "text": [
        "Charles Michel: \"Als N-VA en PS zo voortdoen, blokkeert alles\"  http://www.hln.be/auteur/Stijn-Vossen\n"
       ]
      }
     ],
     "prompt_number": 40
    },
    {
     "cell_type": "heading",
     "level": 2,
     "metadata": {},
     "source": [
      "Query RDF over multiple articles"
     ]
    },
    {
     "cell_type": "markdown",
     "metadata": {},
     "source": [
      "I have collected the RDF metadat for a set of 200 articles over the last two weeks, and loaded it in a locally running [Fuseki](http://jena.apache.org/documentation/serving_data/index.html) instance. Instead of using the build-in `rdflib` SPARQL client to query a local grpah `g`, we the Fuseki SPARQL-endpoint using the Python [sparql-client](http://www.eionet.europa.eu/software/sparql-client/).\n",
      "\n",
      "As an example query we select all articles that have \"N-VA\" in the title, and return the link and the title for each of the 167 found articles, and optionally the author and the publishing date.\n",
      "\n",
      "We convert the SPARQL results to a `pandas` dataframe and use `pandas` and IPython together to render the results inline as HTML (the first 20 results)."
     ]
    },
    {
     "cell_type": "code",
     "collapsed": false,
     "input": [
      "q = \"\"\"\n",
      "SELECT ?url ?title ?author ?pubdate\n",
      "WHERE {\n",
      "    ?url <http://ogp.me/ns#title> ?title .\n",
      "    OPTIONAL {\n",
      "        ?url <http://ogp.me/ns/article#author> ?author .\n",
      "        ?url <http://ogp.me/ns/article#published_time> ?pubdate.\n",
      "    }\n",
      "    FILTER regex(?title, \"N-VA\", \"i\") }\n",
      "\"\"\"\n",
      "result = sparql.query('http://localhost:3030/ds/query', q)\n",
      "#for row in result:\n",
      "#   print row\n",
      "\n",
      "df = pandas.DataFrame(result.fetchall(), columns=result.variables)\n",
      "print 'Nr. of articles:', len(df)\n",
      "from IPython.core.display import HTML\n",
      "HTML(df[1:20].to_html())"
     ],
     "language": "python",
     "metadata": {},
     "outputs": [
      {
       "output_type": "stream",
       "stream": "stdout",
       "text": [
        "Nr. of articles: 167\n"
       ]
      },
      {
       "html": [
        "<table border=\"1\" class=\"dataframe\">\n",
        "  <thead>\n",
        "    <tr style=\"text-align: right;\">\n",
        "      <th></th>\n",
        "      <th>url</th>\n",
        "      <th>title</th>\n",
        "      <th>author</th>\n",
        "      <th>pubdate</th>\n",
        "    </tr>\n",
        "  </thead>\n",
        "  <tbody>\n",
        "    <tr>\n",
        "      <td><strong>1 </strong></td>\n",
        "      <td> http://www.hln.be/hln/nl/13816/Verkiezingen-20...</td>\n",
        "      <td> N-VA zetelt in 19 Vlaams-Brabantse coalities, ...</td>\n",
        "      <td>                                    None</td>\n",
        "      <td>                   None</td>\n",
        "    </tr>\n",
        "    <tr>\n",
        "      <td><strong>2 </strong></td>\n",
        "      <td> http://www.hln.be/hln/nl/13816/Verkiezingen-20...</td>\n",
        "      <td> N-VA, Groen en Open Vld vinden elkaar in distr...</td>\n",
        "      <td>      http://www.hln.be/auteur/Toon Mast</td>\n",
        "      <td> 2012-12-17T17:25:00MET</td>\n",
        "    </tr>\n",
        "    <tr>\n",
        "      <td><strong>3 </strong></td>\n",
        "      <td> http://www.hln.be/hln/nl/957/Binnenland/articl...</td>\n",
        "      <td> N-VA-burgemeester ziet terugkeercentrum in buu...</td>\n",
        "      <td>       http://www.hln.be/auteur/redactie</td>\n",
        "      <td> 2013-01-08T19:36:00MET</td>\n",
        "    </tr>\n",
        "    <tr>\n",
        "      <td><strong>4 </strong></td>\n",
        "      <td> http://www.hln.be/hln/nl/13816/Verkiezingen-20...</td>\n",
        "      <td> Aalsterse socialisten blijven in bestuur met N...</td>\n",
        "      <td>                                    None</td>\n",
        "      <td>                   None</td>\n",
        "    </tr>\n",
        "    <tr>\n",
        "      <td><strong>5 </strong></td>\n",
        "      <td> http://www.hln.be/hln/nl/957/Binnenland/articl...</td>\n",
        "      <td> N-VA: \"Niet alleen Glenn Audenaert keeg steekp...</td>\n",
        "      <td>                                    None</td>\n",
        "      <td>                   None</td>\n",
        "    </tr>\n",
        "    <tr>\n",
        "      <td><strong>6 </strong></td>\n",
        "      <td> http://www.hln.be/hln/nl/13816/Verkiezingen-20...</td>\n",
        "      <td> Antwerpse sp.a verbaasd door overstap gemeente...</td>\n",
        "      <td>                                    None</td>\n",
        "      <td>                   None</td>\n",
        "    </tr>\n",
        "    <tr>\n",
        "      <td><strong>7 </strong></td>\n",
        "      <td> http://www.hln.be/hln/nl/13816/Verkiezingen-20...</td>\n",
        "      <td>          Denert (N-VA) verliest sjerp in Kruibeke</td>\n",
        "      <td>                                    None</td>\n",
        "      <td>                   None</td>\n",
        "    </tr>\n",
        "    <tr>\n",
        "      <td><strong>8 </strong></td>\n",
        "      <td> http://www.hln.be/hln/nl/4833/Gevangenissen/ar...</td>\n",
        "      <td> N-VA pleit voor gevangenis op militair domein ...</td>\n",
        "      <td>                                    None</td>\n",
        "      <td>                   None</td>\n",
        "    </tr>\n",
        "    <tr>\n",
        "      <td><strong>9 </strong></td>\n",
        "      <td> http://www.hln.be/hln/nl/13816/Verkiezingen-20...</td>\n",
        "      <td> Oud-VB-voorzitter Frank Vanhecke roept op om N...</td>\n",
        "      <td>                                    None</td>\n",
        "      <td>                   None</td>\n",
        "    </tr>\n",
        "    <tr>\n",
        "      <td><strong>10</strong></td>\n",
        "      <td> http://www.hln.be/hln/nl/13816/Verkiezingen-20...</td>\n",
        "      <td> N-VA Zaventem daagt vijf mandatarissen voor Ra...</td>\n",
        "      <td>                                    None</td>\n",
        "      <td>                   None</td>\n",
        "    </tr>\n",
        "    <tr>\n",
        "      <td><strong>11</strong></td>\n",
        "      <td> http://www.hln.be/hln/nl/957/Binnenland/articl...</td>\n",
        "      <td> Rutten: \"Di Rupo focust beter op beleid, niet ...</td>\n",
        "      <td> http://www.hln.be/auteur/Steven-Peeters</td>\n",
        "      <td> 2013-01-07T10:16:00MET</td>\n",
        "    </tr>\n",
        "    <tr>\n",
        "      <td><strong>12</strong></td>\n",
        "      <td> http://www.hln.be/hln/nl/13816/Verkiezingen-20...</td>\n",
        "      <td> N-VA-kandidaat in Tremelo belooft gratis te zu...</td>\n",
        "      <td>                                    None</td>\n",
        "      <td>                   None</td>\n",
        "    </tr>\n",
        "    <tr>\n",
        "      <td><strong>13</strong></td>\n",
        "      <td> http://www.hln.be/hln/nl/13816/Verkiezingen-20...</td>\n",
        "      <td>     Mark Demesmaeker (N-VA) van Halle naar Europa</td>\n",
        "      <td>                                    None</td>\n",
        "      <td>                   None</td>\n",
        "    </tr>\n",
        "    <tr>\n",
        "      <td><strong>14</strong></td>\n",
        "      <td> http://www.hln.be/hln/nl/2741/KV-Kortrijk/arti...</td>\n",
        "      <td> N-VA-ministers tegen lessen Frans bij KV Kortrijk</td>\n",
        "      <td>                                    None</td>\n",
        "      <td>                   None</td>\n",
        "    </tr>\n",
        "    <tr>\n",
        "      <td><strong>15</strong></td>\n",
        "      <td> http://www.hln.be/hln/nl/13816/Verkiezingen-20...</td>\n",
        "      <td>          Open Vld en N-VA smeden coalitie in Niel</td>\n",
        "      <td>                                    None</td>\n",
        "      <td>                   None</td>\n",
        "    </tr>\n",
        "    <tr>\n",
        "      <td><strong>16</strong></td>\n",
        "      <td> http://www.hln.be/hln/nl/13816/Verkiezingen-20...</td>\n",
        "      <td> Dewinter droomt van coalitie met N-VA in Antwe...</td>\n",
        "      <td>                                    None</td>\n",
        "      <td>                   None</td>\n",
        "    </tr>\n",
        "    <tr>\n",
        "      <td><strong>17</strong></td>\n",
        "      <td> http://www.hln.be/hln/nl/957/Binnenland/articl...</td>\n",
        "      <td> Marcourt: \"Succes N-VA zal investeerders afsch...</td>\n",
        "      <td>                                    None</td>\n",
        "      <td>                   None</td>\n",
        "    </tr>\n",
        "    <tr>\n",
        "      <td><strong>18</strong></td>\n",
        "      <td> http://www.hln.be/hln/nl/13816/Verkiezingen-20...</td>\n",
        "      <td> \"Stem op N-VA verhoogt kans op oven in Kampenh...</td>\n",
        "      <td>                                    None</td>\n",
        "      <td>                   None</td>\n",
        "    </tr>\n",
        "    <tr>\n",
        "      <td><strong>19</strong></td>\n",
        "      <td> http://www.hln.be/hln/nl/13816/Verkiezingen-20...</td>\n",
        "      <td> Nicht Emir Kir niet op N-VA-lijst Sint-Joost-t...</td>\n",
        "      <td>                                    None</td>\n",
        "      <td>                   None</td>\n",
        "    </tr>\n",
        "  </tbody>\n",
        "</table>"
       ],
       "output_type": "pyout",
       "prompt_number": 130,
       "text": [
        "<IPython.core.display.HTML at 0x53b9650>"
       ]
      }
     ],
     "prompt_number": 130
    },
    {
     "cell_type": "heading",
     "level": 2,
     "metadata": {},
     "source": [
      "Process results of multiple articles"
     ]
    },
    {
     "cell_type": "markdown",
     "metadata": {},
     "source": [
      "We demonstrate how you can use the basic article metadata using a silly example. For all the parsed articles on HLN that contain 'N-VA' in their title, we show the associated image for that article. \n",
      "\n",
      "It gives you a brief glimps/basic visualisation of the actors associated with such topics."
     ]
    },
    {
     "cell_type": "code",
     "collapsed": false,
     "input": [
      "q = \"\"\"\n",
      "SELECT ?img\n",
      "WHERE {\n",
      "    ?url <http://ogp.me/ns#title> ?title .\n",
      "    ?url <http://ogp.me/ns#image> ?img .\n",
      "    FILTER regex(?title, \"N-VA\", \"i\") }\n",
      "\"\"\"\n",
      "result = sparql.query('http://localhost:3030/ds/query', q)\n",
      "img_urls = [url[0] for url in result.fetchall()]\n",
      "img_urls = [str(url) for url in img_urls if 'logo' not in str(url)]"
     ],
     "language": "python",
     "metadata": {},
     "outputs": [],
     "prompt_number": 121
    },
    {
     "cell_type": "code",
     "collapsed": false,
     "input": [
      "html = ''\n",
      "for url in img_urls:\n",
      "    html = html + '<img src=' + url + '/>'\n",
      "HTML(html)"
     ],
     "language": "python",
     "metadata": {},
     "outputs": [
      {
       "html": [
        "<img src=http://static2.hln.be/static/photo/2012/14/8/8/20120916122206/media_l_5163758.jpg/><img src=http://static3.hln.be/static/photo/2012/18/12/4/20121024151153/media_l_5270029.jpg/><img src=http://static2.hln.be/static/photo/2012/16/7/7/20121217172303/media_xl_5410342.jpg/><img src=http://static3.hln.be/static/photo/2013/4/6/10/20130108194827/media_xl_5451940.jpg/><img src=http://static2.hln.be/static/photo/2012/10/0/13/20121106063130/media_l_5300668.jpg/><img src=http://static1.hln.be/static/photo/2012/7/3/7/20121020050248/media_l_5257117.jpg/><img src=http://static1.hln.be/static/photo/2012/0/4/7/20121014234251/media_l_5241682.jpg/><img src=http://static3.hln.be/static/photo/2012/7/15/14/20120907134538/media_l_5139659.jpg/><img src=http://static1.hln.be/static/photo/2012/12/12/9/20121012114949/media_l_5235519.jpg/><img src=http://static3.hln.be/static/photo/2013/10/2/10/20130107101644/media_xl_5446360.jpg/><img src=http://static3.hln.be/static/photo/2012/18/10/0/20121001173811/media_l_5207025.jpg/><img src=http://static1.hln.be/static/photo/2012/7/12/2/20121017113558/media_l_5249612.jpg/><img src=http://static2.hln.be/static/photo/2012/9/6/7/20121026170551/media_l_5276347.jpg/><img src=http://static0.hln.be/static/photo/2012/3/9/8/20120904123225/media_l_5131238.jpg/><img src=http://static1.hln.be/static/photo/2012/16/2/1/20121113150605/media_l_5323246.jpg/><img src=http://static0.hln.be/static/photo/2012/11/13/9/20121005175355/media_l_5219064.jpg/><img src=http://static0.hln.be/static/photo/2012/16/9/10/20120820172706/media_l_5099635.jpg/><img src=http://static3.hln.be/static/photo/2012/3/1/12/20120806162417/media_l_5061717.jpg/><img src=http://static3.hln.be/static/photo/2012/17/6/14/20121018102522/media_l_5252054.jpg/><img src=http://static3.hln.be/static/photo/2012/4/7/7/20121020112612/media_l_5257342.jpg/><img src=http://static2.hln.be/static/photo/2012/2/10/13/20120908075804/media_l_5142238.jpg/><img src=http://static0.hln.be/static/photo/2012/2/3/11/20121224130835/media_xl_5423666.jpg/><img src=http://static3.hln.be/static/photo/2012/1/11/2/20121206081552/media_xl_5380307.jpg/><img src=http://static3.hln.be/static/photo/2013/12/8/10/20130106050626/media_xl_5444785.jpg/><img src=http://static0.hln.be/static/photo/2012/17/8/1/20121206145254/media_xl_5381596.jpg/><img src=http://static3.hln.be/static/photo/2012/17/13/14/20121019125939/media_l_5255189.jpg/><img src=http://static2.hln.be/static/photo/2012/5/16/1/20121216115310/media_xl_5407291.jpg/><img src=http://static1.hln.be/static/photo/2012/12/9/8/20120909131904/media_l_5144243.jpg/><img src=http://static0.hln.be/static/photo/2012/3/5/13/20121122201939/media_xl_5347933.jpg/><img src=http://static1.hln.be/static/photo/2012/13/14/12/20121125211659/media_xl_5354232.jpg/><img src=http://static2.hln.be/static/photo/2013/5/8/14/20130103161517/media_xl_5440484.jpg/><img src=http://static1.hln.be/static/photo/2012/12/5/0/20121122180431/media_xl_5347695.jpg/><img src=http://static0.hln.be/static/photo/2012/17/1/4/20121109120102/media_l_5312569.jpg/><img src=http://static0.hln.be/static/photo/2012/12/8/9/20121217164537/media_xl_5410224.jpg/><img src=http://static3.hln.be/static/photo/2012/15/10/1/20120803203158/media_l_5053141.jpg/><img src=http://static2.hln.be/static/photo/2012/8/1/10/20121117164324/media_l_5332510.jpg/><img src=http://static3.hln.be/static/photo/2012/12/8/2/20121016094517/media_l_5245817.jpg/><img src=http://static1.hln.be/static/photo/2012/18/15/0/20121015020633/media_l_5241795.jpg/><img src=http://static2.hln.be/static/photo/2012/4/13/2/20121210201506/media_xl_5391767.jpg/><img src=http://static2.hln.be/static/photo/2012/2/1/10/20121014215604/media_l_5241475.jpg/><img src=http://static3.hln.be/static/photo/2013/14/3/12/20130108172138/media_xl_5451342.jpg/><img src=http://static1.hln.be/static/photo/2013/9/11/0/20130114101246/media_xl_5466480.jpg/><img src=http://static1.hln.be/static/photo/2012/14/10/14/20121101104114/media_l_5291039.jpg/><img src=http://static1.hln.be/static/photo/2012/12/12/14/20121120150556/media_xl_5340494.jpg/><img src=http://static3.hln.be/static/photo/2012/8/3/1/20121015013442/media_l_5241766.jpg/><img src=http://static0.hln.be/static/photo/2012/2/16/2/20120829100638/media_l_5117747.jpg/><img src=http://static0.hln.be/static/photo/2012/4/9/13/20121114184423/media_l_5326483.jpg/><img src=http://static1.hln.be/static/photo/2012/17/12/10/20121015004220/media_l_5241775.jpg/><img src=http://static2.hln.be/static/photo/2012/15/16/2/20120927164045/media_l_5196287.jpg/><img src=http://static2.hln.be/static/photo/2012/3/5/2/20120723050158/media_l_5011367.jpg/><img src=http://static3.hln.be/static/photo/2012/16/13/5/20121014215345/media_l_5241470.jpg/><img src=http://static0.hln.be/static/photo/2012/0/8/4/20121221114319/media_xl_5418724.jpg/><img src=http://static3.hln.be/static/photo/2012/15/0/7/20121014054314/media_l_5239417.jpg/><img src=http://static3.hln.be/static/photo/2012/4/8/13/20120724101637/media_l_5015263.jpg/><img src=http://static0.hln.be/static/photo/2012/10/6/5/20121119103903/media_l_5336255.jpg/><img src=http://static0.hln.be/static/photo/2013/13/4/11/20130107215722/media_xl_5448776.jpg/><img src=http://static1.hln.be/static/photo/2012/10/11/3/20120724134443/media_l_5016048.jpg/><img src=http://static1.hln.be/static/photo/2012/8/7/12/20121011175317/media_l_5234052.jpg/><img src=http://static0.hln.be/static/photo/2012/5/7/0/20121019164644/media_l_5255880.jpg/><img src=http://static2.hln.be/static/photo/2012/7/7/14/20121015041257/media_l_5241974.jpg/><img src=http://static1.hln.be/static/photo/2012/6/15/0/20121107150802/media_l_5306820.jpg/><img src=http://static2.hln.be/static/photo/2012/16/2/8/20120913202432/media_l_5158193.jpg/><img src=http://static2.hln.be/static/photo/2012/18/15/5/20120817171245/media_l_5094830.jpg/><img src=http://static2.hln.be/static/photo/2012/10/2/13/20120922172850/media_l_5181823.jpg/><img src=http://static2.hln.be/static/photo/2012/8/12/12/20121224153116/media_xl_5423862.jpg/><img src=http://static2.hln.be/static/photo/2012/12/15/2/20121211170111/media_xl_5394302.jpg/><img src=http://static1.hln.be/static/photo/2012/4/10/4/20120820121115/media_l_5098939.jpg/><img src=http://static1.hln.be/static/photo/2012/0/12/1/20120830132033/media_l_5120956.jpg/><img src=http://static1.hln.be/static/photo/2012/9/14/14/20121014222429/media_l_5241539.jpg/><img src=http://static3.hln.be/static/photo/2012/18/16/4/20121022214036/media_l_5264899.jpg/><img src=http://static1.hln.be/static/photo/2012/3/16/2/20121019205814/media_l_5256467.jpg/><img src=http://static0.hln.be/static/photo/2012/13/15/14/20120913181410/media_l_5158019.jpg/><img src=http://static1.hln.be/static/photo/2012/9/7/4/20121018000942/media_l_5251324.jpg/><img src=http://static1.hln.be/static/photo/2013/9/14/5/20130114182925/media_xl_5468285.jpg/><img src=http://static0.hln.be/static/photo/2013/2/16/14/20130109225922/media_xl_5454959.jpg/><img src=http://static1.hln.be/static/photo/2012/4/14/5/20121025181434/media_l_5273720.jpg/><img src=http://static0.hln.be/static/photo/2012/18/15/1/20121015095428/media_l_5242441.jpg/><img src=http://static3.hln.be/static/photo/2012/3/5/0/20121223123955/media_xl_5421900.jpg/><img src=http://static2.hln.be/static/photo/2012/15/2/12/20120917153854/media_l_5167407.jpg/><img src=http://static3.hln.be/static/photo/2012/7/0/9/20120913185638/media_l_5158089.jpg/><img src=http://static3.hln.be/static/photo/2012/8/14/14/20120826222056/media_l_5112509.jpg/><img src=http://static1.hln.be/static/photo/2012/14/13/8/20120914135935/media_l_5159768.jpg/><img src=http://static3.hln.be/static/photo/2012/10/12/3/20120831165505/media_l_5123778.jpg/><img src=http://static1.hln.be/static/photo/2012/0/16/8/20121015093550/media_l_5241473.jpg/><img src=http://static1.hln.be/static/photo/2012/0/8/5/20121228074738/media_xl_5429060.jpg/><img src=http://static3.hln.be/static/photo/2012/16/12/2/20120914174206/media_l_5160872.jpg/><img src=http://static2.hln.be/static/photo/2012/2/11/8/20120905194835/media_l_5135303.jpg/><img src=http://static0.hln.be/static/photo/2012/3/9/12/20121025232355/media_l_5274327.jpg/><img src=http://static2.hln.be/static/photo/2012/14/10/6/20120921114524/media_l_5179281.jpg/><img src=http://static3.hln.be/static/photo/2013/10/15/9/20130118104557/media_xl_5479914.jpg/><img src=http://static0.hln.be/static/photo/2013/16/2/5/20130110131937/media_xl_5456645.jpg/><img src=http://static0.hln.be/static/photo/2012/12/5/8/20121014213426/media_l_5241428.jpg/><img src=http://static1.hln.be/static/photo/2012/18/2/8/20120830114917/media_l_5120708.jpg/><img src=http://static2.hln.be/static/photo/2012/8/14/9/20121016000206/media_l_5244939.jpg/><img src=http://static3.hln.be/static/photo/2012/18/11/0/20121023122606/media_l_5266305.jpg/><img src=http://static3.hln.be/static/photo/2012/5/4/14/20121009150941/media_l_5227589.jpg/><img src=http://static0.hln.be/static/photo/2012/15/12/1/20120831142059/media_l_5123251.jpg/><img src=http://static0.hln.be/static/photo/2012/0/6/12/20121209053728/media_xl_5387697.jpg/><img src=http://static0.hln.be/static/photo/2013/16/5/10/20130107213654/media_xl_5448760.jpg/><img src=http://static2.hln.be/static/photo/2012/11/6/0/20120723080104/media_l_5011470.jpg/><img src=http://static2.hln.be/static/photo/2012/11/16/2/20120828155119/media_l_5116217.jpg/><img src=http://static1.hln.be/static/photo/2012/6/16/1/20120926110828/media_l_5192326.jpg/><img src=http://static1.hln.be/static/photo/2013/18/3/1/20130108172821/media_xl_5451631.jpg/><img src=http://static3.hln.be/static/photo/2012/6/10/11/20120910232328/media_l_5148341.jpg/><img src=http://static3.hln.be/static/photo/2012/15/13/2/20121007134251/media_l_5221937.jpg/><img src=http://static3.hln.be/static/photo/2012/17/2/7/20121013130150/media_l_5238127.jpg/><img src=http://static2.hln.be/static/photo/2012/11/10/12/20121015024837/media_l_5241807.jpg/><img src=http://static0.hln.be/static/photo/2012/2/0/6/20120722144111/media_l_5010036.jpg/><img src=http://static0.hln.be/static/photo/2012/10/16/12/20120903164838/media_l_5129307.jpg/><img src=http://static2.hln.be/static/photo/2013/2/1/5/20130117065046/media_xl_5475650.jpg/><img src=http://static3.hln.be/static/photo/2013/16/2/11/20130107042026/media_xl_5445986.jpg/><img src=http://static1.hln.be/static/photo/2012/3/0/0/20121015005238/media_l_5241780.jpg/><img src=http://static1.hln.be/static/photo/2012/4/12/11/20121003120400/media_l_5212331.jpg/><img src=http://static2.hln.be/static/photo/2012/8/0/5/20121014183917/media_l_5240930.jpg/><img src=http://static1.hln.be/static/photo/2012/14/11/11/20121130193740/media_xl_5367761.jpg/><img src=http://static3.hln.be/static/photo/2012/7/8/10/20121028095556/media_l_5279290.jpg/><img src=http://static2.hln.be/static/photo/2012/8/9/5/20121014220106/media_l_5241500.jpg/><img src=http://static2.hln.be/static/photo/2012/15/0/2/20121010205031/media_l_5231342.jpg/><img src=http://static1.hln.be/static/photo/2013/0/5/11/20130105170255/media_xl_5444051.jpg/><img src=http://static3.hln.be/static/photo/2012/18/12/6/20121030115118/media_l_5285856.jpg/><img src=http://static0.hln.be/static/photo/2012/0/6/1/20120827190023/media_l_5114116.jpg/><img src=http://static3.hln.be/static/photo/2012/3/10/2/20121211212751/media_xl_5394977.jpg/><img src=http://static2.hln.be/static/photo/2012/17/7/3/20120919121356/media_l_5173413.jpg/><img src=http://static2.hln.be/static/photo/2012/0/1/1/20120924095425/media_l_5185936.jpg/><img src=http://static2.hln.be/static/photo/2012/13/0/13/20120910062527/media_l_5145118.jpg/><img src=http://static0.hln.be/static/photo/2012/17/1/9/20120918145351/media_l_5170449.jpg/><img src=http://static0.hln.be/static/photo/2012/11/2/7/20121128015301/media_xl_5360272.jpg/><img src=http://static1.hln.be/static/photo/2012/16/5/9/20121029164440/media_l_5283384.jpg/><img src=http://static2.hln.be/static/photo/2013/12/8/2/20130109161332/media_xl_5454152.jpg/><img src=http://static3.hln.be/static/photo/2012/2/15/14/20121017153537/media_l_5250329.jpg/><img src=http://static2.hln.be/static/photo/2012/10/1/11/20120926221659/media_l_5193926.jpg/><img src=http://static0.hln.be/static/photo/2012/16/5/5/20120923170322/media_l_5183900.jpg/><img src=http://static3.hln.be/static/photo/2012/3/15/12/20120823162903/media_l_5106747.jpg/><img src=http://static0.hln.be/static/photo/2012/6/3/9/20121014170901/media_l_5240814.jpg/><img src=http://static1.hln.be/static/photo/2012/17/0/0/20120905143413/media_l_5134425.jpg/><img src=http://static1.hln.be/static/photo/2012/13/3/10/20121205220320/media_xl_5379160.jpg/><img src=http://static1.hln.be/static/photo/2012/12/9/9/20120901173744/media_l_5125509.jpg/><img src=http://static3.hln.be/static/photo/2012/10/9/10/20121014203046/media_l_5241160.jpg/><img src=http://static3.hln.be/static/photo/2012/9/1/7/20120725125022/media_l_5018707.jpg/><img src=http://static1.hln.be/static/photo/2012/0/6/10/20121103010625/media_l_5294350.jpg/><img src=http://static3.hln.be/static/photo/2012/4/1/7/20121021143631/media_l_5260192.jpg/><img src=http://static0.hln.be/static/photo/2012/2/13/1/20120905023648/media_l_5133061.jpg/><img src=http://static1.hln.be/static/photo/2012/10/16/8/20121015115122/media_l_5243003.jpg/><img src=http://static1.hln.be/static/photo/2012/10/8/4/20121010200837/media_l_5231299.jpg/><img src=http://static3.hln.be/static/photo/2012/1/4/10/20121210215531/media_xl_5392030.jpg/>"
       ],
       "output_type": "pyout",
       "prompt_number": 126,
       "text": [
        "<IPython.core.display.HTML at 0x52bb8d0>"
       ]
      }
     ],
     "prompt_number": 126
    }
   ],
   "metadata": {}
  }
 ]
}